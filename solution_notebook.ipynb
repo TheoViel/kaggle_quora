{
 "cells": [
  {
   "cell_type": "markdown",
   "metadata": {
    "_uuid": "01f361ddc47e0b386595316fe3d7f4dabbd260db"
   },
   "source": [
    "# Kernel for evaluating a single model with Cross Validation\n",
    "\n",
    "## TODO :\n",
    "* Less treatment\n",
    "* More Features\n",
    "* Faster embed loader\n",
    "* Improve embed merging\n",
    "* test different seeds"
   ]
  },
  {
   "cell_type": "code",
   "execution_count": 1,
   "metadata": {
    "_cell_guid": "b1076dfc-b9ad-4769-8c92-a6c4dae69d19",
    "_kg_hide-input": true,
    "_kg_hide-output": true,
    "_uuid": "8f2839f25d086af736a60e9eeb907d3b93b6e0e5"
   },
   "outputs": [
    {
     "name": "stderr",
     "output_type": "stream",
     "text": [
      "Using TensorFlow backend.\n"
     ]
    }
   ],
   "source": [
    "import re\n",
    "import gc\n",
    "import os\n",
    "import time\n",
    "import random\n",
    "import operator\n",
    "import numpy as np\n",
    "import pandas as pd\n",
    "import seaborn as sns\n",
    "from tqdm import tqdm\n",
    "import tensorflow as tf\n",
    "import matplotlib.pyplot as plt\n",
    "tqdm.pandas()\n",
    "\n",
    "from nltk import word_tokenize\n",
    "from collections import Counter\n",
    "from sklearn.utils import shuffle\n",
    "from tqdm import tqdm_notebook as tqdm\n",
    "from nltk.tokenize import TweetTokenizer\n",
    "from multiprocessing import Pool, cpu_count\n",
    "from keras.preprocessing.text import Tokenizer\n",
    "from sklearn.preprocessing import StandardScaler\n",
    "from sklearn.linear_model import LinearRegression\n",
    "from keras.preprocessing.sequence import pad_sequences\n",
    "from sklearn.metrics import roc_curve, precision_recall_curve, f1_score\n",
    "from sklearn.model_selection import train_test_split, StratifiedKFold, RepeatedStratifiedKFold\n",
    "\n",
    "import torch\n",
    "import torch.nn as nn\n",
    "import torch.utils.data\n",
    "\n",
    "import psutil\n",
    "import multiprocessing\n",
    "import markovify as mk\n",
    "\n",
    "import warnings\n",
    "warnings.simplefilter(action='ignore', category=FutureWarning)"
   ]
  },
  {
   "cell_type": "code",
   "execution_count": 2,
   "metadata": {
    "_kg_hide-input": true,
    "_uuid": "d4b9e0c513495041b334d2cd9f315a1f2aa8192f"
   },
   "outputs": [],
   "source": [
    "def seed_everything(seed):\n",
    "    random.seed(seed)\n",
    "    os.environ['PYTHONHASHSEED'] = str(seed)\n",
    "    np.random.seed(seed)\n",
    "    torch.manual_seed(seed)\n",
    "    torch.cuda.manual_seed(seed)\n",
    "    torch.backends.cudnn.deterministic = True\n",
    "    tf.set_random_seed(seed)"
   ]
  },
  {
   "cell_type": "code",
   "execution_count": 3,
   "metadata": {
    "_uuid": "47d523f2cd648ed8711606be396c348d1ca1b927"
   },
   "outputs": [
    {
     "data": {
      "text/plain": [
       "5583"
      ]
     },
     "execution_count": 3,
     "metadata": {},
     "output_type": "execute_result"
    }
   ],
   "source": [
    "seed = np.random.randint(10000)\n",
    "seed"
   ]
  },
  {
   "cell_type": "code",
   "execution_count": 4,
   "metadata": {
    "_uuid": "e784eedbc8234704b41156808743993c9da13d9f"
   },
   "outputs": [],
   "source": [
    "seed_everything(seed)\n",
    "begin = time.time()\n",
    "sns.set_style('whitegrid')"
   ]
  },
  {
   "cell_type": "code",
   "execution_count": 5,
   "metadata": {
    "_uuid": "37c27fe5ba1c3f1f672f47dcfaad8305ccde286a"
   },
   "outputs": [],
   "source": [
    "with_features = True"
   ]
  },
  {
   "cell_type": "code",
   "execution_count": 6,
   "metadata": {
    "_uuid": "775f0c12cbc7e65e5e0cd79e29dbe406e3524bee"
   },
   "outputs": [],
   "source": [
    "mode = \"kfold\"\n",
    "# mode = \"multifit\""
   ]
  },
  {
   "cell_type": "code",
   "execution_count": 7,
   "metadata": {
    "_uuid": "273f8d56af9ac2e322bb273b1c3153e6600e7e31",
    "scrolled": true
   },
   "outputs": [],
   "source": [
    "GLOVE = '../input/embeddings/glove.840B.300d/glove.840B.300d.txt'\n",
    "PARAGRAM = '../input/embeddings/paragram_300_sl999/paragram_300_sl999.txt'\n",
    "FASTTEXT = '../input/embeddings/wiki-news-300d-1M/wiki-news-300d-1M.vec'"
   ]
  },
  {
   "cell_type": "markdown",
   "metadata": {
    "_uuid": "63530632439404a85540565eb31c6390bddb33e9"
   },
   "source": [
    "# Text Data"
   ]
  },
  {
   "cell_type": "markdown",
   "metadata": {
    "_uuid": "e36041fbc5188f706645603c140cd4f09ec789d0"
   },
   "source": [
    "## Loading"
   ]
  },
  {
   "cell_type": "code",
   "execution_count": 8,
   "metadata": {
    "_cell_guid": "79c7e3d0-c299-4dcb-8224-4455121ee9b0",
    "_uuid": "d629ff2d2480ee46fbb7e2d37f6b5fab8052498a"
   },
   "outputs": [
    {
     "name": "stdout",
     "output_type": "stream",
     "text": [
      "Train shape :  (1306122, 3)\n",
      "Test shape :  (56370, 2)\n"
     ]
    }
   ],
   "source": [
    "train_df = pd.read_csv(\"../input/train.csv\")\n",
    "test_df = pd.read_csv(\"../input/test.csv\")\n",
    "print(\"Train shape : \",train_df.shape)\n",
    "print(\"Test shape : \",test_df.shape)"
   ]
  },
  {
   "cell_type": "markdown",
   "metadata": {
    "_uuid": "6ead9fc944079798e110e4a2334ae2aee51a4ebd"
   },
   "source": [
    "## Augmenting"
   ]
  },
  {
   "cell_type": "code",
   "execution_count": 9,
   "metadata": {
    "_uuid": "4fb9557b8b4d4b2c9276db295b9674a9f622f769"
   },
   "outputs": [],
   "source": [
    "augment_insincere_count = 0"
   ]
  },
  {
   "cell_type": "code",
   "execution_count": 10,
   "metadata": {
    "_kg_hide-input": true,
    "_uuid": "ba0221aa8c758bf10107b10f07370f41a4fab8af"
   },
   "outputs": [],
   "source": [
    "class MarkovifyTextAugmentor(object):\n",
    "    def __init__(self, docs, gen_max_len, filter_min_len=10):\n",
    "        \"\"\"\n",
    "        Build Markov models from large corpora of text, and generating random sentences from that.\n",
    "        \"\"\"\n",
    "        self.mk_text_model = mk.Text(docs)\n",
    "        self.gen_max_len = gen_max_len\n",
    "        self.filter_min_len = filter_min_len\n",
    "    \n",
    "    def genenerate(self, count):\n",
    "        texts = []\n",
    "        for _ in range(count):\n",
    "            text = self.mk_text_model.make_short_sentence(self.gen_max_len)\n",
    "            if text and len(text.split(' ')) > self.filter_min_len:\n",
    "                texts.append(text)\n",
    "        return texts"
   ]
  },
  {
   "cell_type": "code",
   "execution_count": 11,
   "metadata": {
    "_kg_hide-input": true,
    "_uuid": "cbaeeba88b8fdfa3913caab6ba219a8018317111"
   },
   "outputs": [],
   "source": [
    "insincere_df = train_df[train_df['target'] == 1]\n",
    "insincere_texts = insincere_df['question_text'].apply(\" \".join)\n",
    "median_length = int(insincere_texts.str.len().median())\n",
    "\n",
    "mk_augmentor = MarkovifyTextAugmentor(insincere_texts, median_length, filter_min_len=6)"
   ]
  },
  {
   "cell_type": "code",
   "execution_count": 12,
   "metadata": {
    "_uuid": "33bd41ca9d96547c34139aea9c3bcf2ba01b73b4"
   },
   "outputs": [
    {
     "name": "stdout",
     "output_type": "stream",
     "text": [
      "CPU times: user 4 ms, sys: 32 ms, total: 36 ms\n",
      "Wall time: 163 ms\n"
     ]
    }
   ],
   "source": [
    "%%time\n",
    "def gen_text_process(count):\n",
    "    return mk_augmentor.genenerate(count)\n",
    "\n",
    "num_cores = psutil.cpu_count()  # number of cores on your machine\n",
    "pool = multiprocessing.Pool(processes=num_cores)\n",
    "\n",
    "apply_results = []\n",
    "process_counts = augment_insincere_count // num_cores\n",
    "for _ in range(num_cores):\n",
    "    apply_results.append(pool.apply_async(gen_text_process, (process_counts,)))\n",
    "\n",
    "pool.close()\n",
    "pool.join()\n",
    "\n",
    "generated_texts = []\n",
    "for res in apply_results:\n",
    "    generated_texts.extend(res.get())"
   ]
  },
  {
   "cell_type": "code",
   "execution_count": 13,
   "metadata": {
    "_uuid": "6195a0d455e6caebd03fa55c3bd5956f9e2a482d"
   },
   "outputs": [
    {
     "name": "stdout",
     "output_type": "stream",
     "text": [
      "Generated 0 insincere questions\n"
     ]
    }
   ],
   "source": [
    "print('Generated {} insincere questions'.format(len(generated_texts)))"
   ]
  },
  {
   "cell_type": "code",
   "execution_count": 14,
   "metadata": {
    "_uuid": "71bbe0c8003f9699c386c3d32342b59a686f987f"
   },
   "outputs": [
    {
     "data": {
      "text/html": [
       "<div>\n",
       "<style scoped>\n",
       "    .dataframe tbody tr th:only-of-type {\n",
       "        vertical-align: middle;\n",
       "    }\n",
       "\n",
       "    .dataframe tbody tr th {\n",
       "        vertical-align: top;\n",
       "    }\n",
       "\n",
       "    .dataframe thead th {\n",
       "        text-align: right;\n",
       "    }\n",
       "</style>\n",
       "<table border=\"1\" class=\"dataframe\">\n",
       "  <thead>\n",
       "    <tr style=\"text-align: right;\">\n",
       "      <th></th>\n",
       "      <th>question_text</th>\n",
       "      <th>target</th>\n",
       "    </tr>\n",
       "  </thead>\n",
       "  <tbody>\n",
       "  </tbody>\n",
       "</table>\n",
       "</div>"
      ],
      "text/plain": [
       "Empty DataFrame\n",
       "Columns: [question_text, target]\n",
       "Index: []"
      ]
     },
     "execution_count": 14,
     "metadata": {},
     "output_type": "execute_result"
    }
   ],
   "source": [
    "gen_df = pd.DataFrame({'question_text': generated_texts, 'target': [1] * len(generated_texts)})\n",
    "gen_df.head()"
   ]
  },
  {
   "cell_type": "code",
   "execution_count": 15,
   "metadata": {
    "_uuid": "539712b2305112282055e1f20978f39cd0affc73"
   },
   "outputs": [],
   "source": [
    "if augment_insincere_count > 0:\n",
    "    train_df = pd.concat((train_df, gen_df), axis=0, sort=True)\n",
    "    train_df = shuffle(train_df, random_state=seed)"
   ]
  },
  {
   "cell_type": "markdown",
   "metadata": {
    "_uuid": "6da1c76e8ffd757223b2cdd79b542d3a0cb60772"
   },
   "source": [
    "## Features"
   ]
  },
  {
   "cell_type": "markdown",
   "metadata": {
    "_uuid": "7c0d3dbcc83db73425f6e920931eeaf3fb2bdb49"
   },
   "source": [
    "### Toxic word ratio"
   ]
  },
  {
   "cell_type": "code",
   "execution_count": 16,
   "metadata": {
    "_kg_hide-input": true,
    "_uuid": "ae109a86d56bcd0106cfe1a8f025cd09aabc0ff8"
   },
   "outputs": [],
   "source": [
    "toxic_words = ['4r5e', '5h1t', '5hit', 'a55', 'anal', 'anus', 'ar5e', 'arrse', 'arse', 'ass', 'ass-fucker', 'asses', 'assfucker', 'assfukka', 'asshole', 'assholes', 'asswhole', 'a_s_s', 'b!tch', 'b00bs', 'b17ch', 'b1tch', 'ballbag', 'balls', 'ballsack', 'bastard', 'beastial', 'beastiality', 'bellend', 'bestial', 'bestiality', 'bi+ch', 'biatch', 'bitch', 'bitcher', 'bitchers', 'bitches', 'bitchin', 'bitching', 'bloody', 'blow', 'job', 'blowjob', 'blowjobs', 'boiolas', 'bollock', 'bollok', 'boner', 'boob', 'boobs', 'booobs', 'boooobs', 'booooobs', 'booooooobs', 'breasts', 'buceta', 'bugger', 'bum', 'bunny', 'fucker', 'butt', 'butthole', 'buttmuch', 'buttplug', 'c0ck', 'c0cksucker', 'carpet', 'muncher', 'cawk', 'chink', 'cipa', 'cl1t', 'clit', 'clitoris', 'clits', 'cnut', 'cock', 'cock-sucker', 'cockface', 'cockhead', 'cockmunch', 'cockmuncher', 'cocks', 'cocksuck', 'cocksucked', 'cocksucker', 'cocksucking', 'cocksucks', 'cocksuka', 'cocksukka', 'cok', 'cokmuncher', 'coksucka', 'coon', 'cox', 'crap', 'cum', 'cummer', 'cumming', 'cums', 'cumshot', 'cunilingus', 'cunillingus', 'cunnilingus', 'cunt', 'cuntlick', 'cuntlicker', 'cuntlicking', 'cunts', 'cyalis', 'cyberfuc', 'cyberfuck', 'cyberfucked', 'cyberfucker', 'cyberfuckers', 'cyberfucking', 'd1ck', 'damn', 'dick', 'dickhead', 'dildo', 'dildos', 'dink', 'dinks', 'dirsa', 'dlck', 'dog-fucker', 'doggin', 'dogging', 'donkeyribber', 'doosh', 'duche', 'dyke', 'ejaculate', 'ejaculated', 'ejaculates', 'ejaculating', 'ejaculatings', 'ejaculation', 'ejakulate', 'f', 'u', 'c', 'k', 'f', 'u', 'c', 'k', 'e', 'r', 'f4nny', 'fag', 'fagging', 'faggitt', 'faggot', 'faggs', 'fagot', 'fagots', 'fags', 'fanny', 'fannyflaps', 'fannyfucker', 'fanyy', 'fatass', 'fcuk', 'fcuker', 'fcuking', 'feck', 'fecker', 'felching', 'fellate', 'fellatio', 'fingerfuck', 'fingerfucked', 'fingerfucker', 'fingerfuckers', 'fingerfucking', 'fingerfucks', 'fistfuck', 'fistfucked', 'fistfucker', 'fistfuckers', 'fistfucking', 'fistfuckings', 'fistfucks', 'flange', 'fook', 'fooker', 'fuck', 'fucka', 'fucked', 'fucker', 'fuckers', 'fuckhead', 'fuckheads', 'fuckin', 'fucking', 'fuckings', 'fuckingshitmotherfucker', 'fuckme', 'fucks', 'fuckwhit', 'fuckwit', 'fudge', 'packer', 'fudgepacker', 'fuk', 'fuker', 'fukker', 'fukkin', 'fuks', 'fukwhit', 'fukwit', 'fux', 'fux0r', 'f_u_c_k', 'gangbang', 'gangbanged', 'gangbangs', 'gaylord', 'gaysex', 'goatse', 'God', 'god-dam', 'god-damned', 'goddamn', 'goddamned', 'hardcoresex', 'hell', 'heshe', 'hoar', 'hoare', 'hoer', 'homo', 'hore', 'horniest', 'horny', 'hotsex', 'jack-off', 'jackoff', 'jap', 'jerk-off', 'jism', 'jiz', 'jizm', 'jizz', 'kawk', 'knob', 'knobead', 'knobed', 'knobend', 'knobhead', 'knobjocky', 'knobjokey', 'kock', 'kondum', 'kondums', 'kum', 'kummer', 'kumming', 'kums', 'kunilingus', 'l3i+ch', 'l3itch', 'labia', 'lmfao', 'lust', 'lusting', 'm0f0', 'm0fo', 'm45terbate', 'ma5terb8', 'ma5terbate', 'masochist', 'master-bate', 'masterb8', 'masterbat*', 'masterbat3', 'masterbate', 'masterbation', 'masterbations', 'masturbate', 'mo-fo', 'mof0', 'mofo', 'mothafuck', 'mothafucka', 'mothafuckas', 'mothafuckaz', 'mothafucked', 'mothafucker', 'mothafuckers', 'mothafuckin', 'mothafucking', 'mothafuckings', 'mothafucks', 'mother', 'fucker', 'motherfuck', 'motherfucked', 'motherfucker', 'motherfuckers', 'motherfuckin', 'motherfucking', 'motherfuckings', 'motherfuckka', 'motherfucks', 'muff', 'mutha', 'muthafecker', 'muthafuckker', 'muther', 'mutherfucker', 'n1gga', 'n1gger', 'nazi', 'nigg3r', 'nigg4h', 'nigga', 'niggah', 'niggas', 'niggaz', 'nigger', 'niggers', 'nob', 'nob', 'jokey', 'nobhead', 'nobjocky', 'nobjokey', 'numbnuts', 'nutsack', 'orgasim', 'orgasims', 'orgasm', 'orgasms', 'p0rn', 'pawn', 'pecker', 'penis', 'penisfucker', 'phonesex', 'phuck', 'phuk', 'phuked', 'phuking', 'phukked', 'phukking', 'phuks', 'phuq', 'pigfucker', 'pimpis', 'piss', 'pissed', 'pisser', 'pissers', 'pisses', 'pissflaps', 'pissin', 'pissing', 'pissoff', 'poop', 'porn', 'porno', 'pornography', 'pornos', 'prick', 'pricks', 'pron', 'pube', 'pusse', 'pussi', 'pussies', 'pussy', 'pussys', 'rectum', 'retard', 'rimjaw', 'rimming', 's', 'hit', 's.o.b.', 'sadist', 'schlong', 'screwing', 'scroat', 'scrote', 'scrotum', 'semen', 'sex', 'sh!+', 'sh!t', 'sh1t', 'shag', 'shagger', 'shaggin', 'shagging', 'shemale', 'shi+', 'shit', 'shitdick', 'shite', 'shited', 'shitey', 'shitfuck', 'shitfull', 'shithead', 'shiting', 'shitings', 'shits', 'shitted', 'shitter', 'shitters', 'shitting', 'shittings', 'shitty', 'skank', 'slut', 'sluts', 'smegma', 'smut', 'snatch', 'son-of-a-bitch', 'spac', 'spunk', 's_h_i_t', 't1tt1e5', 't1tties', 'teets', 'teez', 'testical', 'testicle', 'tit', 'titfuck', 'tits', 'titt', 'tittie5', 'tittiefucker', 'titties', 'tittyfuck', 'tittywank', 'titwank', 'tosser', 'turd', 'tw4t', 'twat', 'twathead', 'twatty', 'twunt', 'twunter', 'v14gra', 'v1gra', 'vagina', 'viagra', 'vulva', 'w00se', 'wang', 'wank', 'wanker', 'wanky', 'whoar', 'whore', 'willies', 'willy', 'xrated', 'xxx']"
   ]
  },
  {
   "cell_type": "code",
   "execution_count": 17,
   "metadata": {
    "_kg_hide-input": true,
    "_uuid": "45a31dad03352e0a1167e87307322b00e861155a"
   },
   "outputs": [],
   "source": [
    "def toxic_words_ratio(text, toxic_words=toxic_words):\n",
    "    count = 0\n",
    "    text = word_tokenize(text)\n",
    "    for word in text:\n",
    "        count += int(word.lower() in toxic_words)\n",
    "    return count / len(text)"
   ]
  },
  {
   "cell_type": "markdown",
   "metadata": {
    "_uuid": "ae3a258e1e051090d7fd8f0a37a288d4b58def81"
   },
   "source": [
    "### Frequency Ratio"
   ]
  },
  {
   "cell_type": "code",
   "execution_count": 18,
   "metadata": {
    "_uuid": "3e40eafbbbd8276f3dcd486c909b3de3cda92f2b"
   },
   "outputs": [],
   "source": [
    "def build_vocab(texts):\n",
    "    vocab = {}\n",
    "    for sentence in texts:\n",
    "        for word in sentence.split(' '):\n",
    "            try:\n",
    "                vocab[word] += 1\n",
    "            except KeyError:\n",
    "                vocab[word] = 1\n",
    "    return vocab"
   ]
  },
  {
   "cell_type": "code",
   "execution_count": 19,
   "metadata": {
    "_uuid": "2796c9ad0ae0091f4a9e22b18ca8f8dab7714435"
   },
   "outputs": [
    {
     "name": "stdout",
     "output_type": "stream",
     "text": [
      "CPU times: user 5.74 s, sys: 100 ms, total: 5.84 s\n",
      "Wall time: 5.85 s\n"
     ]
    }
   ],
   "source": [
    "%%time\n",
    "word_count = build_vocab(list(train_df['question_text']) + list(test_df['question_text']))"
   ]
  },
  {
   "cell_type": "code",
   "execution_count": 20,
   "metadata": {
    "_uuid": "aa3dbfa18d8e0a705e74d195c6a021e9121795ba"
   },
   "outputs": [],
   "source": [
    "def freq_count(text):\n",
    "    text = text.split(\" \")\n",
    "    all_count = 0\n",
    "    for word in text:\n",
    "        all_count += word_count[word]\n",
    "    return len(text) / all_count"
   ]
  },
  {
   "cell_type": "markdown",
   "metadata": {
    "_uuid": "514627a14937dc57d75759a0ad4f3475e5676a8e"
   },
   "source": [
    "### Making all features"
   ]
  },
  {
   "cell_type": "code",
   "execution_count": 21,
   "metadata": {
    "_kg_hide-input": true,
    "_uuid": "ed9e86df78f0a854a0d9c1de0eced96bf9071f51"
   },
   "outputs": [],
   "source": [
    "def make_features(df):    \n",
    "    df['total_length'] = df['question_text'].apply(len)\n",
    "    df['capitals'] = df['question_text'].apply(lambda comment: sum(1 for c in comment if c.isupper()))\n",
    "    df['caps_vs_length'] = df.apply(lambda row: float(row['capitals'])/float(row['total_length']), axis=1)\n",
    "    df['num_words'] = df.question_text.str.count('\\S+')\n",
    "    df['num_unique_words'] = df['question_text'].apply(lambda comment: len(set(w for w in comment.split())))\n",
    "    df['words_vs_unique'] = df['num_unique_words'] / df['num_words']\n",
    "    df['toxic_ratio'] = df['question_text'].apply(toxic_words_ratio)\n",
    "    df['word_freq'] = df['question_text'].apply(freq_count)"
   ]
  },
  {
   "cell_type": "code",
   "execution_count": 22,
   "metadata": {
    "_uuid": "2aed2a8b64d51da90821fa5705c423d00bebe4ce"
   },
   "outputs": [
    {
     "name": "stdout",
     "output_type": "stream",
     "text": [
      "CPU times: user 7min 13s, sys: 728 ms, total: 7min 14s\n",
      "Wall time: 7min 14s\n"
     ]
    }
   ],
   "source": [
    "%%time\n",
    "if with_features:\n",
    "    make_features(train_df)\n",
    "    make_features(test_df)"
   ]
  },
  {
   "cell_type": "markdown",
   "metadata": {
    "_uuid": "9032f827658e0209171a738add697ce7776c3e7a"
   },
   "source": [
    "## Preprocessing\n",
    "- Treating apostrophes\n",
    "- Substituting with dic (contractions, misspels, some punctuation)\n",
    "- Removing 's and lone '\n",
    "- Lowering the first letter of sentences\n",
    "- Cleaning remaining special characters\n",
    "- Replacing digits with #s\n"
   ]
  },
  {
   "cell_type": "markdown",
   "metadata": {
    "_uuid": "18133bc32f2dbfa94e7628390d2df61910b211d1"
   },
   "source": [
    "### Data"
   ]
  },
  {
   "cell_type": "code",
   "execution_count": 23,
   "metadata": {
    "_kg_hide-input": true,
    "_uuid": "ecc0051767a2183c858e80538e6b77eeb3b8502d"
   },
   "outputs": [],
   "source": [
    "# All appearing special characters\n",
    "useful_punct = ['_', '☹', '＞', '½', '△', '¿', '¼', '∆', '≥', '⇒', '¬', '∨', '＾', 'µ', '?', '!', '.', ',', '\"', '#', '$', '%', '\\\\', \"'\", '(', ')', '*', '+', '-', '/', ':', ';', '<', '=', '>', '@', '[', ']', '^', '{', '|', '}', '~', '’', '′', '‘', '°', '→', '£', 'ø', '´', '↑', 'θ', '±', '≤', '≠', '...', '⟨', '⟩', '∖', 'ⁿ', '⅔', '❤', '✌', '✅', '✓', '∘', '¨', '″', 'ύ', 'ኤ', 'ል', 'ሮ', 'ኢ', 'የ', 'ኝ', 'ን', 'አ', 'ሁ', '≅', 'ϕ', '‑', '￼', 'ֿ', 'か', 'く', 'れ', '－', 'ș', 'ן', '∪', 'φ', 'ψ', '⊨', 'β', '∠', '«', '»', 'ம', '≈', '⁰', '⁷', '،', '＝', '（', '）', 'ə', 'ɑ', 'ː', '¹', '⅓', 'ř', '《', '》', 'ρ', '∅', '&', '·', '©', '¥', '：', '⋅', '↓', '、', '│', '，', '・', '•', '®', '`', '€', '™', '›', '♥', '←', '×', '§', 'Â', '█', 'à', '…', '“', '★', '”', '–', '●', 'â', '►', '−', '¢', '²', '░', '¶', '▾', '═', '¦', '║', '―', '▓', '—', '‹', '─', '▒', '⊕', '▼', '▪', '†', '■', '▀', '▄', '♫', '☆', 'é', '¯', '♦', '¤', '▲', 'è', '¸', '¾', 'Ã', '∞', '∙', '♪', '╩', '╚', '³', '╦', '╣', '╔', '╗', '▬', 'ï', 'Ø', '‡', '√']\n",
    "useless_punct = ['च', '不', 'ঢ়', '平', 'ᠠ', '錯', '判', '∙', '言', 'ς', 'ل', '្', 'ジ', 'あ', '得', '水', 'ь', '◦', '创', '康', '華', 'ḵ', '☺', '支', '就', '„', '」', '어', '谈', '陈', '团', '腻', '权', '年', '业', 'マ', 'य', 'ا', '売', '甲', '拼', '˂', 'ὤ', '贯', '亚', 'ि', '放', 'ʻ', 'ទ', 'ʖ', '點', '્', '発', '青', '能', '木', 'д', '微', '藤', '̃', '僕', '妒', '͜', 'ន', 'ध', '이', '希', '特', 'ड', '¢', '滢', 'ส', '나', '女', 'క', '没', '什', 'з', '天', '南', 'ʿ', 'ค', 'も', '凰', '步', '籍', '西', 'ำ', '−', 'л', 'ڤ', 'ៃ', '號', 'ص', 'स', '®', 'ʋ', '批', 'រ', '치', '谢', '生', '道', '═', '下', '俄', 'ɖ', '觀', 'வ', '—', 'ی', '您', '♥', '一', 'や', '⊆', 'ʌ', '語', 'ี', '兴', '惶', '瀛', '狐', '⁴', 'प', '臣', 'ద', '―', 'ì', 'ऌ', 'ీ', '自', '信', '健', '受', 'ɨ', '시', 'י', 'ছ', '嬛', '湾', '吃', 'ち', 'ड़', '反', '红', '有', '配', 'ে', 'ឯ', '宮', 'つ', 'μ', '記', '口', '℅ι', 'ो', '狸', '奇', 'о', 'ट', '聖', '蘭', '読', 'ū', '標', '要', 'ត', '识', 'で', '汤', 'ま', 'ʀ', '局', 'リ', '्', 'ไ', '呢', '工', 'ल', '沒', 'τ', 'ិ', 'ö', 'せ', '你', 'ん', 'ュ', '枚', '部', '大', '罗', 'হ', 'て', '表', '报', '攻', 'ĺ', 'ฉ', '∩', '宝', '对', '字', '文', '这', '∑', '髪', 'り', '่', '능', '罢', '내', '阻', '为', '菲', 'ي', 'न', 'ί', 'ɦ', '開', '†', '茹', '做', '東', 'ত', 'に', 'ت', '晓', '키', '悲', 'સ', '好', '›', '上', '存', '없', '하', '知', 'ធ', '斯', ' ', '授', 'ł', '傳', '兰', '封', 'ோ', 'و', 'х', 'だ', '人', '太', '品', '毒', 'ᡳ', '血', '席', '剔', 'п', '蛋', '王', '那', '梦', 'ី', '彩', '甄', 'и', '柏', 'ਨ', '和', '坊', '⌚', '广', '依', '∫', 'į', '故', 'ś', 'ऊ', '几', '日', 'ک', '音', '×', '”', '▾', 'ʊ', 'ज', 'ด', 'ठ', 'उ', 'る', '清', 'ग', 'ط', 'δ', 'ʏ', '官', '∛', '়', '้', '男', '骂', '复', '∂', 'ー', '过', 'য', '以', '短', '翻', 'র', '教', '儀', 'ɛ', '‹', 'へ', '¾', '合', '学', 'ٌ', '학', '挑', 'ष', '比', '体', 'م', 'س', 'អ', 'ת', '訓', '∀', '迎', 'វ', 'ɔ', '٨', '▒', '化', 'చ', '‛', 'প', 'º', 'น', '업', '说', 'ご', '¸', '₹', '儿', '︠', '게', '骨', 'ท', 'ऋ', 'ホ', '茶', '는', 'જ', 'ุ', '羡', '節', 'ਮ', 'উ', '番', 'ড়', '讲', 'ㅜ', '등', '伟', 'จ', '我', 'ล', 'す', 'い', 'ញ', '看', 'ċ', '∧', 'भ', 'ઘ', 'ั', 'ម', '街', 'ય', '还', '鰹', 'ខ', 'ు', '訊', 'म', 'ю', '復', '杨', 'ق', 'त', '金', '味', 'ব', '风', '意', '몇', '佬', '爾', '精', '¶', 'ం', '乱', 'χ', '교', 'ה', '始', 'ᠰ', '了', '个', '克', '্', 'ห', '已', 'ʃ', 'わ', '新', '译', '︡', '本', 'ง', 'б', 'け', 'ి', '明', '¯', '過', 'ك', 'ῥ', 'ف', 'ß', '서', '进', 'ដ', '样', '乐', '寧', '€', 'ณ', 'ル', '乡', '子', 'ﬁ', 'ج', '慕', '–', 'ᡵ', 'Ø', '͡', '제', 'Ω', 'ប', '絕', '눈', 'फ', 'ম', 'గ', '他', 'α', 'ξ', '§', 'ஜ', '黎', 'ね', '복', 'π', 'ú', '鸡', '话', '会', 'ক', '八', '之', '북', 'ن', '¦', '가', 'ו', '恋', '地', 'ῆ', '許', '产', 'ॡ', 'ش', '़', '野', 'ή', 'ɒ', '啧', 'យ', '᠌', 'ᠨ', 'ب', '皎', '老', '公', '☆', 'व', 'ি', 'ល', 'ر', 'គ', '행', 'ង', 'ο', '让', 'ំ', 'λ', 'خ', 'ἰ', '家', 'ট', 'ब', '理', '是', 'め', 'र', '√', '기', 'ν', '玉', '한', '入', 'ד', '别', 'د', 'ะ', '电', 'ા', '♫', 'ع', 'ં', '堵', '嫉', '伊', 'う', '千', '관', '篇', 'क', '非', '荣', '粵', '瑜', '英', '를', '美', '条', '`', '宋', '←', '수', '後', '•', '³', 'ी', '고', '肉', '℃', 'し', '漢', '싱', 'ϵ', '送', 'ه', '落', 'న', 'ក', 'க', 'ℇ', 'た', 'ះ', '中', '射', '♪', '符', 'ឃ', '谷', '分', '酱', 'び', 'থ', 'ة', 'г', 'σ', 'と', '楚', '胡', '饭', 'み', '禮', '主', '直', '÷', '夢', 'ɾ', 'চ', '⃗', '統', '高', '顺', '据', 'ら', '頭', 'よ', '最', 'ా', 'ੁ', '亲', 'ស', '花', '≡', '眼', '病', '…', 'の', '發', 'ா', '汝', '★', '氏', 'ร', '景', 'ᡠ', '读', '件', '仲', 'শ', 'お', 'っ', 'پ', 'ᡤ', 'ч', '♭', '悠', 'ं', '六', '也', 'ռ', 'য়', '恐', 'ह', '可', '啊', '莫', '书', '总', 'ষ', 'ք', '̂', '간', 'な', '此', '愛', 'ర', 'ใ', '陳', 'Ἀ', 'ण', '望', 'द', '请', '油', '露', '니', 'ş', '宗', 'ʍ', '鳳', 'अ', '邋', '的', 'ព', '火', 'ा', 'ก', '約', 'ட', '章', '長', '商', '台', '勢', 'さ', '국', 'Î', '簡', 'ई', '∈', 'ṭ', '經', '族', 'ु', '孫', '身', '坑', 'স', '么', 'ε', '失', '殺', 'ž', 'ર', 'が', '手', 'ា', '心', 'ਾ', '로', '朝', '们', '黒', '欢', '早', '️', 'া', 'आ', 'ɸ', '常', '快', '民', 'ﷺ', 'ូ', '遢', 'η', '国', '无', '江', 'ॠ', '「', 'ন', '™', 'ើ', 'ζ', '紫', 'ె', 'я', '“', '♨', '國', 'े', 'อ', '∞']\n",
    "\n",
    "# Mapping special letters\n",
    "letter_mapping = {'\\u200b':' ', 'ũ': \"u\", 'ẽ': 'e', 'é': \"e\", 'á': \"a\", 'ķ': 'k', 'ï': 'i', 'Ź': 'Z', 'Ż': 'Z', 'Š': 'S', 'Π': ' pi ', 'Ö': 'O', 'É': 'E', 'Ñ': 'N', 'Ž': 'Z', 'ệ': 'e', '²': '2', 'Å': 'A', 'Ā': 'A', 'ế': 'e', 'ễ': 'e', 'ộ': 'o', '⧼': '<', '⧽': '>', 'Ü': 'U', 'Δ': 'delta', 'ợ': 'o', 'İ': 'I', 'Я': 'R', 'О': 'O', 'Č': 'C', 'П': 'pi', 'В': 'B', 'Φ': 'phi', 'ỵ': 'y', 'օ': 'o', 'Ľ': 'L', 'ả': 'a', 'Γ': 'theta', 'Ó': 'O', 'Í': 'I', 'ấ': 'a', 'ụ': 'u', 'Ō': 'O', 'Ο': 'O', 'Σ': 'sigma', 'Â': 'A', 'Ã': 'A', 'ᗯ': 'w', 'ᕼ': \"h\", \"ᗩ\": \"a\", \"ᖇ\": \"r\", \"ᗯ\": \"w\", \"O\": \"o\", \"ᗰ\": \"m\", \"ᑎ\": \"n\", \"ᐯ\": \"v\", \"н\": \"h\", \"м\": \"m\", \"o\": \"o\", \"т\": \"t\", \"в\": \"b\", \"υ\": \"u\",  \"ι\": \"i\",\"н\": \"h\", \"č\": \"c\", \"š\": \"s\", \"ḥ\": \"h\", \"ā\": \"a\", \"ī\": \"i\", \"à\": \"a\", \"ý\": \"y\", \"ò\": \"o\", \"è\": \"e\", \"ù\": \"u\", \"â\": \"a\", \"ğ\": \"g\", \"ó\": \"o\", \"ê\": \"e\", \"ạ\": \"a\", \"ü\": \"u\", \"ä\": \"a\", \"í\": \"i\", \"ō\": \"o\", \"ñ\": \"n\", \"ç\": \"c\", \"ã\": \"a\", \"ć\": \"c\", \"ô\": \"o\", \"с\": \"c\", \"ě\": \"e\", \"æ\": \"ae\", \"î\": \"i\", \"ő\": \"o\", \"å\": \"a\", \"Ä\": \"A\", }"
   ]
  },
  {
   "cell_type": "code",
   "execution_count": 24,
   "metadata": {
    "_kg_hide-input": true,
    "_uuid": "3888f656b2d26df2b877cb05259db8a11d66f7f0"
   },
   "outputs": [],
   "source": [
    "rare_words_mapping = {' s.p ': ' ', ' S.P ': ' ', 'U.s.p': '', 'U.S.A.': 'USA', 'u.s.a.': 'USA', 'U.S.A': 'USA','u.s.a': 'USA', 'U.S.': 'USA', 'u.s.': 'USA', ' U.S ': ' USA ', ' u.s ': ' USA ', 'U.s.': 'USA', ' U.s ': 'USA', ' u.S ': ' USA ', 'fu.k': 'fuck', 'U.K.': 'UK', ' u.k ': ' UK ', ' don t ': ' do not ', 'bacteries': 'batteries', ' yr old ': ' years old ', 'Ph.D': 'PhD', 'cau.sing': 'causing', 'Kim Jong-Un': 'The president of North Korea', 'savegely': 'savagely', 'Ra apist': 'Rapist', '2fifth': 'twenty fifth', '2third': 'twenty third', '2nineth': 'twenty nineth', '2fourth': 'twenty fourth', '#metoo': 'MeToo', 'Trumpcare': 'Trump health care system', '4fifth': 'forty fifth', 'Remainers': 'remainder', 'Terroristan': 'terrorist', 'antibrahmin': 'anti brahmin', 'fuckboys': 'fuckboy', 'Fuckboys': 'fuckboy', 'Fuckboy': 'fuckboy', 'fuckgirls': 'fuck girls', 'fuckgirl': 'fuck girl', 'Trumpsters': 'Trump supporters', '4sixth': 'forty sixth', 'culturr': 'culture', 'weatern': 'western', '4fourth': 'forty fourth', 'emiratis': 'emirates', 'trumpers': 'Trumpster', 'indans': 'indians', 'mastuburate': 'masturbate', 'f**k': 'fuck', 'F**k': 'fuck', 'F**K': 'fuck', ' u r ': ' you are ', ' u ': ' you ', '操你妈': 'fuck your mother', 'e.g.': 'for example', 'i.e.': 'in other words', '...': '.', 'et.al': 'elsewhere', 'anti-Semitic': 'anti-semitic', 'f***': 'fuck', 'f**': 'fuc', 'F***': 'fuck', 'F**': 'fuc', 'a****': 'assho', 'a**': 'ass', 'h***': 'hole', 'A****': 'assho', 'A**': 'ass', 'H***': 'hole', 's***': 'shit', 's**': 'shi', 'S***': 'shit', 'S**': 'shi', 'Sh**': 'shit', 'p****': 'pussy', 'p*ssy': 'pussy', 'P****': 'pussy', 'p***': 'porn', 'p*rn': 'porn', 'P***': 'porn', 'st*up*id': 'stupid', 'd***': 'dick', 'di**': 'dick', 'h*ck': 'hack', 'b*tch': 'bitch', 'bi*ch': 'bitch', 'bit*h': 'bitch', 'bitc*': 'bitch', 'b****': 'bitch', 'b***': 'bitc', 'b**': 'bit', 'b*ll': 'bull'}"
   ]
  },
  {
   "cell_type": "code",
   "execution_count": 25,
   "metadata": {
    "_kg_hide-input": true,
    "_uuid": "ae21ac143e2992964b1384b828b81b63fbdb3b20"
   },
   "outputs": [],
   "source": [
    "#Translations, probably too long to use.\n",
    "words_to_english_map = {'隶书': 'Lishu', 'तपस्': 'Tapse', 'ให้': 'give', '宗教官': 'Religious officer', '没有神一样的对手': 'No god-like opponent', 'יהודיות': 'Jewish women', '我明明是中国人': 'I am obviously Chinese.', 'お早う': 'Good morning', 'मेरे': 'my', 'পরীক্ষা': 'Test', 'נעכטן': 'Yesterday', '中华民国': 'Republic of China', 'तकनीकी': 'Technical', 'यहाँ': 'here', '奇兵隊': 'Qibing', 'かﾟ': 'Or', '知识分子': 'Intellectuals', 'ごめなさい': \"I'm sorry\", '하기를': 'To', 'गाढवाचे': 'Donkey', 'इबादत': 'Worship', '千金': 'Thousand gold', 'ельзи': 'elzhi', '低端人口': 'Low-end population', '맛저': 'Mazur', 'दानि': 'Danias', 'юродство': 'foolishness', 'τον': 'him', '素质': 'Quality', '王晓菲': 'Wang Xiaofei', 'माहेर': 'Maher', 'لمصارى': 'For my advice', '送客！': 'see a visitor out!', '然而': 'however', 'जिग्यासा': 'Jigyaasa', '都市': 'city', 'ஜோடி': 'Pair', 'لاني': 'See', 'пельмени': 'dumplings', '请不要误会': \"Please don't misunderstand\", 'люис': 'Lewis', '不送！': 'Do not send!', 'के': 'Of', 'मस्का': 'Mascara', 'вoyѕ': 'voyce', 'बुन्ना': 'Bunna', '战略支援部队': 'Strategic support force', '平埔族': 'Pingpu', 'فهمت؟': 'I see?', 'कयामत': 'Apocalypse', 'ức': 'memory', 'ᗰeᑎ': 'ᗰe ᑎ', 'सेकना': 'Sexting', 'धकेलना': 'Shove', 'পারি': 'We can', 'مقام': 'Official', 'बेसति': 'Baseless', '歪果仁研究协会': 'Hazelnut Research Association', '短信': 'SMS', 'всегда': 'is always', '修身': 'Slim fit', 'إنَّ': 'that', '不是民国': 'Not the Republic of China', '写的好': 'Written well', 'õhtupoolik': 'afternoon', 'तालीन': 'Training', 'और': 'And', 'щит': 'shield', 'ᗩtteᑎtiᐯe': 'ᗩtte ᑎ ti ᐯ e', 'اسکوپیه': 'Script', 'çomar': 'fido', '和製英語': 'Japanglish', '吊着命': 'Hanging', 'много': 'much', 'समुराय': 'Samurai', 'भटकना': 'Wander', 'مقاومة': 'resistance', '싱관없어': 'I have no one.', '修身養性': 'Self-cultivation', 'मटका': 'pot', 'θιοψʼ': 'thiós', 'ㅎㅎㅎㅎ': 'Hehe', 'تساوى': 'Equal', 'बाट': 'From', '不地道啊。': 'Not authentic.', 'контакт': 'contact', '이런것도': 'This', 'तै': 'The', 'मेल': 'similarity', 'álvarez': 'Alvarez', 'नुक्स': 'Damage', '口訣': 'Mouth', 'масло': 'butter', 'परम्परा': 'Tradition', '学会': 'learn', 'کردن': 'Make up', 'öd': 'bile', 'टशन': 'Tashan', 'つらやましす': 'I am cheating', 'чего': 'what', '为什么总有人能在shoplex里免费获取iphone等重金商品？': 'Why do people always get free access to iphone and other heavy commodities in shoplex?', 'श्री': 'Mr', 'प्रेषक': 'Sender', 'خواندن': 'Read', 'बदलेंगे': 'Will change', 'बीएड': 'Breed', 'अदा': 'Paid', 'फैलाना': 'spread', 'ബുദ്ധിമാനായ': 'Intelligent', '谢谢六佬': 'Thank you, Liu Wei', 'উপস্থাপন': 'Present', 'بكلها': 'All of them', 'जाए': 'Go', '无可挑剔': 'Impeccable', 'आना': 'come', '太阴': 'lunar', 'القط': 'The cat', '있네': 'It is.', 'कर्म': 'Karma', 'आड़': 'Shroud', 'įit': 'IIT', 'जशने': 'Jashnay', 'से': 'From', 'åkesson': 'Åkesson', '乳名': 'Milk name', '我看起来像韩国人吗': 'Do I look like a Korean?', 'тнan': 'tn', 'العظام': 'Bones', '暹罗': 'Siam', '小肥羊鍋店': 'Little fat sheep pot shop', 'করেন': 'Do it', 'हरामी': 'bastard', 'डाले': 'Cast', 'استراحة': 'Break', '射道': 'Shooting', 'επιστήμη': 'science', 'χράομαι': \"I'm glad\", '脚踏车': 'bicycle', 'हिलना': 'To move', 'đa': 'multi', '標點符號': 'Punctuation', 'मैं': 'I', '不能化生水谷精微': \"Can't transform the water valley\", 'निवाला': 'Boar', 'दर्शनाभिलाषी': 'Spectacular', 'বাছাই': 'Picking', 'どくぜんてき': 'Dokedari', 'पीवें।': 'Pieve.', 'ʻoumuamua': 'Priority', 'में': 'In', 'चलाऊ': 'Run', 'निपटाना': 'To settle', 'ごはん': 'rice', 'चार्ज': 'Charge', 'शिथिल': 'Loosely', 'ястребиная': 'yastrebina', 'ложись': 'lie down', '李银河': 'Li Yinhe', 'へも': 'Also', 'हुलिया': 'Hulia', 'ऊब': 'Bored', 'छाछ': 'Buttermilk', 'عن': 'About', 'नहीं': 'No', 'जीव': 'creatures', 'जेहाद': 'Jehad', 'νερό': 'water', '열여섯': 'sixteen', 'मार': 'Kill', '早就': 'Long ago', '《齐天大圣》for': '\"Qi Tian Da Sheng\" for', 'الجنس': 'Sex', 'مع': 'With', 'रंगरलियाँ': 'Color palettes', 'जोल': 'Jol', 'बुद्धी': 'Intelligence', '罗思成': 'Luo Sicheng', '独善的': 'Self-righteousness', 'धर्मः': 'Religion', '中国大陆的同胞们': 'Chinese compatriots', '愛してない': 'I do not love you', '日本語が上手ですね': 'Japanese is good', 'ओठ': 'Lips', '如果你希望表達你的觀點': 'If you want to express your opinion', 'देशवाशी': 'Countryman', 'καί': 'and', '阮铭': 'Yu Ming', '跑步跑': 'Running', 'हो': 'Ho', '「褒められる」': '\"Praised\"', 'నా': 'My', '\\x10new': '?new', 'ゆいがどくそん': 'A graduate student', '白语': 'White language', 'वह': 'She', '白い巨塔': 'White big tower', '로리이고': 'Lori.', 'परि': 'Circumcision', 'æj': 'Aw', 'انضيع': 'Lost', '平民苗字必称義務令': 'Civilian Miaozi must be called an obligation', 'ਸਿੰਘ': 'Singh', 'уже': 'already', 'đầu': 'head', '雨热同期': 'Rain and heat', 'घुलना': 'Dissolve', 'мис': 'Miss', 'て下さいませんか': 'Could it be?', '猫头鹰': 'owl', 'चढ़': 'Climbing', '漢音': 'Hanyin', 'यही': 'This only', '只有猪一样的队友': 'Only pig-like teammates', 'übersoldaten': 'about soldiers', 'αθ': 'Ath', 'ουδεις': 'no', '党国合一': 'Party and country', 'रेड': 'Red', 'ढोलना': 'Drift', 'शाक': 'Shake', '같이': 'together', '攻克': 'capture', 'özalan': 'exclusive', 'काम': 'work', 'चाहना': 'Wish', '坚持一个中国原则': 'Adhere to the one-China principle', '배우고': 'Learn', '柴棍': 'Firewood stick', 'उसे': 'To him', 'на': 'on', '無手': 'No hands', 'čvrsnica': 'Čvrsnica', 'ज़ार': 'Tsar', 'ˆo': 'O', '後宮甄嬛傳': 'Harem of the harem', '意音文字': 'Sound character', 'बहारा': 'Bahara', 'てみる': 'Try', '老铁': 'Old iron', '野比のび太': 'Nobita Nobita', 'याद': 'remember', 'پیشی': 'Surpass', 'توقعك': 'Your expectation', 'はたち': 'Slender', 'فزت': 'I won', '伊藤': 'Ito', 'कलेजे': 'Liver', 'αγεν': 'ruin', 'ìmprovement': 'Improvement', 'では': 'Then.', 'பார்ப்பது': 'Viewing', '只留清气满乾坤': 'Only stay clear and full of energy', '이정도쯤': 'About this', 'すてん': 'Sponge', 'ما': 'What', '海南人の日本': \"Hainan people's Japan\", '小鹿乱撞': 'very excited', 'ῥωμαῖοι': 'ῥomaşii', 'वारी': 'Vary', 'भोज': 'Feast', '陈庚': 'Chen Geng', 'कट्टरवादि': 'Fanatic', '凌霸': 'Lingba', 'पार': 'The cross', 'कुचलना': 'To crush', 'रहा': 'Stayed', 'हम': 'We', 'бойся': 'be afraid', '大刀': 'Large sword', 'ন্ন': 'Done', '汽车': 'car', 'কে': 'Who', 'الکعبه': 'Alkaebe', '网络安全法': 'Cybersecurity law', 'नेपाली': 'Nepali', 'পদের': 'Position', '\\x92t': '??t', 'रास': 'Ras', 'لكل': 'for every', 'शूद्राणां': 'Shudran', '此问题只是针对外国友人的一次统计': 'This question is only a statistic for foreign friends.', 'ឃើញឯកសារអំពីប្រវត្តិស្ត្រនៃប្រាសាទអង្គរវត្ត': 'See the history of Angkor Wat', 'спасибо': 'thank', 'رب': 'God', 'वजूद': 'Non existent', 'पकड़': 'Hold', 'बरहा': 'Baraha', '雾草': 'Fog grass', 'мощный': 'powerful', 'বৃদ্ধাশ্রম': 'Old age', 'आई': 'Mother', 'खड़ी': 'Steep', '\\x1aaùõ\\x8d': '? aùõ ??', 'āto': 'standard', '在冰箱裡': 'in the refrigerator', 'đời': 'life', 'लड़का': 'The boy', 'τὸ': 'the', 'مدرسان': 'Instructors', 'பறை': 'Drum', 'índia': 'India', 'दिया': 'Gave', '小篆': 'Xiao Yan', '唐樂': 'Tang Le', '米国': 'USA', '文言文': 'Classical Chinese', 'उवाच': 'Uwach', 'هدف': 'Target', 'घेरा': 'Cordon', 'झूम': 'Zoom', 'εσσα': 'all the same', '和製漢語': 'And making Chinese', 'ऐलोपैथिक': 'Allopathic', 'создала': 'has created', 'إدمان': 'addiction', '游泳游': 'Swimming tour', '狮子头': 'Lion head', 'दिये': 'Given', 'पास': 'near', 'εντjα': 'in', 'まする': 'To worship', 'हाल': 'condition', '짱깨': 'Chin', 'জল': 'Water', 'चीज': 'thing', 'îmwe': 'one', '胡江南': 'Hu Jiangnan', 'तमाम': 'All', 'कट्टर': 'Hardcore', '魔法师': 'Magician', 'బుూ\\u200c': 'Buu', 'चनचल': 'Chanchal', 'सीधा': 'Straightforward', '不要人夸颜色好': \"Don't exaggerate the color\", 'हिमालय': 'Himalaya', 'सिंह': 'Lion', 'خراميشو': 'Wastewater', 'мoѕт': 'the moment', 'কোথায়': 'Where?', 'نصف': 'Half', 'رائع': 'Wonderful', 'добрый': 'kind', 'ज़र्रा': 'Zarra', 'يعقوب': 'Yacoub', 'सम्झौता': 'Agreement', 'ān': 'yes', '했다': 'did', 'ἀριστοκράτης': 'aristocrat', 'çan': 'Bell', '太阳': 'sun', 'सर': 'head', 'गुरु': 'Master', '嘉定': 'Jiading', '故乡': 'home', '安倍晋三': 'Shinzo Abe', 'मच्छर': 'Mosquito', 'सभी': 'All', '成語': 'idiom', '唯我独尊': 'Only me', 'นะค่ะ': 'Yes', 'นั่นคุณกำลังทำอะไร': 'What are you doing', 'ın': 's', 'الشامبيونزليج': 'Shamballons', '抗日神剧': 'Anti-Japanese drama', '小妹': 'Little sister', 'çok': 'very', 'लोड': 'Load', 'साहित्यिक': 'Literary', 'लाल।': 'Red.', 'فى': 'in a', '絕不放過一人」之勢': 'Never let go of one person', '国家主席': 'National president', '异议': 'objection', 'अनुस्वार': 'Anuswasar', 'តើបងប្អូនមានមធ្យបាយអ្វីខ្លះដើម្បីរក': 'What are some ways to find out', '允≱ၑご搢': '≱ ≱ ≱ 搢', '黒髪': 'Black hair', '自戳双目': 'Self-poke binocular', 'βροχέως': 'rainy', 'ని': 'The', '一带一路': 'Belt and Road', 'śliwińska': 'Śliwińska', 'κατὰ': 'against', '打古人名': 'Hit the ancient name', 'குறை': 'Low', 'üjin': 'Uji', 'öppning': 'opening', 'अन्जल': 'Anjal', '이와': 'And', 'आविष्कार': 'Invention', 'غنج': 'Gnostic', 'рассвет': 'dawn', 'होना': 'Happen', 'বাড়ি': 'Home', '入定': 'Enter', 'भेड़': 'The sheep', 'देगा': 'Will give', 'ब्रह्मा': 'Brahma', 'बीन': 'Bean', 'χράω': \"I'm glad\", 'तीन': 'three', 'ضرار': 'Drar', 'विराजमान': 'Seated', 'सैलाब': 'Salab', 'συνηθείας': 'communication', '구경하고': 'To see', 'चुल्ल': 'Chool', '红宝书': 'Red book', '羡慕和嫉妒是不一样的。': 'Envy and jealousy are not the same.', 'मेरा': 'my', 'कलटि': 'Katiti', 'हिमाती': 'Himalayan', 'ಸಾಧು': 'Sadhu', 'عطيتها': 'Her gift', 'छान': 'Nice', 'เกาหลี': 'Korea', 'íntruments': 'instruments', 'يتحمل': 'Bear', 'रुस्तम': 'Rustam', 'बरात': 'Baraat', 'रंग': 'colour', '나이': 'age', 'פרפר': 'butterfly', '老乡': 'Hometown', '謝謝': 'Thank you', 'í‰lbƒ': '‰ in lbƒ', 'हरजाई': 'Harjai', 'পেতে': 'Get to', '「勉強': '\"study', 'रड़कना': 'To cry', '清真诊所': 'Halal clinic', 'أفضل': 'Best', 'استطيع': 'I can', 'नाकतोडा': 'Nag', 'बड़ि': 'Elder', 'वैद्य': 'Vaidya', 'أنَّ': 'that', 'いたロリィis': 'There was Lory', 'ìn': 'print', '本人堅持一個中國的原則': 'I adhere to the one-China principle', 'океан': 'ocean', 'बाद': 'after', '禮儀': 'etiquette', 'सिषेविरे': 'Sisavir', 'अमृत': 'Honeydew', 'بدو': 'run', 'ὅς': 'that is', 'छोटा': 'small', 'स्वभावप्रभवैर्गुणै': 'Nature is bad', 'ענג': 'Tight', 'שלמה': 'Complete', 'डोरे': 'Dore', '我害怕得毛骨悚然': 'I am afraid of creeps.', 'झोलि': 'Jolly', 'единадесет': 'eleven', 'என்ன': 'What', 'आयुरवेद': 'Ayurveda', '堵天下悠悠之口': 'Blocking the mouth of the world', 'الجمعي': 'Collective', 'ángel': 'Angel', 'रोना': 'crying', 'हमराज़': 'Humraj', 'चिलमन': 'Drape', 'औषध': 'Medicine', 'निया': 'Nia', 'תעליעוכופור': 'Go up and go', '中国队大胜': 'Chinese team wins', 'δ##': 'd ##', 'चला': 'walked', \n",
    "                        'पर': 'On', 'ἔργον': 'work', 'रंक': 'Rank', 'सिक्ताओ': 'Sixtao', '陳太宗': 'Chen Taizong', 'لومڤور': 'لوموور', 'விளையாட்டு': 'Sports', '的？': 'of?', '안녕하세요': 'Hi', 'נבאים': 'Prophets', 'ন্য': 'N.', 'şimdi': 'now', 'भरना': 'Fill', 'धरी': 'Clog', '漢字': 'Chinese character', 'इसि': 'This', 'आवर': 'Hour', 'काटना': 'cutting', '僕だけがいない街': 'City where I alone does not exist', 'जूठा': 'Lier', 'çekerdik': 'We Are', 'čaj': 'tea', 'నందొ': 'Nando', '核对无误': 'Check is correct', '無限': 'unlimited', 'समेटना': 'Crimp', 'żurek': 'sour soup', 'আছে': 'There are', 'مرتك': 'Committed', 'आपाद': 'Exorcism', 'चोरी': 'theft', 'బవిష్కతి': 'Baviskati', 'निकालना': 'removal', 'सीमा': 'Limit', '配信開始日': 'Distribution start date', '宝血': 'Blood', 'ग्यारह': 'Eleven', 'गरीब': 'poor', '있고': 'There', 'île': 'island', 'स्मि': 'Smile', 'енгел': 'engel', 'вы': 'you', 'οπότε': 'so', 'सूनापन': 'Desolation', 'áraszt': 'exudes', 'मारि': 'Marie', '서로를': 'To each other', 'घोपना': 'To announce', 'फितूर': 'Fitur', 'あからさまに機嫌悪いオーラ出してんのに話しかけてくるし': 'I will speak to the out-putting aura outright bad', '封柏荣': 'Feng Bairong', '「褒められたものではない」': '\"It is not a praise\"', '傳統文化已經失存了': 'Traditional culture has lost', '水木清华': 'Shuimu Tsinghua', 'पन्नी': 'Foil', 'ਰਾਜਬੀਰ': 'Rajbir', '煮立て': 'Boiling', '外国的月亮比较远': 'Foreign moon is far away', 'شغف': 'passion', 'గురించి': 'About', 'övp': 'ÖVP', '实名买票制': 'Real name ticket system', 'बिखरना': 'To scatter', 'التَعَمّقِ': 'Persecution', 'जीवें': 'The living', 'गई': 'Has been', '部頭合約': 'Head contract', 'دقیانوس': 'Precise', 'फंकी': 'Funky', '粵拼': 'Cantonese fight', 'ĉiohelpanto': 'all supporter', 'मारना': 'killing', 'मानजा': 'Manja', 'अष्टांगिक': 'Octagonal', 'への': 'To', 'रहना': 'live', 'खाना': 'food', 'ಕೋಕಿಲ': 'Kokila', 'చిన్న': 'Small', '金髪': 'Blond hair', '籍贯': 'Birthplace', 'उखाड़ना': 'Extirpate', 'α2': \"A'2\", 'להשתלט': 'take over control', '露西亚': 'Lucia', '大有「寧可錯殺一千': 'There is a lot of \"I would rather kill a thousand', 'संस्कृत': 'Sanskrit', 'христо': 'Christo', 'लगाना': 'to set', '선배님': 'Seniors', 'उड़ीसा': 'Orissa', 'ஆய்த': 'Ayta', 'तेरे': 'Your', 'आकांक्षी': 'Aspiring', 'बाज़ार': 'The market', 'हर्ज़': 'Herz', 'だします': 'Will do.', 'चक्कर': 'affair', '없어': 'no', 'चम्पक': 'Champak', 'ताल': 'rythm', 'āgamas': 'hobby', 'योद्धा': 'Warrior', 'αλυπος': 'chain', 'बेड़ा': 'Fleet', 'बात': 'talk', '做莫你酱紫的？': 'Do you make your sauce purple?', '見逃し': 'Miss', '鰹節': 'Bonito', 'तथैव': 'Fact', 'आध्यात्मिकता': 'Spirituality', '正弦': 'Sine', 'लिया': 'took', 'îndrăgire': 'love', '我願意傾聽': 'I am willing to listen', '家乡': 'hometown', '大败': 'Big defeat', 'मए': 'Ma', 'జ్ఞ\\u200cా': 'Sign', 'օօ': 'oo', 'खेमे': 'Camps', 'الشوكولاه': 'Chocolate', 'полностью': 'completely', '商品発売日': 'Product Release Date', '金継ぎ': 'Gold piecing', '烤全羊是多少人民币呢？': 'How much is the renminbi roasted in the whole sheep?', 'γолемата': 'golem', '孫瀛枚': 'Grandson', 'özlüyorum': 'I am missing', 'خلبوص': 'Libs', 'アンダージー': 'Undergar', '蝴蝶': 'butterfly', 'প্রশ্ন': 'The question', 'जरूरी': 'Necessary', 'बूरा': 'Bura', '有毒': 'poisonous', 'सान्त्वना': 'Comfort', '눈치': 'tact', '\\ufeffwhat': 'what', 'çeşme': 'fountain', 'ごっめんなさい': 'Please, sorry.', 'விளக்கம்': 'Description', '罗西亚': 'Rosia', 'गोटा': 'Knot', 'लेखावलिपुस्तके': 'Accounting Tips', 'सम्भोग': 'Sexual intercourse', '慢走': 'Slow walking', 'तुम': 'you', 'लीला': 'Leela', 'ฉันจะทำให้ดีที่สุด': 'I will do my best', 'चम्पु': 'Shampoo', '視聽華語': 'Audiovisual Chinese', '比比皆是': 'Abound', 'धावा': 'Run', '娘娘': 'Goddess', 'पहाड़': 'the mountain', 'राजा': 'King', '茹西亚': 'Rusia', 'ब्राह्मणक्षत्रियविशां': 'Brahmin Constellations', '수업하니까': \"I'm in class.\", 'చెల్లెలు': 'Sister', 'साजे': 'Made', '支那人': 'Zhina', '团表': 'Group table', '讲得': 'Speak', 'へからねでて': 'From to', 'über': 'over', 'քʀɛʋɛռt': 'kʀɛʋɛr t', 'นเรศวร': 'Naresuan', '方言': 'dialect', 'पना': 'Find out', '怕樱': 'Afraid of cherry', 'घुल': 'Dissolve', '米帝': 'Midi', 'طيب': 'Ok', 'प्रेम': 'Love', 'पढ़ाई': 'studies', '他穿褲子': 'He wears pants', 'मेरी': 'Mine', 'উত্তর': 'Reply', 'स्थिति': 'Event', '\\x1b\\xadü': '?\\xadü', 'तैश': 'Tachsh', '写得好': 'Well written', 'मॉलूम': 'Known', '创意梦工坊': 'Creative Dream Workshop', 'आपकी': 'your', 'मिलना': 'Get', '배웠어요': 'I learned it', '許自東': 'Xu Zidong', 'जाऊँ': 'Go', 'अहिंसा': 'Nonviolence', 'джоу': 'Joe', '金繕い': 'Gold patting', '好心没好报': 'No return on a good deed', 'çevapsiz': 'unanswered', 'मिल': 'The mill', '日本語': 'Japanese', 'اخذ': 'Get', '水军': 'Water army', 'बिना': 'without', 'बनाना': 'Make', 'التوبه': 'Repentance', '一个灵运行在我的家': 'a spirit running in my home', '한국어를': 'Korean', 'कि': 'That', 'εισα': 'import', 'लगना': 'feel', 'गपोड़िया': 'Gopodiya', 'ārūpyadhātu': 'exhyadadate', 'आए': 'Returns', '吃好吃金': 'Eat delicious gold', 'นั่น': 'that', 'बढ़ाना': 'raise up', '보니': 'Bonnie', '爱着': 'Love', '선배': 'Elder', '刷屏': 'Brush screen', '人性化': 'Humanize', 'خرسانة': 'Concrete', '麻辣乾鍋': 'Spicy dry pot', '\\x10œø': '? œø', 'सतरंगी': 'Satarangi', '磨合': 'Run-in', 'को': 'To', 'شهادة': 'Degree', 'একটি': 'A', 'へと': 'To', 'يلي': 'Following', '光本': 'Light source', '褒め殺し': 'Praise kill', 'आँचल': 'Anchal', 'এর': 'Of it', 'पिटा': 'Pita', 'بديش': 'Badish', 'गंगु': 'Gangu', '可是': 'but', 'की': 'Of', '谢谢。台灣同胞': 'Thank you. Taiwan compatriots', 'दम': 'power', 'मैकशि': 'Macshi', 'రాజ': 'King', '玉蘭花': 'Magnolia', '江ノ島盾子': 'Enoshima Junko', 'ѕтυpιd': 'ѕtυpιd', 'जिसका': 'Whose', 'எழுத்து': 'Letter', '甲骨文': 'Oracle', 'चूरमा': 'Churma', 'चूलें': 'Chulen', 'प्रविभक्तानि': 'Interpretation', 'いる': 'To have', 'مقال': 'article', 'पाय': 'Feet', 'अतीत': 'Past', 'ármin': 'Armin', '東夷': 'Dongyi', 'आदमकद': 'Life expectancy', 'किये': 'Done', 'पतवार': 'Helm', '楽曲派アイドル': 'Song musical idols', 'डगमगाना': 'Waver', '북한': 'North Korea', '禮記': 'Book of Rites', '西魏': 'Xi Wei', '過労死': 'Death from overwork', 'बेबुनियाद': 'Unbounded', '仙人跳': 'Fairy jump', '港女': 'Hong Kong girl', '虞朝': 'Sui Dynasty', 'µ0': 'μ0', '字母词': 'Letter word', 'अर्धांगिनि': 'Arghangini', '真功夫': 'real Kong Fu', '飯糰': 'Rice ball', 'علم': 'Science', 'गुड़': 'Jaggery', 'гречку': 'buckwheat', '我方记账数字与贵方一致': 'Our billing figures are consistent with yours', 'आने': 'To arrive', 'कब': 'When', '宋楚瑜': 'James Soong', 'διητ': 'filter', 'राई': 'Rye', 'விரதம்': 'Fasting', 'बदल': 'change', '成语': 'idiom', 'ĺj': 'junk', 'какая': 'which one', '文翰': 'Wen Han', 'کـ': 'K', 'ʀɛċօʍʍɛռɖɛɖ': 'ʀɛċ oʍʍɛрɖɛɖ', 'दिलों': 'Hearts', '星期七': 'Sunday', '傳送': 'Transfer', '陳云根': 'Chen Yunen', 'ʿalaʾ': 'Allah', 'गुल': 'Gul', 'ख़बर': 'The news', 'मन्च': 'Manch', '国家知识产权局': 'State Intellectual Property Office', '행복하게': 'happily', 'बबीता': 'Babita', 'юродивый': 'holy fool', 'सफाई': 'clean', 'вода': 'water', 'लाठि': 'End', 'γὰρ': 'γσρ', '在日朝鮮人／韓国人': 'Koreans/Koreans in Japan', '学过': 'Learned', 'जमाना': 'Solidification', 'इकोनॉमिक्स': 'Economics', 'क्या': 'what', 'ドア': 'door', '中国的存在本身就是原罪': 'The existence of China itself is the original sin', 'मौसमि': 'Season', 'ठाठ': 'Chic', 'ἡμετέραν': 'another', '火了mean': 'Fired mean', 'せえの': 'Set out', 'ஆயுத': 'Arms', 'कंपनी': 'company', 'अहम्': 'Ego', 'भर': 'Filled', 'फिरना': 'To revolve', '高山族': 'Gaoshan', '王飞飞是一个哑巴的婊子。': 'Wang Feifei is a dumb nephew.', '反清復明': 'Anti-clearing', '关门放狗': 'Close the dog', '中国民族伟大复兴？i': 'The great revival of the Chinese nation? i', '漢名': 'Han name', 'ín': 'into the', '이름은': 'name is', '뽀비엠퍼러': 'Pobi Emperor', '堅決反對台獨言論': 'Resolutely oppose Taiwan independence speech', 'ड़': 'D', 'ادب': 'Literary', '〖2x〗': '〖〗 2x', 'في': 'in a', 'परन्तप': 'Parantap', '不正常人類研究中心': 'Abnormal human research center', 'метью': 'by the way', 'σε': 'in', '罗马炮架': 'Roman gun mount', 'đỗ': 'parked', '二哈': 'Erha', '中國': 'China', 'मुझे': 'me', 'бджа': 'bzha', 'छुटाना': 'To leave', 'সহ': 'Including', 'δίδυμος': 'twin', 'दौरा': 'Tour', 'आया': 'He Came', 'ľor': 'Lor', 'شاف': 'balmy', 'افشلك': 'I miss you', 'पता': 'Address', 'śląska': 'Silesian', '我还有几个条件呢。': 'I still have a few conditions.', '元寇': 'Yuan', 'सहायक': 'Assistant', 'टाइम': 'Time', 'समुदाय': 'Community', 'टिपटिपवा': 'Tiptipava', '五毛党': 'Wu Mao Party', 'दे': 'Give', '屠城': 'Slaughter city', 'कहने': 'To say', 'कलमूहा': 'Kalamuha', 'בפנים': 'in', 'कर्माणि': 'Creation', 'अथवा': 'Or', 'રાજ્ય': 'State', 'घसोना': 'Shed', '今そう言う冗談で笑える気分じゃないから一人にしてって言ったら何があったの？話聞くよって言われたんだけど': 'I do not feel like being laughing with what I say now, so what happened when I told you to be alone? I was told by listening and talking', 'परमो': 'Paramo', 'υφηιρειτω': 'I suppose', 'כתובים': 'Written', '能夠': 'were able', '고등학교는': 'High School', 'बजरि': 'Breeze', 'जानेदिल': 'Knowingly', '大胜': 'Big win', 'काल': 'period', 'すみません': \"I'm sorry\", 'हिमाकत': 'Snow plant', 'þîfû': 'iphone', 'よね': 'right', 'هالنحس': 'Halting', 'الحجازية': 'Hijaz', 'жизнь': 'a life', 'किया': 'Did', '沸騰する': 'To boil', 'นะครับ': 'Yes', 'پیش': 'Before', 'परदाफास': 'Bustard', 'वफाएं': 'Affection', 'सैनानि': 'Sanani', 'ölü': 'dead', 'हैं': 'Are', '宋美齡': 'Song Meiling', 'கவாடம்': 'Valve', '我是一名来自大陆的高中生': 'I am a high school student from the mainland.', 'اجمل': 'The most beautiful', '가용': 'Available', 'चरम': 'Extreme', '象形文字': 'Hieroglyphics', '男女授受不亲': 'Men and women don’t kiss', 'моя': 'my', '疑义': 'Doubt', '管中閔': 'In the tube', 'çekseydin': 'pulls you were', 'عم': 'uncle', 'ルージュ': 'Rouge', '永遠': 'forever and always', 'بيت': 'a house', '「褒められた」': '\"I was praised\"', 'कर्णजित्': 'Karnajit', 'あたまわるい': 'Bad headache', 'ε0': 'e0', 'şafak': 'dawn', 'जलाओ': 'Burn', '観世音菩薩': '観世音', 'पीत': 'Yellow', 'दारी': 'Dari', 'የሚያየኝን': 'What i see', 'هاپو': 'Dog', '发声点': 'Vocal point', 'être': 'be', 'மாண்பாளன்': 'Manpalan', '감겨드려유': 'You can wrap it.', '知音': 'Bosom friend', 'एक': 'One', '\\x01jhó': '? Jho', 'かんぜおんぼさつ': 'Punctuation', 'ødegaard': 'Ødegaard', '得理也要让人': 'It’s ok to make people', 'مرة': 'Once', 'दो': 'two', 'ने': 'has', '用乡村包围城市': 'Surround the city with the countryside', 'مكتب': 'Office', 'řepa': 'beet', 'день': 'day', '江青': 'Jiang Qing', 'ángeles': 'angels', 'çonstant': 'constant', 'टिपटिपुआ': 'Tip Tip', 'ஆன்லைன்': 'Online', '盧麗安': \"Lu Li'an\", 'самый': 'most', 'からかってくる男に': 'To the coming men', 'بعرف': 'I know', '知乎': 'Know almost', 'पहेलि': 'Puzzles', \n",
    "                        'बहार': 'spring', 'भंगिमाँ': 'Bhangima', 'くわんぜおんぼさつ': 'Honey', '河殤': 'River', 'شو': 'Shaw', 'محمد': 'Mohammed', 'спереди': 'in front', '没毛病': 'No problem', 'árbenz': 'Arbenz', 'लार्वा': 'Larvae', 'चढ़ा': 'Ascend', 'तो': 'so', 'يلعب': 'Play', 'घिसा': 'Ginger', 'रेखागड़ित': 'Sketchy', 'मुरदा': 'Murada', 'चित्र': 'picture', 'தாக்கல்': 'Filing', '大败美国队': 'Big defeat to the US team', 'искусственный': 'artificial', 'चाल': 'Trick', 'घुटता': 'Kneeling', 'बिगड़ना': 'Deteriorate', '您这口味奇特也就罢了': 'Your taste is strange.', 'लायक': 'Worth', '大篆': 'Daxie', 'खिलाना': 'To feed', 'ماهو': 'What is the', 'पहुँचनेके': 'To reach', '外来語': 'Foreign language', 'चटका': 'Click', 'کوالا': 'Koala bear', '不过': 'but', 'पड़ना': 'Fall', 'पानी': 'Water', '저의': 'my', '一生懸命': 'Hard', 'مش': 'not', 'लिखामि': 'Written', 'गया': 'Gaya', 'компания': 'company', 'तेरि': 'Teri', '茶髪': 'Brown hair', '하다': 'Do', '不是共和国；中华人民共和国和朝鲜民主主义人民共和国是共和国': 'Not a republic; the People’s Republic of China and the Democratic People’s Republic of Korea are Republic', '烤全羊多少人民币呢？': 'How much is the price of roast whole sheep?', 'घर': 'Home', 'पाला': 'Frost', '左右手': 'Left and right hand', 'کوالالامپور': 'Kuala Lumpur', 'āsanas': 'asanas', 'ոո': 'e', 'сегодня': 'Today', '저는': 'I am', 'русофил': 'blossoming', '甘蓝': 'Cabbage', '流浪到淡水': 'Wandering to fresh water', 'единайсет': 'eleven', 'परात': 'Underwear', '\\x7fhow': '?how', '¡que': 'what', 'ἀχιλλεύς': 'Achilles', 'так': 'So', 'آداب': 'Rituals', '\\x10i': '?i', 'मट्ठा': 'Whey', '平天下悠悠之口': 'The mouth of the world', 'लुन्डा': 'Lunda', 'ся': 'camping', 'вареники': 'Vareniks', 'δο': 'gt;', 'öyle': 'so', 'पुरे': 'Enough', '看他不顺眼': 'Seeing him not pleasing to the eye', '「o」': '\"O\"', 'とする': 'To', 'হচ্ছে': 'Being', 'लाखों': 'Millions', 'α1': \"A'1\", 'نهائي': 'Final', 'ɾ̃': 'ɾ', 'तिलक': 'Tilak', 'لا': 'No', 'صور': 'photo', '怒怼': 'Roar', 'மௌன': 'Mauna', 'परिस्थिति': 'Situation', '서로가': 'Mutually', '山進': 'Shanjin', '蝴蝶蛋': 'Butterfly egg', 'ксш': 'ksş', '饭可以乱吃': 'Rice can be eaten', '渡します': 'I will hand it over.', 'österreich': 'Austria', 'øÿ\\x13': 'øÿ?', 'ممتاز': 'Excellent', '蝴蝶卵': 'Butterfly egg', 'ही': 'Only', 'ठोकरे': 'Knock', '湿婆': 'Shiva', 'обожаю': 'love', 'लस्सी': 'Lassi', '操你妈': 'Fuck your mother', 'फौलादि': 'Fauladi', 'жизни': 'of life', 'đổi': 'change', '阻天下悠悠之口': 'Block the mouth of the world', 'オメエだよオメエと話してんのが苦痛なんだよ。シネ。': \"It's omn it is painful to talk to Oume. Cine.\", 'खाट': 'The cot', '译文': 'Translation', 'सँवरना': 'To embellish', 'дванадесет': 'twelve', '陳雲': 'Chen Yun', 'дванайсет': 'twelve', 'आँखें': 'Eyes', 'पूछते': 'Inquires', 'भंगी': 'Posture', 'सूना': 'Deserted', 'प्याला': 'Cup', 'には': 'To', 'доктора': 'the doctors', 'देना': 'give', 'बिरेन्र्द': 'Forget', 'गला': 'throat', 'रखा': 'Kept', 'हाले': 'Haley', '欢迎入坑': 'Welcome to the pit', 'डलि': 'Dallie', 'ôš': 'OS', 'يوسف': 'Yousuf', 'छोंकना': 'Strain', 'пп': 'pp', 'उसपर': 'on that', 'υρολογιστών': 'computers', '新年快乐！学业进步！身体健康！谢谢您们读我的翻译篇章': 'happy New Year! Academic progress! Healthy body! Thank you for reading my translation chapter.', '人民': 'people', 'घंटे': 'Hours', 'شباط': 'February', '食べる': 'eat', 'صلاح': 'Salah', '土澳': 'Tuao', '干嘛天天跟我说韩语': 'Why do you speak Korean with me every day?', 'ōnogi': 'climate', 'صاحب': 'owner', 'اكل': 'ate', '大唐': 'Datang', 'مطالعه': 'Study', '养生': 'Health', '车子': 'Car', 'कचरा': 'Garbage', 'महरबानि': 'Mehraban', 'शुष्टि': 'Shutti', 'интеллект': 'intelligence', '阮鏐': '阮镠', '鲁玥': 'Reckless', '입니다': 'is', 'ῥιζὤματα': 'Threads', 'люблю': 'love', 'ɛxɛʀċɨsɛ': 'it is not', 'कपड़े': 'dresses', 'उड़न': 'Flying', '广电总局': 'SARFT', '骂人': 'curse', 'የየየኝን': 'What do i say', 'बेलना': 'Crib', 'பல்லாக்குப்': 'Pallakkup', 'बराबर': 'equal', 'ظرف': 'Dish', 'होनोपैथिक': 'Homeopathic', '君子': 'Gentleman', '河和湖': 'Kawahata lake', '精一杯': 'Utmost', 'है': 'is', '非要以此为依据对人家批判一番': 'I have to criticize others on this basis.', 'வச்சன்': 'Vaccan', 'நான்': 'I', 'का': 'Of', '三味線': 'Shamisen', 'šwejk': 'švejk', 'дурак': 'fool', '风琴': 'organ', 'हिंसा': 'Violence', 'βιον': 'bio', 'नारी': 'Woman', '知らない': 'Do not know', 'मुँह': 'The mouth', 'अपरम्पार': 'Unperturbed', '秋季新款': 'Autumn new style', 'আমার': 'Me', 'عبقري': 'genius', 'आहें': 'Ah', 'ਨਾਮ': 'Name', 'महफ़िल': 'Mehfil', 'बटेर': 'Quail', '林彪': 'Lin Wei', 'जाने': 'Know', 'डोंगरिचाल': 'Mountain move', 'εἰρήνη': 'Irene', 'प्रतिलेखनम्': 'Transcript', 'дп': 'dp', 'उसने': 'He', '몇시간': 'how many hours', 'नैया': 'Naiya', 'ἐξήλλακτο': 'inexpensive', '彩蛋': 'Egg', 'उलटफेर': 'Reverse', '台湾最美的风景是人': 'The most beautiful scenery in Taiwan is people.', '馄饨': 'ravioli', 'सदके': 'Shake', '饺子': 'Dumplings', 'भूमिका': 'role', '为什么说': 'Why do you say', '요즘': 'Nowadays', 'गिरि': 'Giri', '中國話': 'Chinese words', 'द्रोहि': 'Drohi', '中庸之道': 'The doctrine of the mean', 'хочу': 'want', 'ḵarasāna': 'ḵarasana', '走gǒ': 'Go gǒ', 'जमाल': 'Jamal', 'मन': 'The mind', 'तेलि': 'Oilseed', '非诚勿扰': 'You Are the One', 'атом': 'atom', '中华民国和大韩民国是民国': 'The Republic of China and the Republic of Korea are the Republic of China', 'नलि': 'Nile', 'हाथ': 'hand', 'खाजला': 'Itching', 'ōe': 'yes', '것이다': 'will be', 'şoųl': 'şoùl', 'तश्तरि': 'Cleverness', 'χρῆσιν': 'use', '民族': 'Nationality', 'الرياضيات': 'Mathematics', 'にじゅうさい': 'Twelve months', 'ὠς': 'as', '恋に落ちないからよく悲しい': 'It is often sad because it does not fall in love', 'ਸ਼ੀਂਹ': 'Lion', '黎氏玉英': 'Li Shiyuying', 'فبراير': 'February', '白濮': 'Chalk', 'অধীনে': 'Under', 'प्रशंसा': 'appreciation', 'ขอพระเจ้าอยู่ด้วย': 'May God be with you', 'अडला': 'Bent', 'ده': 'Ten', 'पसीजना': 'Exudate', 'कोई': 'someone', 'கருக்குமட்டை': 'Karukkumattai', 'कन्नी': 'Kanni', 'यात्रा': 'journey', '白酒': 'Liquor', 'τὴν': 't', 'करना': 'do', 'उल': 'ul', '俄罗斯': 'Russia', 'உனக்கு': 'You', 'जौहर': 'Johar', 'ಸ್ವರಕ್ಷರಗಳು': 'Self-defense', '论语': 'Analects', 'šakotis': 'branching', '儿臣惶恐': 'Childier fear', '讲的？': 'Said?', 'প্রতিনিয়ত': 'Every day', 'சன்னல்': 'Sill', '蠢的像猪一样': 'Stupid like a pig', 'رح': 'Please', 'بس': 'Yes', 'εὔιδον': 'you see', 'सदबुद्धि': 'Good sense', 'भगवान': 'God', '사랑해': 'I love you', 'בתוך': 'Inside', 'čeferin': 'чеферин', '民国': 'Republic of China', '但是': 'but', 'सकता': 'can', 'घाट': 'Wharf', 'čechy': 'Bohemia', '抹黑': 'Smear', 'γλαυκῶπις': 'greyhounds', 'నీకెందుకు': 'Nikenduku', 'चमत्कार': 'Miracle', 'दुनिया': 'world', 'یہاں': 'Here', 'اللي': 'Elly', 'খামার': 'The farm', '一呼百诺': 'One call', 'വിഡ്ഢി': 'Stupid', 'दिल': 'heart', 'тeenage': 'trinage', '皇上': 'emperor', 'टटोलना': 'Grope', '犬子': 'Dog', '我希望有一天你沒有公王病': 'I hope that one day you don’t have a king', '并无分裂中国的意图': 'No intention to split China', 'óscar': 'oscar', 'ኤልሮኢ': 'Alright', 'ŷhat': 'hhat', '천사': 'Angel', 'दी।': 'Given', 'रड़क': 'Raze', 'कानी': 'Kani', '江之島盾子': 'Enokima Shiko', '老生常谈': 'Old talk', 'των': 'of', '星期日': 'on Sunday', 'पैन्डा': 'Panda', 'マリも仲直りしました': 'Mari also made up.', 'ты': 'you', 'देश': 'Country', 'ठंडक': 'Coolness', 'নামল': 'Get down', 'जर्मनी': 'Germany', 'шли': 'walked', 'たべる': 'To eat', 'लिए': 'for', '鸡汤文': 'Chicken soup', 'มวยไทย': 'Thai boxing', '簡訊': 'Newsletter', 'منزل': 'Home', 'कर': 'Tax', '生女眞': 'Daughter-in-law', 'ек': 'ek', 'સંઘ': 'Union', '\\u200bsalarpuria': 'Salphary', 'ţara': 'the country', 'नही': 'No', 'मगज': 'Mercury', 'অক্ষয়': 'Akshay', 'حال': 'Now', 'चिन्दी': 'Chindee', 'τῆς': 'her', '福哒柄': 'Good fortune', '청하': 'Qinghai', '越人': 'Yueren', 'なかなかに謎だな': \"It's quite a mystery.\", 'रखना': 'keep', 'பரை': 'Parai', 'करके': 'By doing', 'فِي': 'F', 'गुथना': 'Knit', '话不可以乱讲': \"Can't talk nonsense\", 'वैकल्पिक': 'Alternative', 'ਨਾਮੁ': 'Name', '你别高兴得太早': \"Don't be too happy too early\", '煎餅': 'Pancake', '한다': 'do', 'सबब': 'Cause', 'বিষয়টি': 'Matter', 'कोसना': 'To crack', 'ㅜㅜ': 'ㅜ', 'অক্সয়': 'Akshay', 'الدوالي': 'Varicose veins', 'பயிர்ப்பு': 'Yields', 'अजा': 'SC', 'あの色々': 'That kind of variety', 'емеля': 'emel', 'मेवा': 'Meva', 'जलवाफरोज़': 'Jalwa Phoroz', '中庸': 'Moderate', 'उसके': 'his', 'अहम': 'Important', 'वहम': 'Vanity', 'ís': 'ice', 'कलात्मक': 'Artistic', 'ἀχιλῆος': 'Achilles', '民族罪人': 'National sinner', 'मुकाम': 'Peer', 'ão': 'to', '한국': 'Korea', 'ادهر': 'Idir', '一長': 'One long', 'てくれませんか': 'Would you please', 'ブレイク': 'break', 'शहनाई': 'the clarinet', 'तीरन्दाज़ि': 'Arrows', 'रूढ़ीवादि': 'Conservative', 'झाँकी': 'Peeping', 'सत्यवादी': 'Truthful', '郑琳': 'Zheng Lin', 'युनानी': 'Unani', 'φώνας': 'light', 'जमना': 'Solidify', '〖plg〗': '〖Plg〗', 'हरी': 'Green', 'بطولة': 'championship', '这些词怎么读？这些词怎么说？这些词怎么念？which': 'How do you read these words? What do these words say? How do you read these words? Which', 'алтерман': 'alterman', 'اَلبَحْثِ': 'البحث', 'موجود': 'Available', 'कश्ति': 'Power', 'اسم': 'Noun', 'लाज़मि': 'Shameful', 'तुमने': 'you', '공화국': 'republic', 'लुक्का': 'Lukka', '史记': 'Historical record', '포경수술': 'Circumcised', '高端大气上档次into': 'High-end atmospheric grade into', 'что': 'what', 'योध': 'Rift', 'धर्म': 'religion', 'दरदर': 'Tariff', '訓読み': 'Kun Readings', 'впереди': 'in front', '민국': 'Republic of Korea', 'εντσα': 'in', '我搜了这本小说': 'I searched this novel.', '杨皎滢？': 'Yang Wei?', 'भारतीयों': 'Indians', '巴蜀': 'Bayu', '\\x02tñ\\x7f': '? tñ?', 'αβtαβ': 'aba', 'जल': 'water', 'बाध्य': 'Bound', 'মহাবিশ্ব': 'Universe', 'প্রসারিত': 'Stretch', 'अन्जाम': 'Anjaam', 'जीतना': 'win', 'कड़ा': 'Hard', '刁民': 'Untouchable', 'ขอให้พระเจ้าอยู่ด้วย': 'May God live too.', '油腻': 'Greasy', 'ᗯoᗰeᑎ': 'ᗯoᗰe ᑎ', 'להתראות': 'Goodbye', 'वाले': 'Ones', 'አየሁ': 'I saw', 'ओर': 'And', 'ずand': 'Without', 'निगोड़ा': 'Nigoda', 'эй': 'Hey'}"
   ]
  },
  {
   "cell_type": "code",
   "execution_count": 26,
   "metadata": {
    "_kg_hide-input": true,
    "_uuid": "3826897f4f4bd456926ce0238cccc8e3e2a7ee53"
   },
   "outputs": [],
   "source": [
    "mispell_dict = {\"trimp\": \"trump\", \"wanket\": \"wanker\",'colour': 'color', 'centre': 'center', 'favourite': 'favorite', 'travelling': 'traveling', 'counselling': 'counseling', 'theatre': 'theater', 'cancelled': 'canceled', 'labour': 'labor', 'organisation': 'organization', 'wwii': 'world war 2', 'citicise': 'criticize', 'youtu ': 'youtube ', 'qoura': 'quora', 'sallary': 'salary', 'whta': 'what', 'narcisist': 'narcissist', 'howdo': 'how do', 'whatare': 'what are', 'howcan': 'how can', 'howmuch': 'how much', 'howmany': 'how many', 'whydo': 'why do', 'doI': 'do I', 'theBest': 'the best', 'howdoes': 'how does', 'mastrubation': 'masturbation', 'mastrubate': 'masturbate', \"mastrubating\": 'masturbating', 'pennis': 'penis', 'etherium': 'ethereum', 'narcissit': 'narcissist', 'bigdata': 'big data', '2k17': '2017', '2k18': '2018', 'qouta': 'quota', 'exboyfriend': 'ex boyfriend', 'airhostess': 'air hostess', \"whst\": 'what', 'watsapp': 'whatsapp', 'demonitisation': 'demonetization', 'demonitization': 'demonetization',}"
   ]
  },
  {
   "cell_type": "code",
   "execution_count": 27,
   "metadata": {
    "_kg_hide-input": true,
    "_uuid": "2a3993c1a67c47c0d2e79f6600138b7b735f372c"
   },
   "outputs": [],
   "source": [
    "cryptos_dic = {'Litecoin': 'cryptocurrency', 'altcoin': 'cryptocurrency', 'altcoins': 'cryptocurrency', 'coinbase': 'cryptocurrency', 'litecoin': 'cryptocurrency', 'Unocoin': 'cryptocurrency', 'Dogecoin': 'cryptocurrency', 'cryptocoin': 'cryptocurrency', 'Altcoins': 'cryptocurrency', 'filecoin': 'cryptocurrency', 'Altcoin': 'cryptocurrency', 'cryptocoins': 'cryptocurrency', 'Altacoin': 'cryptocurrency', 'Dentacoin': 'cryptocurrency', 'Bytecoin': 'cryptocurrency', 'Siacoin': 'cryptocurrency', 'Onecoin': 'cryptocurrency', 'dogecoin': 'cryptocurrency', 'unocoin': 'cryptocurrency', 'siacoin': 'cryptocurrency', 'litecoins': 'cryptocurrency', 'Filecoin': 'cryptocurrency', 'Buyucoin': 'cryptocurrency', 'Litecoins': 'cryptocurrency', 'Laxmicoin': 'cryptocurrency', 'shtcoins': 'cryptocurrency', 'Sweatcoin': 'cryptocurrency', 'Skycoin': 'cryptocurrency', 'vitrocoin': 'cryptocurrency', 'Monacoin': 'cryptocurrency', 'Litcoin': 'cryptocurrency', 'reddcoin': 'cryptocurrency', 'freebitcoin': 'cryptocurrency', 'Namecoin': 'cryptocurrency', 'plexcoin': 'cryptocurrency', 'Onecoins': 'cryptocurrency', 'daikicoin': 'cryptocurrency', 'Gainbitcoin': 'cryptocurrency', 'Gatecoin': 'cryptocurrency', 'Plexcoin': 'cryptocurrency', 'peercoin': 'cryptocurrency', 'coinsecure': 'cryptocurrency', 'dogecoins': 'cryptocurrency', 'cointries': 'cryptocurrency', 'Zcoin': 'cryptocurrency', 'genxcoin': 'cryptocurrency', 'Frazcoin': 'cryptocurrency', 'frazcoin': 'cryptocurrency', 'coinify': 'cryptocurrency', 'Nagricoin': 'cryptocurrency', 'OKcoin': 'cryptocurrency', 'Presscoins': 'cryptocurrency', 'Dagcoin': 'cryptocurrency', 'batcoin': 'cryptocurrency', 'Spectrocoin': 'cryptocurrency', 'Travelflexcoin': 'cryptocurrency', 'ecoin': 'cryptocurrency', 'Minexcoin': 'cryptocurrency', 'Kashhcoin': 'cryptocurrency', 'coinone': 'cryptocurrency', 'octacoin': 'cryptocurrency', 'coinsides': 'cryptocurrency', 'zabercoin': 'cryptocurrency', 'ADZcoin': 'cryptocurrency', 'cyptocoin': 'cryptocurrency', 'bitecoin': 'cryptocurrency', 'Bitecoin': 'cryptocurrency', 'Emercoin': 'cryptocurrency', 'tegcoin': 'cryptocurrency', 'flipcoin': 'cryptocurrency', 'Gridcoin': 'cryptocurrency', 'Facecoin': 'cryptocurrency', 'Ravencoins': 'cryptocurrency', 'digicoin': 'cryptocurrency', 'bitcoincash': 'cryptocurrency', 'Vitrocoin': 'cryptocurrency', 'Livecoin': 'cryptocurrency', 'dashcoin': 'cryptocurrency', 'Fedcoin': 'cryptocurrency', 'litcoins': 'cryptocurrency', 'Webcoin': 'cryptocurrency', 'coinspot': 'cryptocurrency', 'bitoxycoin': 'cryptocurrency', 'peercoins': 'cryptocurrency', 'Ucoin': 'cryptocurrency', 'ALTcoins': 'cryptocurrency', 'coincidece': 'cryptocurrency', 'dagcoin': 'cryptocurrency', 'Giracoin': 'cryptocurrency', 'coincheck': 'cryptocurrency', 'Swisscoin': 'cryptocurrency', 'butcoin': 'cryptocurrency', 'neocoin': 'cryptocurrency', 'mintcoin': 'cryptocurrency', 'Myriadcoin': 'cryptocurrency', 'Viacoin': 'cryptocurrency', 'jiocoin': 'cryptocurrency', 'Potcoin': 'cryptocurrency', 'bibitcoin': 'cryptocurrency', 'gainbitcoin': 'cryptocurrency', 'altercoins': 'cryptocurrency', 'coinburn': 'cryptocurrency', 'Kodakcoin': 'cryptocurrency', 'Bcoin': 'cryptocurrency', 'Kucoin': 'cryptocurrency', 'Operacoin': 'cryptocurrency', 'Lomocoin': 'cryptocurrency', 'dentacoin': 'cryptocurrency', 'Nyancoin': 'cryptocurrency', 'Jiocoin': 'cryptocurrency', 'Indicoin': 'cryptocurrency', 'coinsidered': 'cryptocurrency', 'Vertcoin': 'cryptocurrency', 'Maidsafecoin': 'cryptocurrency', 'coindelta': 'cryptocurrency', 'coinfirm': 'cryptocurrency', 'coinvest': 'cryptocurrency', 'bixcoin': 'cryptocurrency', 'litcoin': 'cryptocurrency', 'Dogecoins': 'cryptocurrency', 'Unicoin': 'cryptocurrency', 'Rothscoin': 'cryptocurrency', 'localbitcoins': 'cryptocurrency', 'groestlcoin': 'cryptocurrency', 'sibcoin': 'cryptocurrency', 'Travelercoin': 'cryptocurrency', 'Vericoin': 'cryptocurrency', 'bytecoin': 'cryptocurrency', 'Bananacoin': 'cryptocurrency', 'PACcoin': 'cryptocurrency'}"
   ]
  },
  {
   "cell_type": "code",
   "execution_count": 28,
   "metadata": {
    "_kg_hide-input": true,
    "_uuid": "b86fbc5b0463f4d931c3cc11cf23505d912d9c86"
   },
   "outputs": [],
   "source": [
    "# More misspells\n",
    "misspell_mapping = {'Terroristan': 'terrorist Pakistan', 'terroristan': 'terrorist Pakistan', 'FATF': 'Western summit conference', 'BIMARU': 'BIMARU Bihar, Madhya Pradesh, Rajasthan, Uttar Pradesh', 'Hinduphobic': 'Hindu phobic', 'hinduphobic': 'Hindu phobic', 'Hinduphobia': 'Hindu phobic', 'hinduphobia': 'Hindu phobic', 'Babchenko': 'Arkady Arkadyevich Babchenko faked death', 'Boshniaks': 'Bosniaks', 'Dravidanadu': 'Dravida Nadu', 'mysoginists': 'misogynists', 'MGTOWS': 'Men Going Their Own Way', 'mongloid': 'Mongoloid', 'unsincere': 'insincere', 'meninism': 'male feminism', 'jewplicate': 'jewish replicate', 'jewplicates': 'jewish replicate', 'andhbhakts': 'and Bhakt', 'unoin': 'Union', 'daesh': 'Islamic State of Iraq and the Levant', 'burnol': 'movement about Modi', 'Kalergi': 'Coudenhove-Kalergi', 'Bhakts': 'Bhakt', 'bhakts': 'Bhakt', 'Tambrahms': 'Tamil Brahmin', 'Pahul': 'Amrit Sanskar', 'SJW': 'social justice warrior', 'SJWs': 'social justice warrior', ' incel': ' involuntary celibates', ' incels': ' involuntary celibates', 'emiratis': 'Emiratis', 'weatern': 'western', 'westernise': 'westernize', 'Pizzagate': 'debunked conspiracy theory', 'naïve': 'naive', 'Skripal': 'Russian military officer', 'Skripals': 'Russian military officer', 'Remainers': 'British remainer', 'Novichok': 'Soviet Union agents', 'gauri lankesh': 'Famous Indian Journalist', 'Castroists': 'Castro supporters', 'remainers': 'British remainer', 'bremainer': 'British remainer', 'antibrahmin': 'anti Brahminism', 'HYPSM': ' Harvard, Yale, Princeton, Stanford, MIT', 'HYPS': ' Harvard, Yale, Princeton, Stanford', 'kompromat': 'compromising material', 'Tharki': 'pervert', 'tharki': 'pervert', 'mastuburate': 'masturbate', 'Zoë': 'Zoe', 'indans': 'Indian', ' xender': ' gender', 'Naxali ': 'Naxalite ', 'Naxalities': 'Naxalites', 'Bathla': 'Namit Bathla', 'Mewani': 'Indian politician Jignesh Mevani', 'Wjy': 'Why', 'Fadnavis': 'Indian politician Devendra Fadnavis', 'Awadesh': 'Indian engineer Awdhesh Singh', 'Awdhesh': 'Indian engineer Awdhesh Singh', 'Khalistanis': 'Sikh separatist movement', 'madheshi': 'Madheshi', 'BNBR': 'Be Nice, Be Respectful', 'Jair Bolsonaro': 'Brazilian President politician', 'XXXTentacion': 'Tentacion', 'Slavoj Zizek': 'Slovenian philosopher', 'borderliners': 'borderlines', 'Brexit': 'British Exit', 'Brexiter': 'British Exit supporter', 'Brexiters': 'British Exit supporters', 'Brexiteer': 'British Exit supporter', 'Brexiteers': 'British Exit supporters', 'Brexiting': 'British Exit', 'Brexitosis': 'British Exit disorder', 'brexit': 'British Exit', 'brexiters': 'British Exit supporters', 'jallikattu': 'Jallikattu', 'fortnite': 'Fortnite', 'Swachh': 'Swachh Bharat mission campaign ', 'Quorans': 'Quora users', 'Qoura': 'Quora', 'quoras': 'Quora', 'Quroa': 'Quora', 'QUORA': 'Quora', 'Stupead': 'stupid', 'narcissit': 'narcissist', 'trigger nometry': 'trigonometry', 'trigglypuff': 'student Criticism of Conservatives', 'peoplelook': 'people look', 'paedophelia': 'paedophilia', 'Uogi': 'Yogi', 'adityanath': 'Adityanath', 'Yogi Adityanath': 'Indian monk and Hindu nationalist politician', 'Awdhesh Singh': 'Commissioner of India', 'Doklam': 'Tibet', 'Drumpf ': 'Donald Trump fool ', 'Drumpfs': 'Donald Trump fools', 'Strzok': 'Hillary Clinton scandal', 'rohingya': 'Rohingya ', \n",
    "                    ' wumao ': ' cheap Chinese stuff ', 'wumaos': 'cheap Chinese stuff', 'Sanghis': 'Sanghi', 'Tamilans': 'Tamils', 'biharis': 'Biharis', 'Rejuvalex': 'hair growth formula Medicine', 'Fekuchand': 'PM Narendra Modi in India', 'feku': 'Feku', 'Chaiwala': 'tea seller in India', 'Feku': 'PM Narendra Modi in India ', 'deplorables': 'deplorable', 'muhajirs': 'Muslim immigrant', 'Gujratis': 'Gujarati', 'Chutiya': 'Tibet people ', 'Chutiyas': 'Tibet people ', 'thighing': 'masterbate between the legs of a female infant', '卐': 'Nazi Germany', 'Pribumi': 'Native Indonesian', 'Gurmehar': 'Gurmehar Kaur Indian student activist', 'Khazari': 'Khazars', 'Demonetization': 'demonetization', 'demonetisation': 'demonetization', 'demonitisation': 'demonetization', 'demonitization': 'demonetization', 'antinationals': 'antinational', 'Cryptocurrencies': 'cryptocurrency', 'cryptocurrencies': 'cryptocurrency', 'Hindians': 'North Indian', 'Hindian': 'North Indian', 'vaxxer': 'vocal nationalist ', 'remoaner': 'remainer ', 'bremoaner': 'British remainer ', 'Jewism': 'Judaism', 'Eroupian': 'European', \"J & K Dy CM H ' ble Kavinderji\": '', 'WMAF': 'White male married Asian female', 'AMWF': 'Asian male married White female', 'moeslim': 'Muslim', 'cishet': 'cisgender and heterosexual person', 'Eurocentrics': 'Eurocentrism', 'Eurocentric': 'Eurocentrism', 'Afrocentrics': 'Africa centrism', 'Afrocentric': 'Africa centrism', 'Jewdar': 'Jew dar', 'marathis': 'Marathi', 'Gynophobic': 'Gyno phobic', 'Trumpanzees': 'Trump chimpanzee fool', 'Crimean': 'Crimea people ', 'atrracted': 'attract', 'Myeshia': 'widow of Green Beret killed in Niger', 'demcoratic': 'Democratic', 'raaping': 'raping', 'feminazism': 'feminism nazi', 'langague': 'language', 'sathyaraj': 'actor', 'Hongkongese': 'HongKong people', 'hongkongese': 'HongKong people', 'Kashmirians': 'Kashmirian', 'Chodu': 'fucker', 'penish': 'penis', 'chitpavan konkanastha': 'Hindu Maharashtrian Brahmin community', 'Madridiots': 'Real Madrid idiot supporters', 'Ambedkarite': 'Dalit Buddhist movement ', 'ReleaseTheMemo': 'cry for the right and Trump supporters', 'harrase': 'harass', 'Barracoon': 'Black slave', 'Castrater': 'castration', 'castrater': 'castration', 'Rapistan': 'Pakistan rapist', 'rapistan': 'Pakistan rapist', 'Turkified': 'Turkification', 'turkified': 'Turkification', 'Dumbassistan': 'dumb ass Pakistan', 'facetards': 'Facebook retards', 'rapefugees': 'rapist refugee', 'Khortha': 'language in the Indian state of Jharkhand', 'Magahi': 'language in the northeastern Indian', 'Bajjika': 'language spoken in eastern India', 'superficious': 'superficial', 'Sense8': 'American science fiction drama web television series', 'Saipul Jamil': 'Indonesia artist', 'bhakht': 'bhakti', 'Smartia': 'dumb nation', 'absorve': 'absolve', 'citicise': 'criticize', 'youtu ': 'youtube ', 'Whta': 'What', 'esspecial': 'especial', 'doI': 'do I', 'theBest': 'the best', 'howdoes': 'how does', 'Etherium': 'Ethereum', '2k17': '2017', '2k18': '2018', 'qiblas': 'qibla', 'Hello4 2 cab': 'Online Cab Booking', 'bodyshame': 'body shaming', 'bodyshoppers': 'body shopping', 'bodycams': 'body cams', 'Cananybody': 'Can any body', 'deadbody': 'dead body', 'deaddict': 'de addict', 'Northindian': 'North Indian ', 'northindian': 'north Indian ', 'northkorea': 'North Korea', 'koreaboo': 'Korea boo ', 'Brexshit': 'British Exit bullshit', 'shitpost': 'shit post', 'shitslam': 'shit Islam', 'shitlords': 'shit lords', 'Fck': 'Fuck', 'Clickbait': 'click bait ', 'clickbait': 'click bait ', 'mailbait': 'mail bait', 'healhtcare': 'healthcare', 'trollbots': 'troll bots', 'trollled': 'trolled', 'trollimg': 'trolling', 'cybertrolling': 'cyber trolling', 'sickular': 'India sick secular ', 'Idiotism': 'idiotism', 'Niggerism': 'Nigger', 'Niggeriah': 'Nigger'}"
   ]
  },
  {
   "cell_type": "markdown",
   "metadata": {
    "_uuid": "e0db95a02a685497b072d2749832755523a87e3e"
   },
   "source": [
    "#### All substitutions"
   ]
  },
  {
   "cell_type": "code",
   "execution_count": 29,
   "metadata": {
    "_uuid": "f747e2b8793a0ecb1e0b5c2a8fb35e7142084a2b"
   },
   "outputs": [],
   "source": [
    "def add_maj(dic):\n",
    "    d = dic.copy()\n",
    "    for w in dic.keys():\n",
    "        try:\n",
    "            d[w[0].upper() + w[1:]] = dic[w][0].upper() + dic[w][1:]\n",
    "        except:\n",
    "            d[w[0].upper()] = dic[w][0].upper()\n",
    "    return d"
   ]
  },
  {
   "cell_type": "code",
   "execution_count": 30,
   "metadata": {
    "_uuid": "393f97923716a1210d1a614712129a4916ba86fb"
   },
   "outputs": [],
   "source": [
    "substitution_dic = {}\n",
    "substitution_dic.update(mispell_dict)\n",
    "substitution_dic = add_maj(substitution_dic)\n",
    "substitution_dic.update(letter_mapping)\n",
    "#substitution_dic.update(rare_words_mapping)\n",
    "#substitution_dic.update(cryptos_dic)"
   ]
  },
  {
   "cell_type": "markdown",
   "metadata": {
    "_uuid": "6e07bec25e2aaa775681535973ff5b6ad9a794e2"
   },
   "source": [
    "#### Substitutions"
   ]
  },
  {
   "cell_type": "code",
   "execution_count": 31,
   "metadata": {
    "_uuid": "76d7f363e592f975b6f2e022180e6df822988d13"
   },
   "outputs": [],
   "source": [
    "def _get_substitution(sub_dic):\n",
    "    sub_re = re.compile('(%s)' % '|'.join(sub_dic.keys()))\n",
    "    return sub_dic, sub_re\n",
    "\n",
    "substitutions, substitutions_re = _get_substitution(substitution_dic)\n",
    "\n",
    "def replace_substitution(text):\n",
    "    def replace(match):\n",
    "        return substitutions[match.group(0)]\n",
    "    return substitutions_re.sub(replace, text)"
   ]
  },
  {
   "cell_type": "markdown",
   "metadata": {
    "_uuid": "d933a46addd54cbf5604e015f2068ad1c3e6607d"
   },
   "source": [
    "#### Apostrophes"
   ]
  },
  {
   "cell_type": "code",
   "execution_count": 32,
   "metadata": {
    "_uuid": "afb88e1b29c7f811426b9031cfc58382a6690ffa"
   },
   "outputs": [],
   "source": [
    "def clean_apostrophes(x):\n",
    "    apostrophes = [\"’\", \"‘\", \"´\", \"`\"]\n",
    "    for s in apostrophes:\n",
    "        x = re.sub(s, \"'\", x)\n",
    "    return x"
   ]
  },
  {
   "cell_type": "markdown",
   "metadata": {
    "_uuid": "434f5d0ce954bc74bd5fa6ff73deb41e93cfbeaf"
   },
   "source": [
    "#### 's"
   ]
  },
  {
   "cell_type": "code",
   "execution_count": 33,
   "metadata": {
    "_uuid": "9a169221495370131b024ca0fd1943834998dec9"
   },
   "outputs": [],
   "source": [
    "def remove_s(x): \n",
    "    if len(x) > 2:\n",
    "        return re.sub(\"('$ |'$|'s |'s)\", ' ', x)\n",
    "    else:\n",
    "        return x"
   ]
  },
  {
   "cell_type": "markdown",
   "metadata": {
    "_uuid": "aea95aa6cac820d7b2696526f198c0f74188749d"
   },
   "source": [
    "#### Spaces"
   ]
  },
  {
   "cell_type": "code",
   "execution_count": 34,
   "metadata": {
    "_uuid": "1535526d3abbc69d6621948bcd02f52d9b797b9b"
   },
   "outputs": [],
   "source": [
    "spaces = ['\\u200b', '\\u200e', '\\u202a', '\\u202c', '\\ufeff', '\\uf0d8', '\\u2061', '\\x10', '\\x7f', '\\x9d', '\\xad', '\\xa0']\n",
    "def clean_spaces(text):\n",
    "    for space in spaces:\n",
    "        text = text.replace(space, ' ')\n",
    "    text = text.strip()\n",
    "    text = re.sub('\\s+', ' ', text)\n",
    "    return text"
   ]
  },
  {
   "cell_type": "markdown",
   "metadata": {
    "_uuid": "22caa7fce679cfa148af434c91d4faf7fa96b70b"
   },
   "source": [
    "#### Capital Letters"
   ]
  },
  {
   "cell_type": "code",
   "execution_count": 35,
   "metadata": {
    "_uuid": "be813d2ff21417535c017d235a6bf629c156fb9f"
   },
   "outputs": [],
   "source": [
    "def lower(text):\n",
    "    return text.lower()"
   ]
  },
  {
   "cell_type": "code",
   "execution_count": 36,
   "metadata": {
    "_uuid": "6e0d2295e5226150b90bfdc810ca46f88947f260"
   },
   "outputs": [],
   "source": [
    "def lower_first_in_sentence(text):\n",
    "    spl = re.compile('(\\?+ *|\\!+ *|\\.+ *)')\n",
    "    \n",
    "    def lower_firts(x): \n",
    "        if (len(x) < 2 or x[0] == \"I\"):\n",
    "            return x\n",
    "        else:\n",
    "            return x[0].lower() + x[1:]\n",
    "    \n",
    "    return ''.join([lower_firts(i) for i in re.split(spl, text)])"
   ]
  },
  {
   "cell_type": "markdown",
   "metadata": {
    "_uuid": "bef654848609e2342eadfc9ae744caf80b58ca65"
   },
   "source": [
    "#### Contractions"
   ]
  },
  {
   "cell_type": "code",
   "execution_count": 37,
   "metadata": {
    "_uuid": "deb633646949aa4365ab3a14a53212e88771ea49"
   },
   "outputs": [],
   "source": [
    "def decontract(text):\n",
    "    text = re.sub(r\"(W|w)on(\\'|\\’)t \", \"will not \", text)\n",
    "    text = re.sub(r\"(C|c)an(\\'|\\’)t \", \"can not \", text)\n",
    "    text = re.sub(r\"(Y|y)(\\'|\\’)all \", \"you all \", text)\n",
    "    text = re.sub(r\"(Y|y)a(\\'|\\’)ll \", \"you all \", text)\n",
    "    text = re.sub(r\"(I|i)(\\'|\\’)m \", \"i am \", text)\n",
    "    text = re.sub(r\"(A|a)isn(\\'|\\’)t \", \"is not \", text)\n",
    "    text = re.sub(r\"n(\\'|\\’)t \", \" not \", text)\n",
    "    text = re.sub(r\"(\\'|\\’)re \", \" are \", text)\n",
    "    text = re.sub(r\"(\\'|\\’)s \", \" is \", text)\n",
    "    text = re.sub(r\"(\\'|\\’)d \", \" would \", text)\n",
    "    text = re.sub(r\"(\\'|\\’)ll \", \" will \", text)\n",
    "    text = re.sub(r\"(\\'|\\’)t \", \" not \", text)\n",
    "    text = re.sub(r\"(\\'|\\’)ve \", \" have \", text)\n",
    "    return text"
   ]
  },
  {
   "cell_type": "markdown",
   "metadata": {
    "_uuid": "305679ae8304397b069f4fcb21210623d9ee1a56"
   },
   "source": [
    "#### Numbers"
   ]
  },
  {
   "cell_type": "code",
   "execution_count": 38,
   "metadata": {
    "_uuid": "1e8e6ddf58ef800f8629986af057bd662e0998ae"
   },
   "outputs": [],
   "source": [
    "def clean_numbers(text):\n",
    "    text = re.sub(r'(\\d+)([a-zA-Z])', '\\g<1> \\g<2>', text)\n",
    "    text = re.sub(r'(\\d+) (th|st|nd|rd) ', '\\g<1>\\g<2> ', text)\n",
    "    text = re.sub(r'(\\d+),(\\d+)', '\\g<1>\\g<2>', text)\n",
    "    return text"
   ]
  },
  {
   "cell_type": "markdown",
   "metadata": {
    "_uuid": "5d807c0b2ba1570a06d34a02ace1d4a93ac4dd73"
   },
   "source": [
    "#### Special characters"
   ]
  },
  {
   "cell_type": "code",
   "execution_count": 39,
   "metadata": {
    "_uuid": "2304a6cb62d38bd040d77e298be2e68ffc18f7f2"
   },
   "outputs": [],
   "source": [
    "def clean_special_chars(text, punct=useful_punct):\n",
    "    #punct = \"'☹?!,.#$%()*+-:;<=>@[]^{|}~°£❤✓«»ː&®€™♥àâéèêëïîôùü…\" + '\"\\\\/_'\n",
    "    #text = re.sub(r'[^\\x20-\\x7e\\☹\\?\\!\\\"\\,\\.\\#\\$\\%\\(\\)\\*\\+\\-\\/\\\\\\_\\:\\;\\<\\=\\>\\@\\[\\]\\^\\{\\|\\}\\~\\°\\£\\❤\\✓\\«\\»\\ː\\&\\®\\€\\™\\♥\\à\\â\\é\\è\\ê\\ë\\ï\\î\\ô\\ù\\ü\\…]', r'', text)\n",
    "    for p in punct:\n",
    "        text = text.replace(p, f' {p} ')\n",
    "    return text"
   ]
  },
  {
   "cell_type": "markdown",
   "metadata": {
    "_uuid": "3327c1f0f99a3364072019c3711a955599b77188"
   },
   "source": [
    "#### Latex Tag"
   ]
  },
  {
   "cell_type": "code",
   "execution_count": 40,
   "metadata": {
    "_uuid": "b5d9a972aec0a9bdfb5829a96420f1ca6c9ef988"
   },
   "outputs": [],
   "source": [
    "def clean_latex_tag(text):\n",
    "    corr_t = []\n",
    "    for t in text.split(\" \"):\n",
    "        t = t.strip()\n",
    "        if t != '':\n",
    "            corr_t.append(t)\n",
    "    text = ' '.join(corr_t)\n",
    "    text = re.sub('(\\[ math \\]).+(\\[ / math \\])', 'mathematical formula', text)\n",
    "    return text"
   ]
  },
  {
   "cell_type": "markdown",
   "metadata": {
    "_uuid": "4c09c6d749df5f9153a231033307586863f1337a"
   },
   "source": [
    "### Applying stuff"
   ]
  },
  {
   "cell_type": "code",
   "execution_count": 41,
   "metadata": {
    "_kg_hide-input": true,
    "_uuid": "bbdaa69579a9b0441ea8a1d05fc06cc757497695"
   },
   "outputs": [],
   "source": [
    "def build_vocab(texts):\n",
    "    vocab = {}\n",
    "    for sentence in texts:\n",
    "        for word in sentence.split(' '):\n",
    "            try:\n",
    "                vocab[word] += 1\n",
    "            except KeyError:\n",
    "                vocab[word] = 1\n",
    "    return vocab"
   ]
  },
  {
   "cell_type": "code",
   "execution_count": 42,
   "metadata": {
    "_uuid": "5c018dc156854979b6a15c4f6dcb8df2dce65675"
   },
   "outputs": [
    {
     "name": "stdout",
     "output_type": "stream",
     "text": [
      "Number of available cpu cores: 2\n"
     ]
    }
   ],
   "source": [
    "from multiprocessing import Pool, cpu_count\n",
    "print(\"Number of available cpu cores: {}\".format(cpu_count()))\n",
    "\n",
    "def process_in_parallel(function, list_):\n",
    "    with Pool(cpu_count()) as p:\n",
    "        tmp = p.map(function, list_)\n",
    "    return tmp"
   ]
  },
  {
   "cell_type": "code",
   "execution_count": 43,
   "metadata": {
    "_uuid": "c69deec8fc27d3e72acadbf2ded5e1b1bbe87602"
   },
   "outputs": [],
   "source": [
    "def treat_texts(texts):\n",
    "    texts = process_in_parallel(clean_apostrophes, texts)\n",
    "    texts = process_in_parallel(replace_substitution, texts)\n",
    "    texts = process_in_parallel(decontract, texts)\n",
    "    texts = process_in_parallel(remove_s, texts)\n",
    "    texts = process_in_parallel(clean_numbers, texts)\n",
    "    texts = process_in_parallel(clean_special_chars, texts)\n",
    "    texts = process_in_parallel(clean_spaces, texts)\n",
    "    texts = process_in_parallel(clean_latex_tag, texts)   \n",
    "    return texts"
   ]
  },
  {
   "cell_type": "code",
   "execution_count": 44,
   "metadata": {
    "_uuid": "d515dc065cd07136a44935c0c66bff0c54b8804f"
   },
   "outputs": [
    {
     "name": "stdout",
     "output_type": "stream",
     "text": [
      "CPU times: user 10.2 s, sys: 4.2 s, total: 14.4 s\n",
      "Wall time: 3min 14s\n"
     ]
    }
   ],
   "source": [
    "%%time\n",
    "train_df[\"question_text\"] = treat_texts(train_df[\"question_text\"])\n",
    "test_df[\"question_text\"] = treat_texts(test_df[\"question_text\"])"
   ]
  },
  {
   "cell_type": "code",
   "execution_count": 45,
   "metadata": {
    "_uuid": "8e20598cb5df70d93c62f4289f73d7a449ebbd87"
   },
   "outputs": [
    {
     "name": "stdout",
     "output_type": "stream",
     "text": [
      "My voice range is A2 - C5 . My chest voice goes up to F4 . Included sample in my higher chest range . What is my voice type ?\n",
      "How much does a tutor earn in Bangalore ?\n",
      "What are the best made pocket knives under $ 200 - 300 ?\n",
      "Why would they add a hypothetical scenario that is impossible to happen in the link below ? It shows what 800 meters rise in sea level would look like .\n",
      "What is the dresscode for Techmahindra freshers ?\n"
     ]
    }
   ],
   "source": [
    "for q in test_df[\"question_text\"][:5]:\n",
    "    print(q)"
   ]
  },
  {
   "cell_type": "code",
   "execution_count": 46,
   "metadata": {
    "_uuid": "a502a71499813490b3c369413df52c61f75ce988"
   },
   "outputs": [],
   "source": [
    "vocab = build_vocab(list(train_df[\"question_text\"]) + list(test_df[\"question_text\"]))"
   ]
  },
  {
   "cell_type": "markdown",
   "metadata": {
    "_uuid": "77496cf68d2a85c0878ffd396de6f50d21673eb2"
   },
   "source": [
    "## Input "
   ]
  },
  {
   "cell_type": "code",
   "execution_count": 47,
   "metadata": {
    "_uuid": "9a3f78378d46733734d412cf40d069a6b4817436"
   },
   "outputs": [],
   "source": [
    "len_voc = None\n",
    "max_len = 70"
   ]
  },
  {
   "cell_type": "code",
   "execution_count": 48,
   "metadata": {
    "_uuid": "fc092308b5a26ecb8d6299a704eac1e0a824cf9e"
   },
   "outputs": [],
   "source": [
    "def make_input_data(X_train, X_test):\n",
    "    t = Tokenizer(num_words=len_voc, filters='', lower=False)\n",
    "    t.fit_on_texts((np.concatenate((X_train, X_test), axis=0)))\n",
    "    X_train = t.texts_to_sequences(X_train)\n",
    "    X_test = t.texts_to_sequences(X_test)\n",
    "    X_train = pad_sequences(X_train, maxlen=max_len, padding='post', truncating='post')\n",
    "    X_test = pad_sequences(X_test, maxlen=max_len, padding='post', truncating='post')\n",
    "\n",
    "    return X_train, X_test, t.word_index"
   ]
  },
  {
   "cell_type": "code",
   "execution_count": 49,
   "metadata": {
    "_uuid": "68847d69312b393b5b81da8c3409b4ea5841dfdb"
   },
   "outputs": [
    {
     "name": "stdout",
     "output_type": "stream",
     "text": [
      "CPU times: user 52.8 s, sys: 492 ms, total: 53.3 s\n",
      "Wall time: 53.3 s\n"
     ]
    }
   ],
   "source": [
    "%%time\n",
    "X_train, X_test, word_index = make_input_data(train_df['question_text'], test_df['question_text'])"
   ]
  },
  {
   "cell_type": "code",
   "execution_count": 50,
   "metadata": {
    "_uuid": "8c336b14c8b69e9b87ea27e2bea1a8721d39dd76",
    "scrolled": true
   },
   "outputs": [
    {
     "name": "stdout",
     "output_type": "stream",
     "text": [
      "Generated 5 features : caps_vs_length, words_vs_unique, toxic_ratio, total_length, word_freq\n"
     ]
    },
    {
     "name": "stderr",
     "output_type": "stream",
     "text": [
      "/opt/conda/lib/python3.6/site-packages/ipykernel_launcher.py:11: DataConversionWarning: Data with input dtype int64, float64 were all converted to float64 by StandardScaler.\n",
      "  # This is added back by InteractiveShellApp.init_path()\n",
      "/opt/conda/lib/python3.6/site-packages/ipykernel_launcher.py:12: DataConversionWarning: Data with input dtype int64, float64 were all converted to float64 by StandardScaler.\n",
      "  if sys.path[0] == '':\n"
     ]
    }
   ],
   "source": [
    "if with_features:\n",
    "    features = ['caps_vs_length', 'words_vs_unique', 'toxic_ratio', 'total_length', 'word_freq']\n",
    "    nb_features = len(features)\n",
    "\n",
    "    features_train = train_df[features].fillna(0)\n",
    "    features_test = test_df[features].fillna(0)\n",
    "    #features_out = out_df[features].fillna(0)\n",
    "\n",
    "    ss = StandardScaler()\n",
    "    ss.fit(np.vstack((features_train, features_test)))\n",
    "    features_train = ss.transform(features_train)\n",
    "    features_test = ss.transform(features_test)\n",
    "    #features_out = ss.transform(features_out)\n",
    "\n",
    "    print(f\"Generated {nb_features} features : {', '.join(features)}\")"
   ]
  },
  {
   "cell_type": "code",
   "execution_count": 51,
   "metadata": {
    "_uuid": "ba5a1b8109dee2c9fbc628d5da4a7c3447d42fb8"
   },
   "outputs": [],
   "source": [
    "y_train = train_df['target'].values"
   ]
  },
  {
   "cell_type": "code",
   "execution_count": 52,
   "metadata": {
    "_uuid": "6a1db7061c715cfe802a3405203606bcbd4fe8f4"
   },
   "outputs": [],
   "source": [
    "len_voc = len(word_index) + 1"
   ]
  },
  {
   "cell_type": "markdown",
   "metadata": {
    "_uuid": "57533e8b1621dd25eff1196e9a183e2ef94a13bd"
   },
   "source": [
    "## Embedding matrices"
   ]
  },
  {
   "cell_type": "code",
   "execution_count": 53,
   "metadata": {
    "_kg_hide-input": true,
    "_uuid": "0f838586cdf876df076b2a1232f2f9b65df9650d"
   },
   "outputs": [],
   "source": [
    "def make_embed_index(file, word_index, vocab=[], exceptions={}):\n",
    "    def get_coefs(word,*arr): \n",
    "        return word, np.asarray(arr, dtype='float32')\n",
    "    \n",
    "    if file == FASTTEXT:\n",
    "        embeddings_index = dict(get_coefs(*o.split(\" \")) for o in open(file) if len(o)>100 and o.split(\" \")[0] in word_index )\n",
    "    if file == PARAGRAM:\n",
    "        embeddings_index = dict(get_coefs(*o.split(\" \")) for o in open(file, encoding=\"utf8\", errors='ignore') if len(o)>100 and o.split(\" \")[0] in word_index)\n",
    "    else: #GloVe\n",
    "        embeddings_index = dict(get_coefs(*o.split(\" \")) for o in open(file) if o.split(\" \")[0] in word_index)\n",
    "    \n",
    "    for word in vocab:\n",
    "        try:\n",
    "            _ = embeddings_index[word]\n",
    "        except:\n",
    "            try:\n",
    "                embeddings_index[word] = embeddings_index[word.lower()]\n",
    "            except:\n",
    "                try:\n",
    "                    embeddings_index[word] = embeddings_index[word.upper()]\n",
    "                except:\n",
    "                    try:\n",
    "                        embeddings_index[word] = embeddings_index[word[0].upper() + word[1:].lower()]\n",
    "                    except:\n",
    "                        pass\n",
    "            \n",
    "    return embeddings_index"
   ]
  },
  {
   "cell_type": "code",
   "execution_count": 54,
   "metadata": {
    "_kg_hide-input": true,
    "_uuid": "83c10d5e2279e7af93f827344a8fd6fd08b975b7"
   },
   "outputs": [],
   "source": [
    "def make_embed_mat(embeddings_index):\n",
    "    all_embs = np.stack(embeddings_index.values())\n",
    "    emb_mean,emb_std = all_embs.mean(), all_embs.std()\n",
    "    embed_size = all_embs.shape[1]\n",
    "\n",
    "    embedding_matrix = np.random.normal(emb_mean, emb_std, (len(word_index)+1, embed_size))\n",
    "    for word, i in word_index.items():\n",
    "        embedding_vector = embeddings_index.get(word)\n",
    "        if embedding_vector is not None: \n",
    "            embedding_matrix[i] = embedding_vector\n",
    "\n",
    "    return embedding_matrix"
   ]
  },
  {
   "cell_type": "code",
   "execution_count": 55,
   "metadata": {
    "_uuid": "03cce1bc5525b77a3d6833d12e3a68ef1e453c19"
   },
   "outputs": [
    {
     "name": "stdout",
     "output_type": "stream",
     "text": [
      "CPU times: user 52.1 s, sys: 2.67 s, total: 54.8 s\n",
      "Wall time: 54.9 s\n"
     ]
    }
   ],
   "source": [
    "%%time\n",
    "glove_index = make_embed_index(GLOVE, word_index, vocab)"
   ]
  },
  {
   "cell_type": "code",
   "execution_count": 56,
   "metadata": {
    "_uuid": "4dffc0ae5f8fb23d47f561d21bb4e10a902e3ef9",
    "scrolled": true
   },
   "outputs": [
    {
     "name": "stdout",
     "output_type": "stream",
     "text": [
      "CPU times: user 58.4 s, sys: 2.74 s, total: 1min 1s\n",
      "Wall time: 1min 1s\n"
     ]
    }
   ],
   "source": [
    "%%time\n",
    "fasttext_index = make_embed_index(FASTTEXT, word_index, vocab)"
   ]
  },
  {
   "cell_type": "code",
   "execution_count": 57,
   "metadata": {
    "_uuid": "9238b8e858ef1cd58b08ac763e751e2d31802562"
   },
   "outputs": [
    {
     "name": "stdout",
     "output_type": "stream",
     "text": [
      "CPU times: user 40.1 s, sys: 2.71 s, total: 42.8 s\n",
      "Wall time: 43.1 s\n"
     ]
    }
   ],
   "source": [
    "%%time\n",
    "para_index = make_embed_index(PARAGRAM, word_index, vocab)"
   ]
  },
  {
   "cell_type": "markdown",
   "metadata": {
    "_uuid": "edcd0e3c4eb462fe1f127e70953fde13089dc48b"
   },
   "source": [
    "### Coverage"
   ]
  },
  {
   "cell_type": "code",
   "execution_count": 58,
   "metadata": {
    "_kg_hide-input": true,
    "_uuid": "ed858c2cf711cfcc38fb604e52dd57fab016502d"
   },
   "outputs": [],
   "source": [
    "def check_coverage(vocab, embeddings_index, word_index=None):\n",
    "    known_words = {}\n",
    "    unknown_words = {}\n",
    "    nb_known_words = 0\n",
    "    nb_unknown_words = 0\n",
    "    for word in vocab.keys():\n",
    "        try:\n",
    "            known_words[word] = embeddings_index[word]\n",
    "            nb_known_words += vocab[word]\n",
    "        except:\n",
    "            unknown_words[word] = vocab[word]\n",
    "            nb_unknown_words += vocab[word]\n",
    "            pass\n",
    "\n",
    "    print('Found embeddings for {:.2%} of vocab'.format(len(known_words) / len(vocab)))\n",
    "    print('Found embeddings for  {:.2%} of all text'.format(nb_known_words / (nb_known_words + nb_unknown_words)))\n",
    "    unknown_words = sorted(unknown_words.items(), key=operator.itemgetter(1))[::-1]\n",
    "\n",
    "    return unknown_words"
   ]
  },
  {
   "cell_type": "code",
   "execution_count": 59,
   "metadata": {
    "_uuid": "23a721b9f2a3bf37ce17fd9c76c3f6f913b9eeb1"
   },
   "outputs": [
    {
     "name": "stdout",
     "output_type": "stream",
     "text": [
      "Glove : \n",
      "Found embeddings for 76.14% of vocab\n",
      "Found embeddings for  99.61% of all text\n",
      "Paragram : \n",
      "Found embeddings for 57.96% of vocab\n",
      "Found embeddings for  97.72% of all text\n",
      "FastText : \n",
      "Found embeddings for 70.04% of vocab\n",
      "Found embeddings for  99.49% of all text\n"
     ]
    }
   ],
   "source": [
    "print(\"Glove : \")\n",
    "oov_glove = check_coverage(vocab, glove_index, word_index)\n",
    "print(\"Paragram : \")\n",
    "oov_paragram = check_coverage(vocab, para_index, word_index)\n",
    "print(\"FastText : \")\n",
    "oov_fasttext = check_coverage(vocab, fasttext_index, word_index)"
   ]
  },
  {
   "cell_type": "code",
   "execution_count": 60,
   "metadata": {
    "_kg_hide-input": true,
    "_kg_hide-output": true,
    "_uuid": "9f7473c68cc220669a3bac7ce3f455c082a7bf5d"
   },
   "outputs": [
    {
     "data": {
      "text/plain": [
       "[('Quorans', 884),\n",
       " ('Brexit', 510),\n",
       " ('cryptocurrencies', 506),\n",
       " ('Redmi', 394),\n",
       " ('CoMEDK', 363),\n",
       " ('oCD', 324),\n",
       " ('IoCL', 181),\n",
       " ('BPo', 179),\n",
       " ('onePlus', 130),\n",
       " ('oET', 129),\n",
       " ('UCEED', 126),\n",
       " ('DRDo', 123),\n",
       " ('CoEP', 118),\n",
       " ('GDPR', 110),\n",
       " ('demonetisation', 109),\n",
       " ('Coinbase', 106),\n",
       " ('BNBR', 104),\n",
       " ('Machedo', 103),\n",
       " ('Adityanath', 101),\n",
       " ('Boruto', 96),\n",
       " ('DCEU', 93),\n",
       " ('IIEST', 90),\n",
       " ('SJWs', 84),\n",
       " ('ICos', 79),\n",
       " ('PCoS', 79),\n",
       " ('Upwork', 73),\n",
       " ('RMo', 72),\n",
       " ('LNMIIT', 72),\n",
       " ('Zerodha', 69),\n",
       " ('Kavalireddi', 67),\n",
       " ('bhakts', 65),\n",
       " ('NICMAR', 63),\n",
       " ('CTo', 63),\n",
       " ('Doklam', 62),\n",
       " ('Vajiram', 61),\n",
       " ('Unacademy', 60),\n",
       " ('AlShamsi', 56),\n",
       " ('MUoET', 56),\n",
       " ('MooCs', 55),\n",
       " ('MooC', 55),\n",
       " ('HackerRank', 52),\n",
       " ('Bhakts', 52),\n",
       " ('JoSAA', 52),\n",
       " ('Jiren', 51),\n",
       " ('Litecoin', 51),\n",
       " ('altcoin', 50),\n",
       " ('Awdhesh', 50),\n",
       " ('altcoins', 47),\n",
       " ('eLitmus', 47),\n",
       " ('SRMJEE', 46)]"
      ]
     },
     "execution_count": 60,
     "metadata": {},
     "output_type": "execute_result"
    }
   ],
   "source": [
    "oov_glove[:50]"
   ]
  },
  {
   "cell_type": "code",
   "execution_count": 61,
   "metadata": {
    "_kg_hide-input": true,
    "_kg_hide-output": true,
    "_uuid": "9f60a64705f421759cb88a0537463d445bc4b2f5"
   },
   "outputs": [
    {
     "data": {
      "text/plain": [
       "[('_', 976),\n",
       " ('Quorans', 884),\n",
       " ('BITSAT', 583),\n",
       " ('CoMEDK', 363),\n",
       " ('KVPY', 362),\n",
       " ('IGNoU', 326),\n",
       " ('oCD', 324),\n",
       " ('Quoran', 323),\n",
       " ('WBJEE', 240),\n",
       " ('articleship', 199),\n",
       " ('VITEEE', 190),\n",
       " ('IoCL', 181),\n",
       " ('BPo', 179),\n",
       " ('oNGC', 170),\n",
       " ('UPES', 160),\n",
       " ('marksheet', 146),\n",
       " ('Fortnite', 138),\n",
       " ('onePlus', 130),\n",
       " ('AFCAT', 130),\n",
       " ('oET', 129),\n",
       " ('UCEED', 126),\n",
       " ('DRDo', 123),\n",
       " ('dropshipping', 119),\n",
       " ('CoEP', 118),\n",
       " ('UPSEE', 111),\n",
       " ('BNBR', 104),\n",
       " ('Machedo', 103),\n",
       " ('AMCAT', 97),\n",
       " ('IITian', 95),\n",
       " ('NaoH', 91),\n",
       " ('So4', 90),\n",
       " ('IITJEE', 90),\n",
       " ('ICos', 79),\n",
       " ('PCoS', 79),\n",
       " ('NMAT', 77),\n",
       " ('NGos', 76),\n",
       " ('Devops', 74),\n",
       " ('JIIT', 74),\n",
       " ('hairfall', 73),\n",
       " ('RMo', 72),\n",
       " ('LNMIIT', 72),\n",
       " ('oMR', 70),\n",
       " ('Zerodha', 69),\n",
       " ('Kavalireddi', 67),\n",
       " ('bhakts', 65),\n",
       " ('ASoIAF', 64),\n",
       " ('NICMAR', 63),\n",
       " ('CTo', 63),\n",
       " ('Doklam', 62),\n",
       " ('Vajiram', 61)]"
      ]
     },
     "execution_count": 61,
     "metadata": {},
     "output_type": "execute_result"
    }
   ],
   "source": [
    "oov_fasttext[:50]"
   ]
  },
  {
   "cell_type": "code",
   "execution_count": 62,
   "metadata": {
    "_kg_hide-input": true,
    "_kg_hide-output": true,
    "_uuid": "9f60a64705f421759cb88a0537463d445bc4b2f5"
   },
   "outputs": [
    {
     "data": {
      "text/plain": [
       "[('MBA', 3835),\n",
       " ('Korea', 3228),\n",
       " ('Australia', 3083),\n",
       " ('Japanese', 2879),\n",
       " ('iPhone', 2739),\n",
       " ('Japan', 2645),\n",
       " ('Java', 2224),\n",
       " ('German', 2194),\n",
       " ('Hindi', 2130),\n",
       " ('Africa', 2106),\n",
       " ('IQ', 2003),\n",
       " ('African', 1911),\n",
       " ('California', 1771),\n",
       " ('BJP', 1709),\n",
       " ('MBBS', 1619),\n",
       " ('John', 1605),\n",
       " ('France', 1534),\n",
       " ('Harry', 1520),\n",
       " ('Iran', 1493),\n",
       " ('York', 1434),\n",
       " ('London', 1399),\n",
       " ('GST', 1390),\n",
       " ('Canadian', 1321),\n",
       " ('Kolkata', 1219),\n",
       " ('ECE', 1214),\n",
       " ('Dubai', 1200),\n",
       " ('Mexico', 1166),\n",
       " ('ioS', 1105),\n",
       " ('Britain', 1098),\n",
       " ('San', 1095),\n",
       " ('DNA', 1067),\n",
       " ('Pakistani', 1054),\n",
       " ('MIT', 1041),\n",
       " ('IIM', 1014),\n",
       " ('Karnataka', 998),\n",
       " ('Potter', 993),\n",
       " ('Greek', 981),\n",
       " ('Italy', 980),\n",
       " ('Malaysia', 970),\n",
       " ('Philippines', 964),\n",
       " ('CGL', 949),\n",
       " ('Kerala', 943),\n",
       " ('Mars', 941),\n",
       " ('Nigeria', 918),\n",
       " ('Michael', 906),\n",
       " ('Spain', 901),\n",
       " ('Roman', 896),\n",
       " ('Hollywood', 894),\n",
       " ('PG', 894),\n",
       " ('Quorans', 884)]"
      ]
     },
     "execution_count": 62,
     "metadata": {},
     "output_type": "execute_result"
    }
   ],
   "source": [
    "oov_paragram[:50]"
   ]
  },
  {
   "cell_type": "code",
   "execution_count": 63,
   "metadata": {
    "_uuid": "eea5619a84da9f20ec60f59a6e1a215207d1003f"
   },
   "outputs": [],
   "source": [
    "#embed_mean = np.mean([make_embed_mat(glove_index), make_embed_mat(para_index), make_embed_mat(fasttext_index)], axis=0)\n",
    "embed_concat = np.concatenate((make_embed_mat(fasttext_index), make_embed_mat(glove_index), make_embed_mat(para_index)), axis=1)"
   ]
  },
  {
   "cell_type": "code",
   "execution_count": 64,
   "metadata": {
    "_uuid": "3da561869a0a2b5e9487c9ac567baaa616c9e55f"
   },
   "outputs": [
    {
     "name": "stdout",
     "output_type": "stream",
     "text": [
      "Initialized in 14.0 minutes\n"
     ]
    }
   ],
   "source": [
    "t_init = time.time()\n",
    "print(f\"Initialized in {(t_init - begin) // 60} minutes\")"
   ]
  },
  {
   "cell_type": "markdown",
   "metadata": {
    "_uuid": "99b48dca7930787a6eb9c7c98271b2c4099d9792"
   },
   "source": [
    "## PyTorch Tools"
   ]
  },
  {
   "cell_type": "markdown",
   "metadata": {
    "_uuid": "411cd66ce8f4bc4368c30079402c0457f02b025c"
   },
   "source": [
    "### CLR"
   ]
  },
  {
   "cell_type": "code",
   "execution_count": 65,
   "metadata": {
    "_kg_hide-input": true,
    "_uuid": "c2cb22198bcfbc5c331d5917cf0fb94ab3bda0ee"
   },
   "outputs": [],
   "source": [
    "class CyclicLR(object):\n",
    "    def __init__(self, optimizer, base_lr=1e-3, max_lr=6e-3,\n",
    "                 step_size=2000, mode='triangular', gamma=1.,\n",
    "                 scale_fn=None, scale_mode='cycle', last_batch_iteration=-1):\n",
    "\n",
    "        if not isinstance(optimizer, torch.optim.Optimizer):\n",
    "            raise TypeError('{} is not an Optimizer'.format(\n",
    "                type(optimizer).__name__))\n",
    "        self.optimizer = optimizer\n",
    "\n",
    "        if isinstance(base_lr, list) or isinstance(base_lr, tuple):\n",
    "            if len(base_lr) != len(optimizer.param_groups):\n",
    "                raise ValueError(\"expected {} base_lr, got {}\".format(\n",
    "                    len(optimizer.param_groups), len(base_lr)))\n",
    "            self.base_lrs = list(base_lr)\n",
    "        else:\n",
    "            self.base_lrs = [base_lr] * len(optimizer.param_groups)\n",
    "\n",
    "        if isinstance(max_lr, list) or isinstance(max_lr, tuple):\n",
    "            if len(max_lr) != len(optimizer.param_groups):\n",
    "                raise ValueError(\"expected {} max_lr, got {}\".format(\n",
    "                    len(optimizer.param_groups), len(max_lr)))\n",
    "            self.max_lrs = list(max_lr)\n",
    "        else:\n",
    "            self.max_lrs = [max_lr] * len(optimizer.param_groups)\n",
    "\n",
    "        self.step_size = step_size\n",
    "\n",
    "        if mode not in ['triangular', 'triangular2', 'exp_range'] \\\n",
    "                and scale_fn is None:\n",
    "            raise ValueError('mode is invalid and scale_fn is None')\n",
    "\n",
    "        self.mode = mode\n",
    "        self.gamma = gamma\n",
    "\n",
    "        if scale_fn is None:\n",
    "            if self.mode == 'triangular':\n",
    "                self.scale_fn = self._triangular_scale_fn\n",
    "                self.scale_mode = 'cycle'\n",
    "            elif self.mode == 'triangular2':\n",
    "                self.scale_fn = self._triangular2_scale_fn\n",
    "                self.scale_mode = 'cycle'\n",
    "            elif self.mode == 'exp_range':\n",
    "                self.scale_fn = self._exp_range_scale_fn\n",
    "                self.scale_mode = 'iterations'\n",
    "        else:\n",
    "            self.scale_fn = scale_fn\n",
    "            self.scale_mode = scale_mode\n",
    "\n",
    "        self.batch_step(last_batch_iteration + 1)\n",
    "        self.last_batch_iteration = last_batch_iteration\n",
    "\n",
    "    def batch_step(self, batch_iteration=None):\n",
    "        if batch_iteration is None:\n",
    "            batch_iteration = self.last_batch_iteration + 1\n",
    "        self.last_batch_iteration = batch_iteration\n",
    "        for param_group, lr in zip(self.optimizer.param_groups, self.get_lr()):\n",
    "            param_group['lr'] = lr\n",
    "\n",
    "    def _triangular_scale_fn(self, x):\n",
    "        return 1.\n",
    "\n",
    "    def _triangular2_scale_fn(self, x):\n",
    "        return 1 / (2. ** (x - 1))\n",
    "\n",
    "    def _exp_range_scale_fn(self, x):\n",
    "        return self.gamma**(x)\n",
    "\n",
    "    def get_lr(self):\n",
    "        step_size = float(self.step_size)\n",
    "        cycle = np.floor(1 + self.last_batch_iteration / (2 * step_size))\n",
    "        x = np.abs(self.last_batch_iteration / step_size - 2 * cycle + 1)\n",
    "\n",
    "        lrs = []\n",
    "        param_lrs = zip(self.optimizer.param_groups, self.base_lrs, self.max_lrs)\n",
    "        for param_group, base_lr, max_lr in param_lrs:\n",
    "            base_height = (max_lr - base_lr) * np.maximum(0, (1 - x))\n",
    "            if self.scale_mode == 'cycle':\n",
    "                lr = base_lr + base_height * self.scale_fn(cycle)\n",
    "            else:\n",
    "                lr = base_lr + base_height * self.scale_fn(self.last_batch_iteration)\n",
    "            lrs.append(lr)\n",
    "        return lrs"
   ]
  },
  {
   "cell_type": "markdown",
   "metadata": {
    "_uuid": "a7a163f4704046ecd6b0d1ad0668bd21186d48b6"
   },
   "source": [
    "### Sigmoid"
   ]
  },
  {
   "cell_type": "code",
   "execution_count": 66,
   "metadata": {
    "_kg_hide-input": true,
    "_uuid": "4a2aa9c20b2d5e6e7aeb18d637b56b281818d7df"
   },
   "outputs": [],
   "source": [
    "def sigmoid(x):\n",
    "    return 1 / (1 + np.exp(-x))"
   ]
  },
  {
   "cell_type": "markdown",
   "metadata": {
    "_uuid": "32eae56339a52e449b87be5b2a0cec3b6b4887b0"
   },
   "source": [
    "### Noise"
   ]
  },
  {
   "cell_type": "code",
   "execution_count": 67,
   "metadata": {
    "_uuid": "ac110c73d7a974925b75cad798dd106e432c5a14"
   },
   "outputs": [],
   "source": [
    "class Noise(nn.Module):\n",
    "    def __init__(self, mean=0.0, stddev=0.1):\n",
    "        super(Noise, self).__init__()\n",
    "        self.mean = mean\n",
    "        self.stddev = stddev\n",
    "\n",
    "    def forward(self, input):\n",
    "        noise = input.clone().normal_(self.mean, self.stddev)\n",
    "        return input + noise"
   ]
  },
  {
   "cell_type": "markdown",
   "metadata": {
    "_uuid": "eddf0df677a9ea7ab043d3e78acb58c0c17d6e0e"
   },
   "source": [
    "### Attention Layer"
   ]
  },
  {
   "cell_type": "code",
   "execution_count": 68,
   "metadata": {
    "_kg_hide-input": true,
    "_uuid": "ab443919ba40594af45a68e00c4581dd1274299a"
   },
   "outputs": [],
   "source": [
    "class Attention(nn.Module):\n",
    "    def __init__(self, feature_dim, step_dim, bias=True, **kwargs):\n",
    "        super(Attention, self).__init__(**kwargs)\n",
    "        self.supports_masking = True\n",
    "        self.bias = bias\n",
    "        self.feature_dim = feature_dim\n",
    "        self.step_dim = step_dim\n",
    "        self.features_dim = 0\n",
    "        weight = torch.zeros(feature_dim, 1)\n",
    "        nn.init.xavier_uniform_(weight)\n",
    "        self.weight = nn.Parameter(weight)\n",
    "        if bias:\n",
    "            self.b = nn.Parameter(torch.zeros(step_dim))\n",
    "        \n",
    "    def forward(self, x, mask=None):\n",
    "        feature_dim = self.feature_dim\n",
    "        step_dim = self.step_dim\n",
    "        eij = torch.mm(x.contiguous().view(-1, feature_dim), self.weight).view(-1, step_dim)\n",
    "        if self.bias:\n",
    "            eij = eij + self.b  \n",
    "        eij = torch.tanh(eij)\n",
    "        a = torch.exp(eij)\n",
    "        if mask is not None: \n",
    "            a = a * mask\n",
    "        a = a / torch.sum(a, 1, keepdim=True) + 1e-10\n",
    "        weighted_input = x * torch.unsqueeze(a, -1)\n",
    "        return torch.sum(weighted_input, 1)"
   ]
  },
  {
   "cell_type": "markdown",
   "metadata": {
    "_uuid": "3c062a5fdbc7b173f84ee2a1d9efe575b67df479"
   },
   "source": [
    "### Capsule Layer"
   ]
  },
  {
   "cell_type": "code",
   "execution_count": 69,
   "metadata": {
    "_kg_hide-input": true,
    "_uuid": "81e8b57452c6d093e13bc3d6de98daddc09ae5ce"
   },
   "outputs": [],
   "source": [
    "class Caps_Layer(nn.Module):\n",
    "    def __init__(self, input_dim_capsule=128, num_capsule=4, dim_capsule=4,\n",
    "                 routings=4, kernel_size=(9, 1), share_weights=True,\n",
    "                 activation='default', **kwargs):\n",
    "        super(Caps_Layer, self).__init__(**kwargs)\n",
    "\n",
    "        self.num_capsule = num_capsule\n",
    "        self.dim_capsule = dim_capsule\n",
    "        self.routings = routings\n",
    "        self.kernel_size = kernel_size\n",
    "        self.share_weights = share_weights\n",
    "        if activation == 'default':\n",
    "            self.activation = self.squash\n",
    "        else:\n",
    "            self.activation = nn.ReLU(inplace=True)\n",
    "\n",
    "        if self.share_weights:\n",
    "            self.W = nn.Parameter(\n",
    "                nn.init.xavier_normal_(torch.empty(1, input_dim_capsule, self.num_capsule * self.dim_capsule)))\n",
    "        else:\n",
    "            self.W = nn.Parameter(\n",
    "                torch.randn(BATCH_SIZE, input_dim_capsule, self.num_capsule * self.dim_capsule))  # 64即batch_size\n",
    "\n",
    "    def forward(self, x):\n",
    "\n",
    "        if self.share_weights:\n",
    "            u_hat_vecs = torch.matmul(x, self.W)\n",
    "        else:\n",
    "            print('add later')\n",
    "\n",
    "        batch_size = x.size(0)\n",
    "        input_num_capsule = x.size(1)\n",
    "        u_hat_vecs = u_hat_vecs.view((batch_size, input_num_capsule,\n",
    "                                      self.num_capsule, self.dim_capsule))\n",
    "        u_hat_vecs = u_hat_vecs.permute(0, 2, 1, 3)  # (batch_size,num_capsule,input_num_capsule,dim_capsule)\n",
    "        b = torch.zeros_like(u_hat_vecs[:, :, :, 0])  # (batch_size,num_capsule,input_num_capsule)\n",
    "\n",
    "        for i in range(self.routings):\n",
    "            b = b.permute(0, 2, 1)\n",
    "            c = nn.functional.softmax(b, dim=2)\n",
    "            c = c.permute(0, 2, 1)\n",
    "            b = b.permute(0, 2, 1)\n",
    "            outputs = self.activation(torch.einsum('bij,bijk->bik', (c, u_hat_vecs)))  # batch matrix multiplication\n",
    "            # outputs shape (batch_size, num_capsule, dim_capsule)\n",
    "            if i < self.routings - 1:\n",
    "                b = torch.einsum('bik,bijk->bij', (outputs, u_hat_vecs))  # batch matrix multiplication\n",
    "        return outputs  # (batch_size, num_capsule, dim_capsule)\n",
    "\n",
    "    # text version of squash, slight different from original one\n",
    "    def squash(self, x, axis=-1, T_epsilon=1e-7):\n",
    "        s_squared_norm = (x ** 2).sum(axis, keepdim=True)\n",
    "        scale = torch.sqrt(s_squared_norm + T_epsilon)\n",
    "        return x / scale"
   ]
  },
  {
   "cell_type": "markdown",
   "metadata": {
    "_uuid": "5c79a9136f41cf4ad76051632f8152a0f8208336"
   },
   "source": [
    "### Models"
   ]
  },
  {
   "cell_type": "code",
   "execution_count": 70,
   "metadata": {
    "_uuid": "c0815521236eed44c8b76de313e1ff6a60024f58"
   },
   "outputs": [],
   "source": [
    "class Model_features(nn.Module):\n",
    "    def __init__(self, embedding_matrix):\n",
    "        super(Model_features, self).__init__()\n",
    "        \n",
    "        h1 = 64\n",
    "        h2 = 32\n",
    "        hd = 32\n",
    "        \n",
    "        routings = 4\n",
    "        num_caps = 5\n",
    "        dim_caps = 5 \n",
    "        \n",
    "        self.embedding = nn.Embedding(embedding_matrix.shape[0], embedding_matrix.shape[1])\n",
    "        self.embedding.weight = nn.Parameter(torch.tensor(embedding_matrix, dtype=torch.float32))\n",
    "        self.embedding.weight.requires_grad = False\n",
    "        self.embedding_dropout = nn.Dropout2d(0.1)\n",
    "        self.noise = Noise(stddev=0.05)\n",
    "        \n",
    "        self.lstm = nn.LSTM(embedding_matrix.shape[1], 2*h1, bidirectional=False, batch_first=True)\n",
    "        self.gru = nn.GRU(2*h1, 2*h2, bidirectional=False, batch_first=True)\n",
    "        \n",
    "        self.lstm_att = Attention(2*h1, max_len)\n",
    "        self.gru_att = Attention(2*h2, max_len)\n",
    "        \n",
    "        #self.caps_layer = Caps_Layer(2*h2, num_caps, dim_caps, routings)\n",
    "        #self.lincaps = nn.Linear(num_caps * dim_caps, 1)\n",
    "        \n",
    "        self.dropout = nn.Dropout(0.1)\n",
    "        self.linear = nn.Linear(6*(h1+h2) + nb_features, hd)\n",
    "        self.relu = nn.ReLU()\n",
    "        self.bn = nn.BatchNorm1d(hd, momentum=0.5)\n",
    "        self.out = nn.Linear(hd, 1)\n",
    "    \n",
    "    def forward(self, x):\n",
    "        embed = self.embedding(x[0])\n",
    "        \n",
    "        if self.training: \n",
    "            embed = torch.squeeze(self.noise(torch.unsqueeze(embed, 0)))\n",
    "        \n",
    "        lstm, _ = self.lstm(embed)\n",
    "        gru, _ = self.gru(lstm)\n",
    "        \n",
    "        att1 = self.lstm_att(lstm)\n",
    "        att2 = self.gru_att(gru)\n",
    "        \n",
    "        avg_pool1 = torch.mean(lstm, 1)\n",
    "        avg_pool2 = torch.mean(gru, 1)\n",
    "        max_pool1, _ = torch.max(lstm, 1)\n",
    "        max_pool2, _ = torch.max(gru, 1)\n",
    "          \n",
    "        #caps = self.caps_layer(gru)\n",
    "        #caps = self.dropout(caps)\n",
    "        #batch_size = caps.size(0)\n",
    "        #caps = caps.view(batch_size, -1)\n",
    "        #caps = self.relu(self.lincaps(caps))\n",
    "        \n",
    "        conc = torch.cat((att1, avg_pool1, max_pool1, att2, avg_pool2, max_pool2, x[1]), 1)\n",
    "        conc = self.dropout(conc)\n",
    "        conc = self.bn(self.relu(self.linear(conc)))\n",
    "        conc = self.dropout(conc)\n",
    "        out = self.out(conc)\n",
    "        \n",
    "        return out"
   ]
  },
  {
   "cell_type": "code",
   "execution_count": 71,
   "metadata": {
    "_uuid": "a2dce376c87c551e2ce463fe9bc38cba50ca3d1e"
   },
   "outputs": [],
   "source": [
    "class Model(nn.Module):\n",
    "    def __init__(self, embedding_matrix):\n",
    "        super(Model, self).__init__()\n",
    "        \n",
    "        h1 = 64\n",
    "        h2 = 32\n",
    "        hd = 32\n",
    "        \n",
    "        routings = 4\n",
    "        num_caps = 5\n",
    "        dim_caps = 5 \n",
    "        \n",
    "        self.embedding = nn.Embedding(embedding_matrix.shape[0], embedding_matrix.shape[1])\n",
    "        self.embedding.weight = nn.Parameter(torch.tensor(embedding_matrix, dtype=torch.float32))\n",
    "        self.embedding.weight.requires_grad = False\n",
    "        self.embedding_dropout = nn.Dropout2d(0.1)\n",
    "        \n",
    "        self.lstm = nn.LSTM(embedding_matrix.shape[1], 2*h1, bidirectional=False, batch_first=True)\n",
    "        self.gru = nn.GRU(2*h1, 2*h2, bidirectional=False, batch_first=True)\n",
    "        \n",
    "        self.lstm_att = Attention(2*h1, max_len)\n",
    "        self.gru_att = Attention(2*h2, max_len)\n",
    "        \n",
    "        #self.caps_layer = Caps_Layer(2*h2, num_caps, dim_caps, routings)\n",
    "        #self.lincaps = nn.Linear(num_caps * dim_caps, 1)\n",
    "        \n",
    "        self.dropout = nn.Dropout(0.1)\n",
    "        self.linear = nn.Linear(6*(h1+h2), hd)\n",
    "        self.relu = nn.ReLU()\n",
    "        self.bn = nn.BatchNorm1d(hd, momentum=0.5)\n",
    "        self.out = nn.Linear(hd, 1)\n",
    "    \n",
    "    def forward(self, x):\n",
    "        embed = self.embedding(x)\n",
    "        embed = torch.squeeze(self.embedding_dropout(torch.unsqueeze(embed, 0)))\n",
    "        \n",
    "        lstm, _ = self.lstm(embed)\n",
    "        gru, _ = self.gru(lstm)\n",
    "        \n",
    "        att1 = self.lstm_att(lstm)\n",
    "        att2 = self.gru_att(gru)\n",
    "        \n",
    "        avg_pool1 = torch.mean(lstm, 1)\n",
    "        avg_pool2 = torch.mean(gru, 1)\n",
    "        max_pool1, _ = torch.max(lstm, 1)\n",
    "        max_pool2, _ = torch.max(gru, 1)\n",
    "          \n",
    "        #caps = self.caps_layer(gru)\n",
    "        #caps = self.dropout(caps)\n",
    "        #batch_size = caps.size(0)\n",
    "        #caps = caps.view(batch_size, -1)\n",
    "        #caps = self.relu(self.lincaps(caps))\n",
    "        \n",
    "        conc = torch.cat((att1, avg_pool1, max_pool1, att2, avg_pool2, max_pool2), 1)\n",
    "        conc = self.dropout(conc)\n",
    "        conc = self.bn(self.relu(self.linear(conc)))\n",
    "        conc = self.dropout(conc)\n",
    "        out = self.out(conc)\n",
    "        \n",
    "        return out"
   ]
  },
  {
   "cell_type": "markdown",
   "metadata": {
    "_uuid": "80580a6745b44b8b63ab725672c8ffafbab57e75"
   },
   "source": [
    "## Tools"
   ]
  },
  {
   "cell_type": "markdown",
   "metadata": {
    "_uuid": "fd4803e31f69200b5adc1e6ab28debfcf5d54eda"
   },
   "source": [
    "#### Checkpoints"
   ]
  },
  {
   "cell_type": "code",
   "execution_count": 72,
   "metadata": {
    "_kg_hide-input": true,
    "_uuid": "c72a651d7a05c238f95b2b2baf43938d74550450"
   },
   "outputs": [],
   "source": [
    "def save_checkpoint(state, loss, best_loss, filename='checkpoint.pth.tar'):\n",
    "    if loss < best_loss:\n",
    "        torch.save(state, filename)\n",
    "        return True\n",
    "        \n",
    "def load_checkpoint(model, filename=\"checkpoint.pth.tar\"):\n",
    "    checkpoint = torch.load(\"../working/\" + filename)\n",
    "    model.load_state_dict(checkpoint['state_dict'])\n",
    "    print(\"=> loaded checkpoint '{}' (trained for {} epochs)\".format(filename, checkpoint['epoch']))"
   ]
  },
  {
   "cell_type": "markdown",
   "metadata": {
    "_uuid": "6ef6ada77fc3f425e1b68544aa35862c0ee94127"
   },
   "source": [
    "#### Learning rate"
   ]
  },
  {
   "cell_type": "code",
   "execution_count": 73,
   "metadata": {
    "_kg_hide-input": true,
    "_uuid": "6a4f4f82796d3cb04219187c4b5a2872f75376f6"
   },
   "outputs": [],
   "source": [
    "def get_lr(epoch):\n",
    "    if epoch <= 3:\n",
    "        return 0.001\n",
    "    else:\n",
    "        return 0.0005"
   ]
  },
  {
   "cell_type": "markdown",
   "metadata": {
    "_uuid": "3a0989dc4c8b885cdd1a18ac2783241613d9d144"
   },
   "source": [
    "#### Fit"
   ]
  },
  {
   "cell_type": "code",
   "execution_count": 74,
   "metadata": {
    "_kg_hide-input": true,
    "_uuid": "5eaf90588739c647834ed33a7e3a2fdeb032cc54"
   },
   "outputs": [],
   "source": [
    "def fit(model, X_train, y_train, X_val=None, y_val=None, epochs=5, batch_size=512, check_overfit=False, mode=mode, cp_file=\"weights.pth.tar\"):\n",
    "    history = {\"loss\":[], \"val_loss\": []}\n",
    "    best_loss = 10\n",
    "    model.cuda()\n",
    "    loss_fn = torch.nn.BCEWithLogitsLoss(reduction='sum')\n",
    "    \n",
    "    optimizer = torch.optim.Adam(filter(lambda p: p.requires_grad, model.parameters()), lr=0.001)\n",
    "    #optimizer = torch.optim.Adam(model.parameters())\n",
    "    #base_lr, max_lr = 0.001, 0.003   \n",
    "    #step_size = 300\n",
    "    #scheduler = CyclicLR(optimizer, base_lr=base_lr, max_lr=max_lr, step_size=step_size, mode='exp_range', gamma=0.99994)\n",
    "        \n",
    "    X_train = torch.tensor(X_train, dtype=torch.long).cuda()\n",
    "    y_train = torch.tensor(y_train[:, np.newaxis], dtype=torch.float32).cuda()\n",
    "    train = torch.utils.data.TensorDataset(X_train, y_train)    \n",
    "    train_loader = torch.utils.data.DataLoader(train, batch_size=batch_size, shuffle=True)\n",
    "    \n",
    "    X_val = torch.tensor(X_val, dtype=torch.long).cuda()\n",
    "    y_val = torch.tensor(y_val[:, np.newaxis], dtype=torch.float32).cuda()\n",
    "    val = torch.utils.data.TensorDataset(X_val, y_val)\n",
    "    val_loader = torch.utils.data.DataLoader(val, batch_size=batch_size, shuffle=False)\n",
    "\n",
    "    for epoch in range(epochs):\n",
    "        model.train()\n",
    "        avg_loss = 0\n",
    "        start_time = time.time()  \n",
    "            \n",
    "        try:\n",
    "            scheduler.batch_step()\n",
    "        except: \n",
    "            lr = get_lr(epoch)\n",
    "            for param_group in optimizer.param_groups:\n",
    "                param_group['lr'] = lr\n",
    "        \n",
    "        for x_batch, y_batch in train_loader:\n",
    "            optimizer.zero_grad()\n",
    "            y_pred = model(x_batch)\n",
    "            loss = loss_fn(y_pred, y_batch)\n",
    "            loss.backward()\n",
    "            optimizer.step()\n",
    "            avg_loss += loss.item() / X_train.shape[0]\n",
    "    \n",
    "        model.eval()\n",
    "        \n",
    "        avg_val_loss = 0.\n",
    "        for i, (x_batch, y_batch) in enumerate(val_loader):\n",
    "            y_pred = model(x_batch).detach()\n",
    "            avg_val_loss += loss_fn(y_pred, y_batch).item() / X_val.shape[0]\n",
    "        history['val_loss'].append(avg_val_loss)\n",
    "\n",
    "        #if save_checkpoint({'epoch': epoch + 1, 'state_dict': model.state_dict()}, avg_val_loss, best_loss, filename=cp_file):\n",
    "        #    best_loss = avg_val_loss\n",
    "\n",
    "        elapsed_time = time.time() - start_time \n",
    "        history['loss'].append(avg_loss)\n",
    "        try :\n",
    "            print('Epoch {}/{} \\t lr={} \\t loss={:.4f} \\t val_loss={:.4f} \\t time={:.2f}s'.format(epoch + 1, epochs, lr, avg_loss, avg_val_loss, elapsed_time))\n",
    "        except:\n",
    "            print('Epoch {}/{} \\t loss={:.4f} \\t val_loss={:.4f} \\t time={:.2f}s'.format(epoch + 1, epochs, avg_loss, avg_val_loss, elapsed_time))\n",
    "    return history"
   ]
  },
  {
   "cell_type": "markdown",
   "metadata": {
    "_uuid": "18a67b151f99a9f3243c3ed96cf6a2d52961e2b3"
   },
   "source": [
    "#### Fit with Features"
   ]
  },
  {
   "cell_type": "code",
   "execution_count": 75,
   "metadata": {
    "_kg_hide-input": true,
    "_uuid": "c37d78d7fa35b10f306805babcfa76e918c97529"
   },
   "outputs": [],
   "source": [
    "def fit_features(model, X_train, f_train, y_train, X_val=None, f_val=None, y_val=None, epochs=5, batch_size=512, check_overfit=False, mode=mode, cp_file=\"weights.pth.tar\"):\n",
    "    history = {\"loss\":[], \"val_loss\": []}\n",
    "    best_loss = 10\n",
    "    model.cuda()\n",
    "    loss_fn = torch.nn.BCEWithLogitsLoss(reduction='sum')\n",
    "    \n",
    "    optimizer = torch.optim.Adam(filter(lambda p: p.requires_grad, model.parameters()), lr=0.001)\n",
    "    #optimizer = torch.optim.Adam(model.parameters())\n",
    "    #base_lr, max_lr = 0.001, 0.003   \n",
    "    #step_size = 300\n",
    "    #scheduler = CyclicLR(optimizer, base_lr=base_lr, max_lr=max_lr, step_size=step_size, mode='exp_range', gamma=0.99994)\n",
    "        \n",
    "    X_train = torch.tensor(X_train, dtype=torch.long).cuda()\n",
    "    f_train = torch.tensor(f_train, dtype=torch.float32).cuda()\n",
    "    y_train = torch.tensor(y_train[:, np.newaxis], dtype=torch.float32).cuda()\n",
    "    train = torch.utils.data.TensorDataset(X_train, f_train, y_train)    \n",
    "    train_loader = torch.utils.data.DataLoader(train, batch_size=batch_size, shuffle=True)\n",
    "    \n",
    "    X_val = torch.tensor(X_val, dtype=torch.long).cuda()\n",
    "    f_val = torch.tensor(f_val, dtype=torch.float32).cuda()\n",
    "    y_val = torch.tensor(y_val[:, np.newaxis], dtype=torch.float32).cuda()\n",
    "    val = torch.utils.data.TensorDataset(X_val, f_val, y_val)\n",
    "    val_loader = torch.utils.data.DataLoader(val, batch_size=batch_size, shuffle=False)\n",
    "\n",
    "    for epoch in range(epochs):\n",
    "        model.train()\n",
    "        avg_loss = 0\n",
    "        start_time = time.time()  \n",
    "            \n",
    "        try:\n",
    "            scheduler.batch_step()\n",
    "        except: \n",
    "            lr = get_lr(epoch)\n",
    "            for param_group in optimizer.param_groups:\n",
    "                param_group['lr'] = lr\n",
    "        \n",
    "        for x_batch, f_batch, y_batch in train_loader:\n",
    "            optimizer.zero_grad()\n",
    "            y_pred = model([x_batch, f_batch])\n",
    "            loss = loss_fn(y_pred, y_batch)\n",
    "            loss.backward()\n",
    "            optimizer.step()\n",
    "            avg_loss += loss.item() / X_train.shape[0]\n",
    "    \n",
    "        model.eval()\n",
    "        \n",
    "        avg_val_loss = 0.\n",
    "        for i, (x_batch, f_batch, y_batch) in enumerate(val_loader):\n",
    "            y_pred = model([x_batch, f_batch]).detach()\n",
    "            avg_val_loss += loss_fn(y_pred, y_batch).item() / X_val.shape[0]\n",
    "        history['val_loss'].append(avg_val_loss)\n",
    "\n",
    "        #if save_checkpoint({'epoch': epoch + 1, 'state_dict': model.state_dict()}, avg_val_loss, best_loss, filename=cp_file):\n",
    "        #    best_loss = avg_val_loss\n",
    "\n",
    "        elapsed_time = time.time() - start_time \n",
    "        history['loss'].append(avg_loss)\n",
    "        try :\n",
    "            print('Epoch {}/{} \\t lr={} \\t loss={:.4f} \\t val_loss={:.4f} \\t time={:.2f}s'.format(epoch + 1, epochs, lr, avg_loss, avg_val_loss, elapsed_time))\n",
    "        except:\n",
    "            print('Epoch {}/{} \\t loss={:.4f} \\t val_loss={:.4f} \\t time={:.2f}s'.format(epoch + 1, epochs, avg_loss, avg_val_loss, elapsed_time))\n",
    "    return history"
   ]
  },
  {
   "cell_type": "markdown",
   "metadata": {
    "_uuid": "0bf57b15f1c9efb94ac1e8dedc685d5de5820102"
   },
   "source": [
    "#### Learning curves"
   ]
  },
  {
   "cell_type": "code",
   "execution_count": 76,
   "metadata": {
    "_kg_hide-input": true,
    "_uuid": "76f2aa64a1cee4ec64d90941b6b1c25127268400"
   },
   "outputs": [],
   "source": [
    "def plot_history(history, title='Learning Curves'):\n",
    "    plt.figure(figsize=(10,6))\n",
    "    plt.plot(history['loss'], label='Train loss')\n",
    "    try : plt.plot(history['val_loss'], label='Test loss')\n",
    "    except: pass\n",
    "    plt.title(title, size=15)\n",
    "    plt.legend()\n",
    "    plt.show()"
   ]
  },
  {
   "cell_type": "markdown",
   "metadata": {
    "_uuid": "748abb0219f4f6c2a46947a9ccac9bd51fcbce75"
   },
   "source": [
    "#### Tweak Threshold"
   ]
  },
  {
   "cell_type": "code",
   "execution_count": 77,
   "metadata": {
    "_kg_hide-input": true,
    "_uuid": "5db4fe3e720364fe2452a196d4803bcab86efe7d"
   },
   "outputs": [],
   "source": [
    "def tweak_threshold(train_preds, y_train):\n",
    "    tmp = [0,0,0] # idx, cur, max\n",
    "    delta = 0\n",
    "    for tmp[0] in np.arange(0.1, 0.501, 0.01):\n",
    "        tmp[1] = f1_score(y_train, np.array(train_preds)>tmp[0])\n",
    "        if tmp[1] > tmp[2]:\n",
    "            delta = tmp[0]\n",
    "            tmp[2] = tmp[1]\n",
    "    return tmp[2], delta"
   ]
  },
  {
   "cell_type": "markdown",
   "metadata": {
    "_uuid": "25c55fca688b6b988c72bc368d595dc0cc927533"
   },
   "source": [
    "#### Predict"
   ]
  },
  {
   "cell_type": "code",
   "execution_count": 78,
   "metadata": {
    "_kg_hide-input": true,
    "_uuid": "7185f2ee89813b7c279567439fb6448adc988e6e"
   },
   "outputs": [],
   "source": [
    "def predict(X, model, batch_size=1024):\n",
    "    y = np.array([])\n",
    "    X = torch.tensor(X, dtype=torch.long).cuda()\n",
    "    X = torch.utils.data.TensorDataset(X)\n",
    "    X_loader = torch.utils.data.DataLoader(X, batch_size=batch_size, shuffle=False)\n",
    "    for i, (x,) in enumerate(X_loader):\n",
    "        y = np.concatenate((y ,sigmoid(model(x).detach().cpu().numpy())[:, 0]))\n",
    "    return y"
   ]
  },
  {
   "cell_type": "markdown",
   "metadata": {
    "_uuid": "886ac42e27a107d63d29777618a60a8ae5ff1d37"
   },
   "source": [
    "#### Predict with Features"
   ]
  },
  {
   "cell_type": "code",
   "execution_count": 79,
   "metadata": {
    "_kg_hide-input": true,
    "_uuid": "7185f2ee89813b7c279567439fb6448adc988e6e"
   },
   "outputs": [],
   "source": [
    "def predict_features(X, f,model, batch_size=1024):\n",
    "    y = np.array([])\n",
    "    X = torch.tensor(X, dtype=torch.long).cuda()\n",
    "    f = torch.tensor(f, dtype=torch.float32).cuda()\n",
    "    Xf = torch.utils.data.TensorDataset(X, f)\n",
    "    loader = torch.utils.data.DataLoader(Xf, batch_size=batch_size, shuffle=False)\n",
    "    for i, (x, f) in enumerate(loader):\n",
    "        y = np.concatenate((y, sigmoid(model([x, f]).detach().cpu().numpy())[:, 0]))\n",
    "    return y"
   ]
  },
  {
   "cell_type": "markdown",
   "metadata": {
    "_uuid": "5388fcfcb1e485f77cb725f0ca32612adad05905"
   },
   "source": [
    "#### $k$-fold"
   ]
  },
  {
   "cell_type": "code",
   "execution_count": 80,
   "metadata": {
    "_kg_hide-input": true,
    "_uuid": "0d826f60f049a0ccad48948d5dbdec65168d8699"
   },
   "outputs": [],
   "source": [
    "def k_fold(model_class, embedding_matrix, X, y, X_test, X_out, k=4, batch_size=512, epochs=4):\n",
    "    splits = list(StratifiedKFold(n_splits=k, shuffle=True, random_state=420).split(X, y))\n",
    "    pred_tests = []\n",
    "    pred_outs = []\n",
    "    pred_vals = []\n",
    "    vals_index = []\n",
    "    histories = []\n",
    "    thresholds = []\n",
    "    \n",
    "    for i, (train_idx, val_idx) in enumerate(splits):\n",
    "        print(f\"-------------   Fold {i+1}  ------------- \\n\")\n",
    "        seed_everything(seed + i)\n",
    "        start_time = time.time()\n",
    "        \n",
    "        model = model_class(embedding_matrix)\n",
    "        history = fit(model, X[train_idx], y[train_idx], X[val_idx], y[val_idx], epochs=epochs, batch_size=batch_size)\n",
    "\n",
    "        pred_val = predict(X[val_idx], model)\n",
    "        #pred_out = predict(X_out, model)\n",
    "        pred_test = predict(X_test, model)\n",
    "        score, threshold = tweak_threshold(pred_val, y[val_idx])\n",
    "        print(f\"\\n Scored {score :.4f} for threshold {threshold :.3f} on validation data\")\n",
    "        \n",
    "        histories.append(history)\n",
    "        pred_vals.append(pred_val)\n",
    "        vals_index.append(val_idx)\n",
    "        pred_tests.append(pred_test)\n",
    "        pred_outs.append(pred_out)\n",
    "        thresholds.append(threshold)\n",
    "        print(f\"\\n    Done in {(time.time() - start_time) / 60 :.1f} minutes \\n\")\n",
    "        \n",
    "    return pred_tests, pred_vals, vals_index, pred_outs, histories, thresholds"
   ]
  },
  {
   "cell_type": "markdown",
   "metadata": {
    "_uuid": "5388fcfcb1e485f77cb725f0ca32612adad05905"
   },
   "source": [
    "#### $k$-fold with features"
   ]
  },
  {
   "cell_type": "code",
   "execution_count": 81,
   "metadata": {
    "_kg_hide-input": true,
    "_uuid": "0d826f60f049a0ccad48948d5dbdec65168d8699"
   },
   "outputs": [],
   "source": [
    "def k_fold_features(model_class, embedding_matrix, X, f, y, X_test, f_test, X_out=None, f_out=None, k=5, batch_size=512, epochs=5, seed=seed):\n",
    "    splits = list(StratifiedKFold(n_splits=k, shuffle=True, random_state=420).split(X, y))\n",
    "    pred_tests = []\n",
    "    pred_outs = []\n",
    "    pred_vals = []\n",
    "    vals_index = []\n",
    "    histories = []\n",
    "    thresholds = []\n",
    "    \n",
    "    for i, (train_idx, val_idx) in enumerate(splits):\n",
    "        print(f\"-------------   Fold {i+1}  ------------- \\n\")\n",
    "        \n",
    "        try:\n",
    "            seed_everything(seed[i])\n",
    "        except:\n",
    "            seed_everything(seed + i)\n",
    "        \n",
    "        cp_path = f\"{i}_weights.pth.tar\"\n",
    "        start_time = time.time()\n",
    "        \n",
    "        model = model_class(embedding_matrix)\n",
    "\n",
    "        history = fit_features(model, X[train_idx], f[train_idx], y[train_idx], X[val_idx], f[val_idx], y[val_idx], epochs=epochs, batch_size=batch_size, cp_file=cp_path)\n",
    "        histories.append(history)\n",
    "        #load_checkpoint(model, cp_path)\n",
    "\n",
    "        pred_val = predict_features(X[val_idx], f[val_idx], model)\n",
    "        #pred_out = predict_features(X_out, f_out, model)\n",
    "        pred_test = predict_features(X_test, f_test, model)\n",
    "        score, threshold = tweak_threshold(pred_val, y[val_idx])\n",
    "        \n",
    "        print(f\"\\n Scored {score :.4f} for threshold {threshold :.3f} on validation data\")\n",
    "        pred_tests.append(pred_test)\n",
    "        #pred_outs.append(pred_out)\n",
    "        pred_vals.append(pred_val)\n",
    "        vals_index.append(val_idx)\n",
    "        thresholds.append(threshold)\n",
    "        print(f\"\\n    Done in {(time.time() - start_time) / 60 :.1f} minutes \\n\")\n",
    "        \n",
    "    return pred_tests, pred_vals, vals_index, pred_outs, histories, thresholds"
   ]
  },
  {
   "cell_type": "markdown",
   "metadata": {
    "_uuid": "4d1449695878795d0e25ed5d04086bf5bd118a87"
   },
   "source": [
    "#### Fit several models"
   ]
  },
  {
   "cell_type": "code",
   "execution_count": 82,
   "metadata": {
    "_kg_hide-input": true,
    "_uuid": "0d826f60f049a0ccad48948d5dbdec65168d8699"
   },
   "outputs": [],
   "source": [
    "def multi_fit(model_class, embedding_matrix, X, y, X_test, X_out, y_out, n_fits=4, batch_size=512, epochs=5):\n",
    "    pred_tests = []\n",
    "    pred_outs = []\n",
    "    histories = []\n",
    "    \n",
    "    for i in range(n_fits):\n",
    "        print(f\"-------------   Fit {i+1}  ------------- \\n\")\n",
    "        seed_everything(seed + i)\n",
    "        cp_path = f\"{i}_weights.pth.tar\"\n",
    "        start_time = time.time()\n",
    "        \n",
    "        model = model_class(embedding_matrix)\n",
    "\n",
    "        history = fit(model, X, y, X_out, y_out, epochs=epochs, batch_size=batch_size, cp_file=cp_path)\n",
    "        histories.append(history)\n",
    "        #load_checkpoint(model, cp_path)\n",
    "\n",
    "\n",
    "        pred_out = predict(X_out, model)\n",
    "\n",
    "        score, threshold = tweak_threshold(pred_out, y_out)\n",
    "        print(f\"\\n Scored {score :.4f} for threshold {threshold :.3f} on holdout data\")\n",
    "        pred_tests.append(predict(X_test, model))\n",
    "        pred_outs.append(pred_out)\n",
    "        print(f\"\\n    Done in {(time.time() - start_time) / 60 :.1f} minutes \\n\")\n",
    "    return pred_tests, pred_outs, histories"
   ]
  },
  {
   "cell_type": "markdown",
   "metadata": {
    "_uuid": "4d1449695878795d0e25ed5d04086bf5bd118a87"
   },
   "source": [
    "#### Fit Several Models with Features"
   ]
  },
  {
   "cell_type": "code",
   "execution_count": 83,
   "metadata": {
    "_kg_hide-input": true,
    "_uuid": "fd9e4afa208183748fd72a2a4bde1c6b4fadae02"
   },
   "outputs": [],
   "source": [
    "def multi_fit_features(model_class, embedding_matrix, X, f, y, X_test, f_test, X_out, f_out, y_out, n_fits=4, batch_size=512, epochs=5, seeds=seed):\n",
    "    pred_tests = []\n",
    "    pred_outs = []\n",
    "    histories = []\n",
    "    \n",
    "    for i in range(n_fits):\n",
    "        print(f\"-------------   Fit {i+1}  ------------- \\n\")\n",
    "        \n",
    "        try:\n",
    "            seed_everything(seed[i])\n",
    "        except:\n",
    "            seed_everything(seed + i)\n",
    "        \n",
    "        cp_path = f\"{i}_weights.pth.tar\"\n",
    "        start_time = time.time()\n",
    "        \n",
    "        model = model_class(embedding_matrix)\n",
    "\n",
    "        history = fit_features(model, X, f, y, X_out, f_out, y_out, epochs=epochs, batch_size=batch_size, cp_file=cp_path)\n",
    "        histories.append(history)\n",
    "        #load_checkpoint(model, cp_path)\n",
    "\n",
    "\n",
    "        pred_out = predict_features(X_out, f_out, model)\n",
    "\n",
    "        score, threshold = tweak_threshold(pred_out, y_out)\n",
    "        print(f\"\\n Scored {score:.4f} for threshold {threshold :.3f} on holdout data\")\n",
    "        pred_tests.append(predict_features(X_test, f_test, model))\n",
    "        pred_outs.append(pred_out)\n",
    "        print(f\"\\n    Done in {(time.time() - start_time) / 60 :.1f} minutes \\n\")\n",
    "    return pred_tests, pred_outs, histories"
   ]
  },
  {
   "cell_type": "markdown",
   "metadata": {
    "_uuid": "617e25d2f4671d5ccd760faacc3d1bf6bbf11428"
   },
   "source": [
    "#### Cross-validation"
   ]
  },
  {
   "cell_type": "code",
   "execution_count": 84,
   "metadata": {
    "_kg_hide-input": true,
    "_uuid": "a400c2f7c4e0ab2460ed91cb4ebdc0fe1f809e3a"
   },
   "outputs": [],
   "source": [
    "def cv(vals_index, pred_vals, truth):\n",
    "    indices = np.array([])\n",
    "    for index in vals_index:\n",
    "        indices = np.concatenate((indices, index)).astype(int)\n",
    "\n",
    "    pred = np.array([])\n",
    "    for pred_val in pred_vals:\n",
    "        pred = np.concatenate((pred, pred_val))\n",
    "        \n",
    "    score, threshold = tweak_threshold(pred, truth[indices])\n",
    "    print(f\"Scored {score :.4f} for threshold {threshold :.3f} on CV data\")\n",
    "    \n",
    "    return score, threshold"
   ]
  },
  {
   "cell_type": "markdown",
   "metadata": {
    "_uuid": "9e83601b39eb465c808557b28c128f8440c5daa5"
   },
   "source": [
    "### All together with features"
   ]
  },
  {
   "cell_type": "markdown",
   "metadata": {
    "_uuid": "a504bdc5306bd29b9b5f4ee453e515ecc1d1ffb4"
   },
   "source": [
    "## Training"
   ]
  },
  {
   "cell_type": "code",
   "execution_count": 85,
   "metadata": {
    "_uuid": "cda94967ed5749b9ffa2c918f2924826ab42d61e"
   },
   "outputs": [
    {
     "name": "stdout",
     "output_type": "stream",
     "text": [
      "-------------   Fold 1  ------------- \n",
      "\n",
      "Epoch 1/4 \t lr=0.001 \t loss=0.1459 \t val_loss=0.0992 \t time=253.20s\n",
      "Epoch 2/4 \t lr=0.001 \t loss=0.0978 \t val_loss=0.0960 \t time=254.08s\n",
      "Epoch 3/4 \t lr=0.001 \t loss=0.0901 \t val_loss=0.0954 \t time=256.36s\n",
      "Epoch 4/4 \t lr=0.001 \t loss=0.0824 \t val_loss=0.0989 \t time=255.22s\n",
      "\n",
      " Scored 0.6923 for threshold 0.230 on validation data\n",
      "\n",
      "    Done in 17.6 minutes \n",
      "\n",
      "-------------   Fold 2  ------------- \n",
      "\n",
      "Epoch 1/4 \t lr=0.001 \t loss=0.1367 \t val_loss=0.1069 \t time=255.07s\n",
      "Epoch 2/4 \t lr=0.001 \t loss=0.0971 \t val_loss=0.1004 \t time=254.42s\n",
      "Epoch 3/4 \t lr=0.001 \t loss=0.0890 \t val_loss=0.1034 \t time=253.67s\n",
      "Epoch 4/4 \t lr=0.001 \t loss=0.0815 \t val_loss=0.1013 \t time=254.29s\n"
     ]
    },
    {
     "name": "stderr",
     "output_type": "stream",
     "text": [
      "/opt/conda/lib/python3.6/site-packages/ipykernel_launcher.py:2: RuntimeWarning: overflow encountered in exp\n",
      "  \n"
     ]
    },
    {
     "name": "stdout",
     "output_type": "stream",
     "text": [
      "\n",
      " Scored 0.6839 for threshold 0.360 on validation data\n",
      "\n",
      "    Done in 17.4 minutes \n",
      "\n",
      "-------------   Fold 3  ------------- \n",
      "\n",
      "Epoch 1/4 \t lr=0.001 \t loss=0.1379 \t val_loss=0.1189 \t time=254.46s\n",
      "Epoch 2/4 \t lr=0.001 \t loss=0.0977 \t val_loss=0.1063 \t time=253.89s\n",
      "Epoch 3/4 \t lr=0.001 \t loss=0.0900 \t val_loss=0.0954 \t time=253.41s\n",
      "Epoch 4/4 \t lr=0.001 \t loss=0.0823 \t val_loss=0.0992 \t time=253.08s\n",
      "\n",
      " Scored 0.6915 for threshold 0.350 on validation data\n",
      "\n",
      "    Done in 17.4 minutes \n",
      "\n",
      "-------------   Fold 4  ------------- \n",
      "\n",
      "Epoch 1/4 \t lr=0.001 \t loss=0.1407 \t val_loss=0.1061 \t time=254.30s\n",
      "Epoch 2/4 \t lr=0.001 \t loss=0.0974 \t val_loss=0.1055 \t time=253.89s\n",
      "Epoch 3/4 \t lr=0.001 \t loss=0.0897 \t val_loss=0.1030 \t time=254.96s\n",
      "Epoch 4/4 \t lr=0.001 \t loss=0.0821 \t val_loss=0.1016 \t time=255.79s\n",
      "\n",
      " Scored 0.6883 for threshold 0.300 on validation data\n",
      "\n",
      "    Done in 17.5 minutes \n",
      "\n",
      "-------------   Fold 5  ------------- \n",
      "\n",
      "Epoch 1/4 \t lr=0.001 \t loss=0.1419 \t val_loss=0.1025 \t time=255.58s\n",
      "Epoch 2/4 \t lr=0.001 \t loss=0.0980 \t val_loss=0.0981 \t time=254.87s\n",
      "Epoch 3/4 \t lr=0.001 \t loss=0.0900 \t val_loss=0.0979 \t time=255.05s\n",
      "Epoch 4/4 \t lr=0.001 \t loss=0.0827 \t val_loss=0.0990 \t time=254.36s\n",
      "\n",
      " Scored 0.6866 for threshold 0.380 on validation data\n",
      "\n",
      "    Done in 17.5 minutes \n",
      "\n",
      "------------------------------------\n",
      "\n",
      " Local CV :\n",
      "Scored 0.6861 for threshold 0.300 on CV data\n"
     ]
    }
   ],
   "source": [
    "if mode == \"kfold\":\n",
    "    if with_features:\n",
    "        pred_tests, pred_vals, vals_index, pred_outs, histories, thresholds = k_fold_features(Model_features, embed_concat, \n",
    "                                                                              X_train, features_train, y_train, X_test, features_test,\n",
    "                                                                              k=5, batch_size=512, epochs=4)\n",
    "\n",
    "    else:\n",
    "        pred_tests, pred_vals, vals_index, pred_outs, histories, thresholds = k_fold(Model, embed_concat, \n",
    "                                                                                     X_train, y_train, X_test, X_out,\n",
    "                                                                                     k=5, batch_size=512, epochs=5)\n",
    "            \n",
    "\n",
    "    print(\"------------------------------------\")\n",
    "    print(\"\\n Local CV :\")\n",
    "    score, threshold = cv(vals_index, pred_vals, y_train)"
   ]
  },
  {
   "cell_type": "code",
   "execution_count": 86,
   "metadata": {
    "_kg_hide-output": false,
    "_uuid": "94e627d1d76e13f086c7854feee4947b2185749a"
   },
   "outputs": [],
   "source": [
    "if mode == \"multifit\":\n",
    "    pred_tests, pred_outs, histories = multi_fit_features(Model2, embed_mean, X_train, features_train, y_train, X_test, features_test, X_out, features_out, y_out, \n",
    "                                             n_fits=5, batch_size=512, epochs=5)"
   ]
  },
  {
   "cell_type": "code",
   "execution_count": 87,
   "metadata": {
    "_uuid": "103cb64bac9dd4645893687d05368acb458de34f",
    "scrolled": false
   },
   "outputs": [
    {
     "data": {
      "image/png": "[encoded data removed]",
      "text/plain": [
       "<Figure size 720x432 with 1 Axes>"
      ]
     },
     "metadata": {},
     "output_type": "display_data"
    },
    {
     "data": {
      "image/png": "[encoded data removed]",
      "text/plain": [
       "<Figure size 720x432 with 1 Axes>"
      ]
     },
     "metadata": {},
     "output_type": "display_data"
    },
    {
     "data": {
      "image/png": "[encoded data removed]",
      "text/plain": [
       "<Figure size 720x432 with 1 Axes>"
      ]
     },
     "metadata": {},
     "output_type": "display_data"
    },
    {
     "data": {
      "image/png": "[encoded data removed]",
      "text/plain": [
       "<Figure size 720x432 with 1 Axes>"
      ]
     },
     "metadata": {},
     "output_type": "display_data"
    },
    {
     "data": {
      "image/png": "[encoded data removed]",
      "text/plain": [
       "<Figure size 720x432 with 1 Axes>"
      ]
     },
     "metadata": {},
     "output_type": "display_data"
    }
   ],
   "source": [
    "for i in range(len(histories)):\n",
    "    plot_history(histories[i], \"Fit / Fold \" + str(i+1))"
   ]
  },
  {
   "cell_type": "markdown",
   "metadata": {
    "_uuid": "f55d1ca0b7fb2feb45f2e837ace8febd4d0afac7"
   },
   "source": [
    "## Test prediction"
   ]
  },
  {
   "cell_type": "code",
   "execution_count": 88,
   "metadata": {
    "_uuid": "02ebe465490f09c447d637fba4788ab2c97f730e"
   },
   "outputs": [],
   "source": [
    "coefs = [1/len(pred_tests)] * len(pred_tests)\n",
    "pred_test =  np.sum(np.array([coefs[i] * pred_tests[i] for i in range(len(pred_tests))]), axis=0)"
   ]
  },
  {
   "cell_type": "code",
   "execution_count": 89,
   "metadata": {
    "_uuid": "10d7797ece6f308529147ba3ec9e909384f1854e"
   },
   "outputs": [
    {
     "name": "stdout",
     "output_type": "stream",
     "text": [
      "0.32399999999999995\n"
     ]
    }
   ],
   "source": [
    "threshold2 = np.mean(thresholds)  #Or take cv threshold ?\n",
    "print(threshold2)"
   ]
  },
  {
   "cell_type": "code",
   "execution_count": 90,
   "metadata": {
    "_uuid": "52c1b020bf4a928e8bf0c4956b47d9e75b113ef5"
   },
   "outputs": [],
   "source": [
    "label_test = (pred_test > threshold).astype(int)"
   ]
  },
  {
   "cell_type": "markdown",
   "metadata": {
    "_uuid": "5870f654f01d91c646900df1e00b98fc8f7b446a"
   },
   "source": [
    "### Submission"
   ]
  },
  {
   "cell_type": "code",
   "execution_count": 91,
   "metadata": {
    "_uuid": "c90fb4a4ef1b3b2ea06563a6901deac1b38822f3"
   },
   "outputs": [],
   "source": [
    "output = pd.DataFrame({\"qid\": test_df[\"qid\"].values})\n",
    "output['prediction'] = label_test\n",
    "output.to_csv(\"submission.csv\", index=False)"
   ]
  },
  {
   "cell_type": "code",
   "execution_count": 92,
   "metadata": {
    "_uuid": "60641a068ca9abe28ff6f5d16d38afe3d6d01636"
   },
   "outputs": [
    {
     "data": {
      "text/html": [
       "<div>\n",
       "<style scoped>\n",
       "    .dataframe tbody tr th:only-of-type {\n",
       "        vertical-align: middle;\n",
       "    }\n",
       "\n",
       "    .dataframe tbody tr th {\n",
       "        vertical-align: top;\n",
       "    }\n",
       "\n",
       "    .dataframe thead th {\n",
       "        text-align: right;\n",
       "    }\n",
       "</style>\n",
       "<table border=\"1\" class=\"dataframe\">\n",
       "  <thead>\n",
       "    <tr style=\"text-align: right;\">\n",
       "      <th></th>\n",
       "      <th>qid</th>\n",
       "      <th>prediction</th>\n",
       "    </tr>\n",
       "  </thead>\n",
       "  <tbody>\n",
       "    <tr>\n",
       "      <th>0</th>\n",
       "      <td>00014894849d00ba98a9</td>\n",
       "      <td>0</td>\n",
       "    </tr>\n",
       "    <tr>\n",
       "      <th>1</th>\n",
       "      <td>000156468431f09b3cae</td>\n",
       "      <td>0</td>\n",
       "    </tr>\n",
       "    <tr>\n",
       "      <th>2</th>\n",
       "      <td>000227734433360e1aae</td>\n",
       "      <td>0</td>\n",
       "    </tr>\n",
       "    <tr>\n",
       "      <th>3</th>\n",
       "      <td>0005e06fbe3045bd2a92</td>\n",
       "      <td>0</td>\n",
       "    </tr>\n",
       "    <tr>\n",
       "      <th>4</th>\n",
       "      <td>00068a0f7f41f50fc399</td>\n",
       "      <td>0</td>\n",
       "    </tr>\n",
       "  </tbody>\n",
       "</table>\n",
       "</div>"
      ],
      "text/plain": [
       "                    qid  prediction\n",
       "0  00014894849d00ba98a9           0\n",
       "1  000156468431f09b3cae           0\n",
       "2  000227734433360e1aae           0\n",
       "3  0005e06fbe3045bd2a92           0\n",
       "4  00068a0f7f41f50fc399           0"
      ]
     },
     "execution_count": 92,
     "metadata": {},
     "output_type": "execute_result"
    }
   ],
   "source": [
    "output.head()"
   ]
  },
  {
   "cell_type": "code",
   "execution_count": 93,
   "metadata": {
    "_uuid": "bf23080c7d4f6508617b98043a972f0f12c64c37"
   },
   "outputs": [
    {
     "name": "stdout",
     "output_type": "stream",
     "text": [
      "Ended in 102.2 minutes\n"
     ]
    }
   ],
   "source": [
    "print(f\"Ended in {(time.time() - begin) / 60 :.1f} minutes\")"
   ]
  }
 ],
 "metadata": {
  "kernelspec": {
   "display_name": "Python 3",
   "language": "python",
   "name": "python3"
  },
  "language_info": {
   "codemirror_mode": {
    "name": "ipython",
    "version": 3
   },
   "file_extension": ".py",
   "mimetype": "text/x-python",
   "name": "python",
   "nbconvert_exporter": "python",
   "pygments_lexer": "ipython3",
   "version": "3.6.6"
  }
 },
 "nbformat": 4,
 "nbformat_minor": 1
}
