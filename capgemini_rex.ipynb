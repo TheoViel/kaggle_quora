{
 "cells": [
  {
   "cell_type": "markdown",
   "metadata": {
    "_uuid": "01f361ddc47e0b386595316fe3d7f4dabbd260db",
    "slideshow": {
     "slide_type": "slide"
    }
   },
   "source": [
    "# REX Quora Insincere Question Classification\n"
   ]
  },
  {
   "cell_type": "markdown",
   "metadata": {
    "slideshow": {
     "slide_type": "fragment"
    }
   },
   "source": [
    "**Theo for  the Kaggle Corner**"
   ]
  },
  {
   "cell_type": "markdown",
   "metadata": {
    "slideshow": {
     "slide_type": "subslide"
    }
   },
   "source": [
    "https://www.kaggle.com/c/quora-insincere-questions-classification"
   ]
  },
  {
   "cell_type": "code",
   "execution_count": 1,
   "metadata": {
    "_cell_guid": "b1076dfc-b9ad-4769-8c92-a6c4dae69d19",
    "_kg_hide-input": true,
    "_kg_hide-output": true,
    "_uuid": "8f2839f25d086af736a60e9eeb907d3b93b6e0e5",
    "hide_input": false,
    "scrolled": true,
    "slideshow": {
     "slide_type": "skip"
    }
   },
   "outputs": [
    {
     "name": "stderr",
     "output_type": "stream",
     "text": [
      "Using TensorFlow backend.\n"
     ]
    }
   ],
   "source": [
    "import re\n",
    "import gc\n",
    "import os\n",
    "import time\n",
    "import random\n",
    "import operator\n",
    "import numpy as np\n",
    "import pandas as pd\n",
    "import seaborn as sns\n",
    "from tqdm import tqdm\n",
    "import tensorflow as tf\n",
    "import matplotlib.pyplot as plt\n",
    "tqdm.pandas()\n",
    "\n",
    "from sklearn.metrics import *\n",
    "from nltk import word_tokenize\n",
    "from collections import Counter\n",
    "from sklearn.model_selection import *\n",
    "from tqdm import tqdm_notebook as tqdm\n",
    "from nltk.tokenize import TweetTokenizer\n",
    "from keras.preprocessing.text import Tokenizer\n",
    "from sklearn.preprocessing import StandardScaler\n",
    "from keras.preprocessing.sequence import pad_sequences\n",
    "from sklearn.feature_extraction.text import TfidfVectorizer\n",
    "\n",
    "import torch\n",
    "import torch.nn as nn\n",
    "import torch.utils.data\n",
    "from torch.utils.data import Dataset, DataLoader\n",
    "\n",
    "import psutil\n",
    "import multiprocessing\n",
    "\n",
    "import warnings\n",
    "warnings.simplefilter(action='ignore', category=FutureWarning)"
   ]
  },
  {
   "cell_type": "code",
   "execution_count": 2,
   "metadata": {
    "slideshow": {
     "slide_type": "skip"
    }
   },
   "outputs": [],
   "source": [
    "begin = time.time()\n",
    "sns.set_style('whitegrid')"
   ]
  },
  {
   "cell_type": "code",
   "execution_count": 3,
   "metadata": {
    "_uuid": "273f8d56af9ac2e322bb273b1c3153e6600e7e31",
    "scrolled": true,
    "slideshow": {
     "slide_type": "subslide"
    }
   },
   "outputs": [],
   "source": [
    "GLOVE = '../input/embeddings/glove.840B.300d/glove.840B.300d.txt'\n",
    "PARAGRAM = '../input/embeddings/paragram_300_sl999/paragram_300_sl999.txt'\n",
    "FASTTEXT = '../input/embeddings/wiki-news-300d-1M/wiki-news-300d-1M.vec'"
   ]
  },
  {
   "cell_type": "markdown",
   "metadata": {
    "slideshow": {
     "slide_type": "slide"
    }
   },
   "source": [
    "# Initialization"
   ]
  },
  {
   "cell_type": "markdown",
   "metadata": {
    "slideshow": {
     "slide_type": "subslide"
    }
   },
   "source": [
    "## Seeding"
   ]
  },
  {
   "cell_type": "code",
   "execution_count": 4,
   "metadata": {
    "_kg_hide-input": true,
    "_uuid": "d4b9e0c513495041b334d2cd9f315a1f2aa8192f",
    "slideshow": {
     "slide_type": "fragment"
    }
   },
   "outputs": [],
   "source": [
    "def seed_everything(seed):\n",
    "    random.seed(seed)\n",
    "    os.environ['PYTHONHASHSEED'] = str(seed)\n",
    "    np.random.seed(seed)\n",
    "    torch.manual_seed(seed)\n",
    "    torch.cuda.manual_seed(seed)\n",
    "    torch.backends.cudnn.deterministic = True\n",
    "    tf.set_random_seed(seed)"
   ]
  },
  {
   "cell_type": "code",
   "execution_count": 5,
   "metadata": {
    "_uuid": "47d523f2cd648ed8711606be396c348d1ca1b927",
    "slideshow": {
     "slide_type": "fragment"
    }
   },
   "outputs": [],
   "source": [
    "seed = 6452"
   ]
  },
  {
   "cell_type": "code",
   "execution_count": 6,
   "metadata": {
    "_uuid": "e784eedbc8234704b41156808743993c9da13d9f",
    "slideshow": {
     "slide_type": "fragment"
    }
   },
   "outputs": [],
   "source": [
    "seed_everything(seed)"
   ]
  },
  {
   "cell_type": "markdown",
   "metadata": {
    "_uuid": "e36041fbc5188f706645603c140cd4f09ec789d0",
    "slideshow": {
     "slide_type": "subslide"
    }
   },
   "source": [
    "## Loading Data"
   ]
  },
  {
   "cell_type": "code",
   "execution_count": 7,
   "metadata": {
    "_cell_guid": "79c7e3d0-c299-4dcb-8224-4455121ee9b0",
    "_uuid": "d629ff2d2480ee46fbb7e2d37f6b5fab8052498a",
    "slideshow": {
     "slide_type": "fragment"
    }
   },
   "outputs": [
    {
     "name": "stdout",
     "output_type": "stream",
     "text": [
      "Train shape :  (100000, 3)\n",
      "Test shape :  (375806, 2)\n"
     ]
    }
   ],
   "source": [
    "train_df = pd.read_csv(\"../input/train.csv\").head(100000)\n",
    "test_df = pd.read_csv(\"../input/test.csv\")\n",
    "\n",
    "print(\"Train shape : \", train_df.shape)\n",
    "print(\"Test shape : \", test_df.shape)"
   ]
  },
  {
   "cell_type": "code",
   "execution_count": 8,
   "metadata": {
    "slideshow": {
     "slide_type": "fragment"
    }
   },
   "outputs": [
    {
     "data": {
      "text/html": [
       "<div>\n",
       "<style scoped>\n",
       "    .dataframe tbody tr th:only-of-type {\n",
       "        vertical-align: middle;\n",
       "    }\n",
       "\n",
       "    .dataframe tbody tr th {\n",
       "        vertical-align: top;\n",
       "    }\n",
       "\n",
       "    .dataframe thead th {\n",
       "        text-align: right;\n",
       "    }\n",
       "</style>\n",
       "<table border=\"1\" class=\"dataframe\">\n",
       "  <thead>\n",
       "    <tr style=\"text-align: right;\">\n",
       "      <th></th>\n",
       "      <th>qid</th>\n",
       "      <th>question_text</th>\n",
       "      <th>target</th>\n",
       "    </tr>\n",
       "  </thead>\n",
       "  <tbody>\n",
       "    <tr>\n",
       "      <th>0</th>\n",
       "      <td>00002165364db923c7e6</td>\n",
       "      <td>How did Quebec nationalists see their province...</td>\n",
       "      <td>0</td>\n",
       "    </tr>\n",
       "    <tr>\n",
       "      <th>1</th>\n",
       "      <td>000032939017120e6e44</td>\n",
       "      <td>Do you have an adopted dog, how would you enco...</td>\n",
       "      <td>0</td>\n",
       "    </tr>\n",
       "    <tr>\n",
       "      <th>2</th>\n",
       "      <td>0000412ca6e4628ce2cf</td>\n",
       "      <td>Why does velocity affect time? Does velocity a...</td>\n",
       "      <td>0</td>\n",
       "    </tr>\n",
       "    <tr>\n",
       "      <th>3</th>\n",
       "      <td>000042bf85aa498cd78e</td>\n",
       "      <td>How did Otto von Guericke used the Magdeburg h...</td>\n",
       "      <td>0</td>\n",
       "    </tr>\n",
       "    <tr>\n",
       "      <th>4</th>\n",
       "      <td>0000455dfa3e01eae3af</td>\n",
       "      <td>Can I convert montra helicon D to a mountain b...</td>\n",
       "      <td>0</td>\n",
       "    </tr>\n",
       "  </tbody>\n",
       "</table>\n",
       "</div>"
      ],
      "text/plain": [
       "                    qid                                      question_text  \\\n",
       "0  00002165364db923c7e6  How did Quebec nationalists see their province...   \n",
       "1  000032939017120e6e44  Do you have an adopted dog, how would you enco...   \n",
       "2  0000412ca6e4628ce2cf  Why does velocity affect time? Does velocity a...   \n",
       "3  000042bf85aa498cd78e  How did Otto von Guericke used the Magdeburg h...   \n",
       "4  0000455dfa3e01eae3af  Can I convert montra helicon D to a mountain b...   \n",
       "\n",
       "   target  \n",
       "0       0  \n",
       "1       0  \n",
       "2       0  \n",
       "3       0  \n",
       "4       0  "
      ]
     },
     "execution_count": 8,
     "metadata": {},
     "output_type": "execute_result"
    }
   ],
   "source": [
    "train_df.head()"
   ]
  },
  {
   "cell_type": "code",
   "execution_count": 9,
   "metadata": {
    "_uuid": "8e20598cb5df70d93c62f4289f73d7a449ebbd87",
    "slideshow": {
     "slide_type": "subslide"
    }
   },
   "outputs": [
    {
     "name": "stdout",
     "output_type": "stream",
     "text": [
      "Why do so many women become so rude and arrogant when they get just a little bit of wealth and power?\n",
      "\n",
      "When should I apply for RV college of engineering and BMS college of engineering? Should I wait for the COMEDK result or am I supposed to apply before the result?\n",
      "\n",
      "What is it really like to be a nurse practitioner?\n",
      "\n",
      "Who are entrepreneurs?\n",
      "\n",
      "Is education really making good people nowadays?\n",
      "\n"
     ]
    }
   ],
   "source": [
    "for q in test_df[\"question_text\"][:5]:\n",
    "    print(q)\n",
    "    print('')"
   ]
  },
  {
   "cell_type": "markdown",
   "metadata": {
    "_uuid": "6da1c76e8ffd757223b2cdd79b542d3a0cb60772",
    "slideshow": {
     "slide_type": "slide"
    }
   },
   "source": [
    "# Text Features"
   ]
  },
  {
   "cell_type": "markdown",
   "metadata": {
    "slideshow": {
     "slide_type": "fragment"
    }
   },
   "source": [
    "- **Toxic word ratio** : The proportion of words in the sentence that are in a list of words labelled as toxic\n",
    "- **Total length** : Length of the sentence as a string\n",
    "- **Capital letters ratio** : PROPORTION OF LETTERS WRITTEN IN CAPS.\n",
    "- **Unique word ratio** : Proportion of words in the sentence that appear only once\n",
    "- **Average word frequency** : Frequency of the words in the sentence in the overall corpus"
   ]
  },
  {
   "cell_type": "markdown",
   "metadata": {
    "slideshow": {
     "slide_type": "subslide"
    }
   },
   "source": [
    "## Caps Ratio"
   ]
  },
  {
   "cell_type": "code",
   "execution_count": 10,
   "metadata": {
    "slideshow": {
     "slide_type": "fragment"
    }
   },
   "outputs": [],
   "source": [
    "def caps_ratio(text):\n",
    "    text = re.sub(' ', '', text)\n",
    "    return sum(1 for t in text if t.isupper()) / len(text)"
   ]
  },
  {
   "cell_type": "markdown",
   "metadata": {
    "slideshow": {
     "slide_type": "subslide"
    }
   },
   "source": [
    "## Unique Words Ratio"
   ]
  },
  {
   "cell_type": "code",
   "execution_count": 11,
   "metadata": {
    "slideshow": {
     "slide_type": "fragment"
    }
   },
   "outputs": [],
   "source": [
    "def unique_words_ratio(text):\n",
    "    words = text.lower().split(' ')\n",
    "    return len(set(words)) / len(words)"
   ]
  },
  {
   "cell_type": "markdown",
   "metadata": {
    "_uuid": "7c0d3dbcc83db73425f6e920931eeaf3fb2bdb49",
    "slideshow": {
     "slide_type": "subslide"
    }
   },
   "source": [
    "## Toxic word ratio"
   ]
  },
  {
   "cell_type": "code",
   "execution_count": 12,
   "metadata": {
    "_kg_hide-input": true,
    "_uuid": "ae109a86d56bcd0106cfe1a8f025cd09aabc0ff8",
    "slideshow": {
     "slide_type": "skip"
    }
   },
   "outputs": [],
   "source": [
    "toxic_words = ['4r5e', '5h1t', '5hit', 'a55', 'anal', 'anus', 'ar5e', 'arrse', 'arse', 'ass', 'ass-fucker', 'asses', 'assfucker', 'assfukka', 'asshole', 'assholes', 'asswhole', 'a_s_s', 'b!tch', 'b00bs', 'b17ch', 'b1tch', 'ballbag', 'balls', 'ballsack', 'bastard', 'beastial', 'beastiality', 'bellend', 'bestial', 'bestiality', 'bi+ch', 'biatch', 'bitch', 'bitcher', 'bitchers', 'bitches', 'bitchin', 'bitching', 'bloody', 'blow', 'job', 'blowjob', 'blowjobs', 'boiolas', 'bollock', 'bollok', 'boner', 'boob', 'boobs', 'booobs', 'boooobs', 'booooobs', 'booooooobs', 'breasts', 'buceta', 'bugger', 'bum', 'bunny', 'fucker', 'butt', 'butthole', 'buttmuch', 'buttplug', 'c0ck', 'c0cksucker', 'carpet', 'muncher', 'cawk', 'chink', 'cipa', 'cl1t', 'clit', 'clitoris', 'clits', 'cnut', 'cock', 'cock-sucker', 'cockface', 'cockhead', 'cockmunch', 'cockmuncher', 'cocks', 'cocksuck', 'cocksucked', 'cocksucker', 'cocksucking', 'cocksucks', 'cocksuka', 'cocksukka', 'cok', 'cokmuncher', 'coksucka', 'coon', 'cox', 'crap', 'cum', 'cummer', 'cumming', 'cums', 'cumshot', 'cunilingus', 'cunillingus', 'cunnilingus', 'cunt', 'cuntlick', 'cuntlicker', 'cuntlicking', 'cunts', 'cyalis', 'cyberfuc', 'cyberfuck', 'cyberfucked', 'cyberfucker', 'cyberfuckers', 'cyberfucking', 'd1ck', 'damn', 'dick', 'dickhead', 'dildo', 'dildos', 'dink', 'dinks', 'dirsa', 'dlck', 'dog-fucker', 'doggin', 'dogging', 'donkeyribber', 'doosh', 'duche', 'dyke', 'ejaculate', 'ejaculated', 'ejaculates', 'ejaculating', 'ejaculatings', 'ejaculation', 'ejakulate', 'f', 'u', 'c', 'k', 'f', 'u', 'c', 'k', 'e', 'r', 'f4nny', 'fag', 'fagging', 'faggitt', 'faggot', 'faggs', 'fagot', 'fagots', 'fags', 'fanny', 'fannyflaps', 'fannyfucker', 'fanyy', 'fatass', 'fcuk', 'fcuker', 'fcuking', 'feck', 'fecker', 'felching', 'fellate', 'fellatio', 'fingerfuck', 'fingerfucked', 'fingerfucker', 'fingerfuckers', 'fingerfucking', 'fingerfucks', 'fistfuck', 'fistfucked', 'fistfucker', 'fistfuckers', 'fistfucking', 'fistfuckings', 'fistfucks', 'flange', 'fook', 'fooker', 'fuck', 'fucka', 'fucked', 'fucker', 'fuckers', 'fuckhead', 'fuckheads', 'fuckin', 'fucking', 'fuckings', 'fuckingshitmotherfucker', 'fuckme', 'fucks', 'fuckwhit', 'fuckwit', 'fudge', 'packer', 'fudgepacker', 'fuk', 'fuker', 'fukker', 'fukkin', 'fuks', 'fukwhit', 'fukwit', 'fux', 'fux0r', 'f_u_c_k', 'gangbang', 'gangbanged', 'gangbangs', 'gaylord', 'gaysex', 'goatse', 'God', 'god-dam', 'god-damned', 'goddamn', 'goddamned', 'hardcoresex', 'hell', 'heshe', 'hoar', 'hoare', 'hoer', 'homo', 'hore', 'horniest', 'horny', 'hotsex', 'jack-off', 'jackoff', 'jap', 'jerk-off', 'jism', 'jiz', 'jizm', 'jizz', 'kawk', 'knob', 'knobead', 'knobed', 'knobend', 'knobhead', 'knobjocky', 'knobjokey', 'kock', 'kondum', 'kondums', 'kum', 'kummer', 'kumming', 'kums', 'kunilingus', 'l3i+ch', 'l3itch', 'labia', 'lmfao', 'lust', 'lusting', 'm0f0', 'm0fo', 'm45terbate', 'ma5terb8', 'ma5terbate', 'masochist', 'master-bate', 'masterb8', 'masterbat*', 'masterbat3', 'masterbate', 'masterbation', 'masterbations', 'masturbate', 'mo-fo', 'mof0', 'mofo', 'mothafuck', 'mothafucka', 'mothafuckas', 'mothafuckaz', 'mothafucked', 'mothafucker', 'mothafuckers', 'mothafuckin', 'mothafucking', 'mothafuckings', 'mothafucks', 'mother', 'fucker', 'motherfuck', 'motherfucked', 'motherfucker', 'motherfuckers', 'motherfuckin', 'motherfucking', 'motherfuckings', 'motherfuckka', 'motherfucks', 'muff', 'mutha', 'muthafecker', 'muthafuckker', 'muther', 'mutherfucker', 'n1gga', 'n1gger', 'nazi', 'nigg3r', 'nigg4h', 'nigga', 'niggah', 'niggas', 'niggaz', 'nigger', 'niggers', 'nob', 'nob', 'jokey', 'nobhead', 'nobjocky', 'nobjokey', 'numbnuts', 'nutsack', 'orgasim', 'orgasims', 'orgasm', 'orgasms', 'p0rn', 'pawn', 'pecker', 'penis', 'penisfucker', 'phonesex', 'phuck', 'phuk', 'phuked', 'phuking', 'phukked', 'phukking', 'phuks', 'phuq', 'pigfucker', 'pimpis', 'piss', 'pissed', 'pisser', 'pissers', 'pisses', 'pissflaps', 'pissin', 'pissing', 'pissoff', 'poop', 'porn', 'porno', 'pornography', 'pornos', 'prick', 'pricks', 'pron', 'pube', 'pusse', 'pussi', 'pussies', 'pussy', 'pussys', 'rectum', 'retard', 'rimjaw', 'rimming', 's', 'hit', 's.o.b.', 'sadist', 'schlong', 'screwing', 'scroat', 'scrote', 'scrotum', 'semen', 'sex', 'sh!+', 'sh!t', 'sh1t', 'shag', 'shagger', 'shaggin', 'shagging', 'shemale', 'shi+', 'shit', 'shitdick', 'shite', 'shited', 'shitey', 'shitfuck', 'shitfull', 'shithead', 'shiting', 'shitings', 'shits', 'shitted', 'shitter', 'shitters', 'shitting', 'shittings', 'shitty', 'skank', 'slut', 'sluts', 'smegma', 'smut', 'snatch', 'son-of-a-bitch', 'spac', 'spunk', 's_h_i_t', 't1tt1e5', 't1tties', 'teets', 'teez', 'testical', 'testicle', 'tit', 'titfuck', 'tits', 'titt', 'tittie5', 'tittiefucker', 'titties', 'tittyfuck', 'tittywank', 'titwank', 'tosser', 'turd', 'tw4t', 'twat', 'twathead', 'twatty', 'twunt', 'twunter', 'v14gra', 'v1gra', 'vagina', 'viagra', 'vulva', 'w00se', 'wang', 'wank', 'wanker', 'wanky', 'whoar', 'whore', 'willies', 'willy', 'xrated', 'xxx']"
   ]
  },
  {
   "cell_type": "code",
   "execution_count": 13,
   "metadata": {
    "_kg_hide-input": true,
    "_uuid": "45a31dad03352e0a1167e87307322b00e861155a",
    "slideshow": {
     "slide_type": "fragment"
    }
   },
   "outputs": [],
   "source": [
    "def toxic_words_ratio(text, toxic_words=toxic_words):\n",
    "    text = text.lower().split(' ')\n",
    "    return sum(1 for t in text if t in toxic_words) / len(text)"
   ]
  },
  {
   "cell_type": "markdown",
   "metadata": {
    "_uuid": "ae3a258e1e051090d7fd8f0a37a288d4b58def81",
    "slideshow": {
     "slide_type": "subslide"
    }
   },
   "source": [
    "## Frequency Ratio"
   ]
  },
  {
   "cell_type": "code",
   "execution_count": 14,
   "metadata": {
    "_uuid": "3e40eafbbbd8276f3dcd486c909b3de3cda92f2b",
    "slideshow": {
     "slide_type": "fragment"
    }
   },
   "outputs": [
    {
     "data": {
      "text/plain": [
       "TfidfVectorizer(analyzer='word', binary=False, decode_error='strict',\n",
       "        dtype=<class 'numpy.float64'>, encoding='utf-8', input='content',\n",
       "        lowercase=True, max_df=1.0, max_features=None, min_df=1,\n",
       "        ngram_range=(1, 1), norm='l2', preprocessor=None, smooth_idf=True,\n",
       "        stop_words=None, strip_accents=None, sublinear_tf=False,\n",
       "        token_pattern='(?u)\\\\b\\\\w\\\\w+\\\\b', tokenizer=None, use_idf=True,\n",
       "        vocabulary=None)"
      ]
     },
     "execution_count": 14,
     "metadata": {},
     "output_type": "execute_result"
    }
   ],
   "source": [
    "vectorizer = TfidfVectorizer()\n",
    "vectorizer.fit(np.concatenate((train_df['question_text'], test_df['question_text'])))"
   ]
  },
  {
   "cell_type": "code",
   "execution_count": 15,
   "metadata": {
    "_uuid": "2796c9ad0ae0091f4a9e22b18ca8f8dab7714435",
    "slideshow": {
     "slide_type": "fragment"
    }
   },
   "outputs": [],
   "source": [
    "def freq_count(text, tfidf=vectorizer):\n",
    "    freq = tfidf.transform([text])\n",
    "    return np.sum(freq)"
   ]
  },
  {
   "cell_type": "markdown",
   "metadata": {
    "_uuid": "514627a14937dc57d75759a0ad4f3475e5676a8e",
    "slideshow": {
     "slide_type": "subslide"
    }
   },
   "source": [
    "## Making all features"
   ]
  },
  {
   "cell_type": "code",
   "execution_count": 16,
   "metadata": {
    "_kg_hide-input": true,
    "_uuid": "ed9e86df78f0a854a0d9c1de0eced96bf9071f51",
    "slideshow": {
     "slide_type": "fragment"
    }
   },
   "outputs": [],
   "source": [
    "def make_features(df):    \n",
    "    df['length'] = df['question_text'].apply(len)\n",
    "    df[\"caps_ratio\"] = df['question_text'].apply(caps_ratio)\n",
    "    df[\"unique_words_ratio\"] = df['question_text'].apply(unique_words_ratio)\n",
    "    df['toxic_words_ratio'] = df['question_text'].apply(toxic_words_ratio)\n",
    "    df['word_freq'] = df['question_text'].apply(freq_count)"
   ]
  },
  {
   "cell_type": "code",
   "execution_count": 17,
   "metadata": {
    "_uuid": "2aed2a8b64d51da90821fa5705c423d00bebe4ce",
    "slideshow": {
     "slide_type": "fragment"
    }
   },
   "outputs": [
    {
     "name": "stdout",
     "output_type": "stream",
     "text": [
      "Wall time: 4min 36s\n"
     ]
    }
   ],
   "source": [
    "%%time\n",
    "make_features(train_df)\n",
    "make_features(test_df)"
   ]
  },
  {
   "cell_type": "code",
   "execution_count": 18,
   "metadata": {
    "slideshow": {
     "slide_type": "fragment"
    }
   },
   "outputs": [],
   "source": [
    "features = ['length', \"caps_ratio\", \"unique_words_ratio\", 'toxic_words_ratio', 'word_freq']"
   ]
  },
  {
   "cell_type": "markdown",
   "metadata": {
    "_uuid": "9032f827658e0209171a738add697ce7776c3e7a",
    "slideshow": {
     "slide_type": "slide"
    }
   },
   "source": [
    "# Text Preprocessing    "
   ]
  },
  {
   "cell_type": "markdown",
   "metadata": {
    "slideshow": {
     "slide_type": "fragment"
    }
   },
   "source": [
    "- clean_apostrophes\n",
    "- replace_substitution\n",
    "- decontract\n",
    "- remove_s\n",
    "- clean_numbers\n",
    "- clean_special_chars\n",
    "- clean_spaces\n",
    "- clean_latex_tag  "
   ]
  },
  {
   "cell_type": "markdown",
   "metadata": {
    "_uuid": "18133bc32f2dbfa94e7628390d2df61910b211d1",
    "slideshow": {
     "slide_type": "skip"
    }
   },
   "source": [
    "## Ressources"
   ]
  },
  {
   "cell_type": "code",
   "execution_count": 19,
   "metadata": {
    "_kg_hide-input": true,
    "_uuid": "ecc0051767a2183c858e80538e6b77eeb3b8502d",
    "slideshow": {
     "slide_type": "skip"
    }
   },
   "outputs": [],
   "source": [
    "# All appearing special characters\n",
    "useful_punct = ['_', '☹', '＞', '½', '△', '¿', '¼', '∆', '≥', '⇒', '¬', '∨', '＾', 'µ', '?', '!', '.', ',', '\"', '#', '$', '%', '\\\\', \"'\", '(', ')', '*', '+', '-', '/', ':', ';', '<', '=', '>', '@', '[', ']', '^', '{', '|', '}', '~', '’', '′', '‘', '°', '→', '£', 'ø', '´', '↑', 'θ', '±', '≤', '≠', '...', '⟨', '⟩', '∖', 'ⁿ', '⅔', '❤', '✌', '✅', '✓', '∘', '¨', '″', 'ύ', 'ኤ', 'ል', 'ሮ', 'ኢ', 'የ', 'ኝ', 'ን', 'አ', 'ሁ', '≅', 'ϕ', '‑', '￼', 'ֿ', 'か', 'く', 'れ', '－', 'ș', 'ן', '∪', 'φ', 'ψ', '⊨', 'β', '∠', '«', '»', 'ம', '≈', '⁰', '⁷', '،', '＝', '（', '）', 'ə', 'ɑ', 'ː', '¹', '⅓', 'ř', '《', '》', 'ρ', '∅', '&', '·', '©', '¥', '：', '⋅', '↓', '、', '│', '，', '・', '•', '®', '`', '€', '™', '›', '♥', '←', '×', '§', 'Â', '█', 'à', '…', '“', '★', '”', '–', '●', 'â', '►', '−', '¢', '²', '░', '¶', '▾', '═', '¦', '║', '―', '▓', '—', '‹', '─', '▒', '⊕', '▼', '▪', '†', '■', '▀', '▄', '♫', '☆', 'é', '¯', '♦', '¤', '▲', 'è', '¸', '¾', 'Ã', '∞', '∙', '♪', '╩', '╚', '³', '╦', '╣', '╔', '╗', '▬', 'ï', 'Ø', '‡', '√', '÷']\n",
    "useless_punct = ['च', '不', 'ঢ়', '平', 'ᠠ', '錯', '判', '∙', '言', 'ς', 'ل', '្', 'ジ', 'あ', '得', '水', 'ь', '◦', '创', '康', '華', 'ḵ', '☺', '支', '就', '„', '」', '어', '谈', '陈', '团', '腻', '权', '年', '业', 'マ', 'य', 'ا', '売', '甲', '拼', '˂', 'ὤ', '贯', '亚', 'ि', '放', 'ʻ', 'ទ', 'ʖ', '點', '્', '発', '青', '能', '木', 'д', '微', '藤', '̃', '僕', '妒', '͜', 'ន', 'ध', '이', '希', '特', 'ड', '¢', '滢', 'ส', '나', '女', 'క', '没', '什', 'з', '天', '南', 'ʿ', 'ค', 'も', '凰', '步', '籍', '西', 'ำ', '−', 'л', 'ڤ', 'ៃ', '號', 'ص', 'स', '®', 'ʋ', '批', 'រ', '치', '谢', '生', '道', '═', '下', '俄', 'ɖ', '觀', 'வ', '—', 'ی', '您', '♥', '一', 'や', '⊆', 'ʌ', '語', 'ี', '兴', '惶', '瀛', '狐', '⁴', 'प', '臣', 'ద', '―', 'ì', 'ऌ', 'ీ', '自', '信', '健', '受', 'ɨ', '시', 'י', 'ছ', '嬛', '湾', '吃', 'ち', 'ड़', '反', '红', '有', '配', 'ে', 'ឯ', '宮', 'つ', 'μ', '記', '口', '℅ι', 'ो', '狸', '奇', 'о', 'ट', '聖', '蘭', '読', 'ū', '標', '要', 'ត', '识', 'で', '汤', 'ま', 'ʀ', '局', 'リ', '्', 'ไ', '呢', '工', 'ल', '沒', 'τ', 'ិ', 'ö', 'せ', '你', 'ん', 'ュ', '枚', '部', '大', '罗', 'হ', 'て', '表', '报', '攻', 'ĺ', 'ฉ', '∩', '宝', '对', '字', '文', '这', '∑', '髪', 'り', '่', '능', '罢', '내', '阻', '为', '菲', 'ي', 'न', 'ί', 'ɦ', '開', '†', '茹', '做', '東', 'ত', 'に', 'ت', '晓', '키', '悲', 'સ', '好', '›', '上', '存', '없', '하', '知', 'ធ', '斯', ' ', '授', 'ł', '傳', '兰', '封', 'ோ', 'و', 'х', 'だ', '人', '太', '品', '毒', 'ᡳ', '血', '席', '剔', 'п', '蛋', '王', '那', '梦', 'ី', '彩', '甄', 'и', '柏', 'ਨ', '和', '坊', '⌚', '广', '依', '∫', 'į', '故', 'ś', 'ऊ', '几', '日', 'ک', '音', '×', '”', '▾', 'ʊ', 'ज', 'ด', 'ठ', 'उ', 'る', '清', 'ग', 'ط', 'δ', 'ʏ', '官', '∛', '়', '้', '男', '骂', '复', '∂', 'ー', '过', 'য', '以', '短', '翻', 'র', '教', '儀', 'ɛ', '‹', 'へ', '¾', '合', '学', 'ٌ', '학', '挑', 'ष', '比', '体', 'م', 'س', 'អ', 'ת', '訓', '∀', '迎', 'វ', 'ɔ', '٨', '▒', '化', 'చ', '‛', 'প', 'º', 'น', '업', '说', 'ご', '¸', '₹', '儿', '︠', '게', '骨', 'ท', 'ऋ', 'ホ', '茶', '는', 'જ', 'ุ', '羡', '節', 'ਮ', 'উ', '番', 'ড়', '讲', 'ㅜ', '등', '伟', 'จ', '我', 'ล', 'す', 'い', 'ញ', '看', 'ċ', '∧', 'भ', 'ઘ', 'ั', 'ម', '街', 'ય', '还', '鰹', 'ខ', 'ు', '訊', 'म', 'ю', '復', '杨', 'ق', 'त', '金', '味', 'ব', '风', '意', '몇', '佬', '爾', '精', '¶', 'ం', '乱', 'χ', '교', 'ה', '始', 'ᠰ', '了', '个', '克', '্', 'ห', '已', 'ʃ', 'わ', '新', '译', '︡', '本', 'ง', 'б', 'け', 'ి', '明', '¯', '過', 'ك', 'ῥ', 'ف', 'ß', '서', '进', 'ដ', '样', '乐', '寧', '€', 'ณ', 'ル', '乡', '子', 'ﬁ', 'ج', '慕', '–', 'ᡵ', 'Ø', '͡', '제', 'Ω', 'ប', '絕', '눈', 'फ', 'ম', 'గ', '他', 'α', 'ξ', '§', 'ஜ', '黎', 'ね', '복', 'π', 'ú', '鸡', '话', '会', 'ক', '八', '之', '북', 'ن', '¦', '가', 'ו', '恋', '地', 'ῆ', '許', '产', 'ॡ', 'ش', '़', '野', 'ή', 'ɒ', '啧', 'យ', '᠌', 'ᠨ', 'ب', '皎', '老', '公', '☆', 'व', 'ি', 'ល', 'ر', 'គ', '행', 'ង', 'ο', '让', 'ំ', 'λ', 'خ', 'ἰ', '家', 'ট', 'ब', '理', '是', 'め', 'र', '√', '기', 'ν', '玉', '한', '入', 'ד', '别', 'د', 'ะ', '电', 'ા', '♫', 'ع', 'ં', '堵', '嫉', '伊', 'う', '千', '관', '篇', 'क', '非', '荣', '粵', '瑜', '英', '를', '美', '条', '`', '宋', '←', '수', '後', '•', '³', 'ी', '고', '肉', '℃', 'し', '漢', '싱', 'ϵ', '送', 'ه', '落', 'న', 'ក', 'க', 'ℇ', 'た', 'ះ', '中', '射', '♪', '符', 'ឃ', '谷', '分', '酱', 'び', 'থ', 'ة', 'г', 'σ', 'と', '楚', '胡', '饭', 'み', '禮', '主', '直', '÷', '夢', 'ɾ', 'চ', '⃗', '統', '高', '顺', '据', 'ら', '頭', 'よ', '最', 'ా', 'ੁ', '亲', 'ស', '花', '≡', '眼', '病', '…', 'の', '發', 'ா', '汝', '★', '氏', 'ร', '景', 'ᡠ', '读', '件', '仲', 'শ', 'お', 'っ', 'پ', 'ᡤ', 'ч', '♭', '悠', 'ं', '六', '也', 'ռ', 'য়', '恐', 'ह', '可', '啊', '莫', '书', '总', 'ষ', 'ք', '̂', '간', 'な', '此', '愛', 'ర', 'ใ', '陳', 'Ἀ', 'ण', '望', 'द', '请', '油', '露', '니', 'ş', '宗', 'ʍ', '鳳', 'अ', '邋', '的', 'ព', '火', 'ा', 'ก', '約', 'ட', '章', '長', '商', '台', '勢', 'さ', '국', 'Î', '簡', 'ई', '∈', 'ṭ', '經', '族', 'ु', '孫', '身', '坑', 'স', '么', 'ε', '失', '殺', 'ž', 'ર', 'が', '手', 'ា', '心', 'ਾ', '로', '朝', '们', '黒', '欢', '早', '️', 'া', 'आ', 'ɸ', '常', '快', '民', 'ﷺ', 'ូ', '遢', 'η', '国', '无', '江', 'ॠ', '「', 'ন', '™', 'ើ', 'ζ', '紫', 'ె', 'я', '“', '♨', '國', 'े', 'อ', '∞']\n",
    "\n",
    "# Mapping special letters\n",
    "letter_mapping = {'\\u200b':' ', 'ũ': \"u\", 'ẽ': 'e', 'é': \"e\", 'á': \"a\", 'ķ': 'k', 'ï': 'i', 'Ź': 'Z', 'Ż': 'Z', 'Š': 'S', 'Π': ' pi ', 'Ö': 'O', 'É': 'E', 'Ñ': 'N', 'Ž': 'Z', 'ệ': 'e', '²': '2', 'Å': 'A', 'Ā': 'A', 'ế': 'e', 'ễ': 'e', 'ộ': 'o', '⧼': '<', '⧽': '>', 'Ü': 'U', 'Δ': 'delta', 'ợ': 'o', 'İ': 'I', 'Я': 'R', 'О': 'O', 'Č': 'C', 'П': 'pi', 'В': 'B', 'Φ': 'phi', 'ỵ': 'y', 'օ': 'o', 'Ľ': 'L', 'ả': 'a', 'Γ': 'theta', 'Ó': 'O', 'Í': 'I', 'ấ': 'a', 'ụ': 'u', 'Ō': 'O', 'Ο': 'O', 'Σ': 'sigma', 'Â': 'A', 'Ã': 'A', 'ᗯ': 'w', 'ᕼ': \"h\", \"ᗩ\": \"a\", \"ᖇ\": \"r\", \"ᗯ\": \"w\", \"O\": \"o\", \"ᗰ\": \"m\", \"ᑎ\": \"n\", \"ᐯ\": \"v\", \"н\": \"h\", \"м\": \"m\", \"o\": \"o\", \"т\": \"t\", \"в\": \"b\", \"υ\": \"u\",  \"ι\": \"i\",\"н\": \"h\", \"č\": \"c\", \"š\": \"s\", \"ḥ\": \"h\", \"ā\": \"a\", \"ī\": \"i\", \"à\": \"a\", \"ý\": \"y\", \"ò\": \"o\", \"è\": \"e\", \"ù\": \"u\", \"â\": \"a\", \"ğ\": \"g\", \"ó\": \"o\", \"ê\": \"e\", \"ạ\": \"a\", \"ü\": \"u\", \"ä\": \"a\", \"í\": \"i\", \"ō\": \"o\", \"ñ\": \"n\", \"ç\": \"c\", \"ã\": \"a\", \"ć\": \"c\", \"ô\": \"o\", \"с\": \"c\", \"ě\": \"e\", \"æ\": \"ae\", \"î\": \"i\", \"ő\": \"o\", \"å\": \"a\", \"Ä\": \"A\", }"
   ]
  },
  {
   "cell_type": "code",
   "execution_count": 20,
   "metadata": {
    "_kg_hide-input": true,
    "_uuid": "3826897f4f4bd456926ce0238cccc8e3e2a7ee53",
    "slideshow": {
     "slide_type": "skip"
    }
   },
   "outputs": [],
   "source": [
    "mispell_dict = {\"trimp\": \"trump\", \"wanket\": \"wanker\",'colour': 'color', 'centre': 'center', 'favourite': 'favorite', 'travelling': 'traveling', 'counselling': 'counseling', 'theatre': 'theater', 'cancelled': 'canceled', 'labour': 'labor', 'organisation': 'organization', 'wwii': 'world war 2', 'citicise': 'criticize', 'youtu ': 'youtube ', 'qoura': 'quora', 'sallary': 'salary', 'whta': 'what', 'narcisist': 'narcissist', 'howdo': 'how do', 'whatare': 'what are', 'howcan': 'how can', 'howmuch': 'how much', 'howmany': 'how many', 'whydo': 'why do', 'doI': 'do I', 'theBest': 'the best', 'howdoes': 'how does', 'mastrubation': 'masturbation', 'mastrubate': 'masturbate', \"mastrubating\": 'masturbating', 'pennis': 'penis', 'etherium': 'ethereum', 'narcissit': 'narcissist', 'bigdata': 'big data', '2k17': '2017', '2k18': '2018', 'qouta': 'quota', 'exboyfriend': 'ex boyfriend', 'airhostess': 'air hostess', \"whst\": 'what', 'watsapp': 'whatsapp', 'demonitisation': 'demonetization', 'demonitization': 'demonetization',}"
   ]
  },
  {
   "cell_type": "code",
   "execution_count": 21,
   "metadata": {
    "_uuid": "f747e2b8793a0ecb1e0b5c2a8fb35e7142084a2b",
    "slideshow": {
     "slide_type": "skip"
    }
   },
   "outputs": [],
   "source": [
    "def add_maj(dic):\n",
    "    d = dic.copy()\n",
    "    for w in dic.keys():\n",
    "        try:\n",
    "            d[w[0].upper() + w[1:]] = dic[w][0].upper() + dic[w][1:]\n",
    "        except:\n",
    "            d[w[0].upper()] = dic[w][0].upper()\n",
    "    return d"
   ]
  },
  {
   "cell_type": "code",
   "execution_count": 22,
   "metadata": {
    "_uuid": "393f97923716a1210d1a614712129a4916ba86fb",
    "slideshow": {
     "slide_type": "skip"
    }
   },
   "outputs": [],
   "source": [
    "substitution_dic = {}\n",
    "substitution_dic.update(mispell_dict)\n",
    "substitution_dic = add_maj(substitution_dic)\n",
    "substitution_dic.update(letter_mapping)"
   ]
  },
  {
   "cell_type": "markdown",
   "metadata": {
    "slideshow": {
     "slide_type": "subslide"
    }
   },
   "source": [
    "## Treatment Functions\n"
   ]
  },
  {
   "cell_type": "markdown",
   "metadata": {
    "_uuid": "6e07bec25e2aaa775681535973ff5b6ad9a794e2",
    "slideshow": {
     "slide_type": "fragment"
    }
   },
   "source": [
    "### Substitutions"
   ]
  },
  {
   "cell_type": "code",
   "execution_count": 23,
   "metadata": {
    "slideshow": {
     "slide_type": "skip"
    }
   },
   "outputs": [],
   "source": [
    "def _get_substitution(sub_dic):\n",
    "    sub_re = re.compile('(%s)' % '|'.join(sub_dic.keys()))\n",
    "    return sub_dic, sub_re\n",
    "\n",
    "substitutions, substitutions_re = _get_substitution(substitution_dic)"
   ]
  },
  {
   "cell_type": "code",
   "execution_count": 24,
   "metadata": {
    "_uuid": "76d7f363e592f975b6f2e022180e6df822988d13",
    "slideshow": {
     "slide_type": "fragment"
    }
   },
   "outputs": [],
   "source": [
    "def replace_substitution(text):\n",
    "    def replace(match):\n",
    "        return substitutions[match.group(0)]\n",
    "    return substitutions_re.sub(replace, text)"
   ]
  },
  {
   "cell_type": "markdown",
   "metadata": {
    "_uuid": "d933a46addd54cbf5604e015f2068ad1c3e6607d",
    "slideshow": {
     "slide_type": "fragment"
    }
   },
   "source": [
    "### Apostrophes"
   ]
  },
  {
   "cell_type": "code",
   "execution_count": 25,
   "metadata": {
    "_uuid": "afb88e1b29c7f811426b9031cfc58382a6690ffa",
    "slideshow": {
     "slide_type": "fragment"
    }
   },
   "outputs": [],
   "source": [
    "def clean_apostrophes(x):\n",
    "    apostrophes = [\"’\", \"‘\", \"´\", \"`\"]\n",
    "    for s in apostrophes:\n",
    "        x = re.sub(s, \"'\", x)\n",
    "    return x"
   ]
  },
  {
   "cell_type": "markdown",
   "metadata": {
    "_uuid": "434f5d0ce954bc74bd5fa6ff73deb41e93cfbeaf",
    "slideshow": {
     "slide_type": "fragment"
    }
   },
   "source": [
    "### 's"
   ]
  },
  {
   "cell_type": "code",
   "execution_count": 26,
   "metadata": {
    "_uuid": "9a169221495370131b024ca0fd1943834998dec9",
    "slideshow": {
     "slide_type": "fragment"
    }
   },
   "outputs": [],
   "source": [
    "def remove_s(x): \n",
    "    if len(x) > 2:\n",
    "        return re.sub(\"('$ |'$|'s |'s)\", ' ', x)\n",
    "    else:\n",
    "        return x"
   ]
  },
  {
   "cell_type": "markdown",
   "metadata": {
    "_uuid": "aea95aa6cac820d7b2696526f198c0f74188749d",
    "slideshow": {
     "slide_type": "subslide"
    }
   },
   "source": [
    "### Spaces"
   ]
  },
  {
   "cell_type": "code",
   "execution_count": 27,
   "metadata": {
    "_uuid": "1535526d3abbc69d6621948bcd02f52d9b797b9b",
    "slideshow": {
     "slide_type": "fragment"
    }
   },
   "outputs": [],
   "source": [
    "spaces = ['\\u200b', '\\u200e', '\\u202a', '\\u202c', '\\ufeff', '\\uf0d8', '\\u2061', '\\x10', '\\x7f', '\\x9d', '\\xad', '\\xa0']\n",
    "def clean_spaces(text):\n",
    "    for space in spaces:\n",
    "        text = text.replace(space, ' ')\n",
    "    text = text.strip()\n",
    "    text = re.sub('\\s+', ' ', text)\n",
    "    return text"
   ]
  },
  {
   "cell_type": "markdown",
   "metadata": {
    "_uuid": "bef654848609e2342eadfc9ae744caf80b58ca65",
    "slideshow": {
     "slide_type": "fragment"
    }
   },
   "source": [
    "### Contractions"
   ]
  },
  {
   "cell_type": "code",
   "execution_count": 28,
   "metadata": {
    "_uuid": "deb633646949aa4365ab3a14a53212e88771ea49",
    "slideshow": {
     "slide_type": "fragment"
    }
   },
   "outputs": [],
   "source": [
    "def decontract(text):\n",
    "    text = re.sub(r\"(W|w)on(\\'|\\’)t \", \"will not \", text)\n",
    "    text = re.sub(r\"(C|c)an(\\'|\\’)t \", \"can not \", text)\n",
    "    text = re.sub(r\"(Y|y)(\\'|\\’)all \", \"you all \", text)\n",
    "    text = re.sub(r\"(Y|y)a(\\'|\\’)ll \", \"you all \", text)\n",
    "    text = re.sub(r\"(I|i)(\\'|\\’)m \", \"i am \", text)\n",
    "    text = re.sub(r\"(A|a)isn(\\'|\\’)t \", \"is not \", text)\n",
    "    text = re.sub(r\"n(\\'|\\’)t \", \" not \", text)\n",
    "    text = re.sub(r\"(\\'|\\’)re \", \" are \", text)\n",
    "    text = re.sub(r\"(\\'|\\’)d \", \" would \", text)\n",
    "    text = re.sub(r\"(\\'|\\’)ll \", \" will \", text)\n",
    "    text = re.sub(r\"(\\'|\\’)t \", \" not \", text)\n",
    "    text = re.sub(r\"(\\'|\\’)ve \", \" have \", text)\n",
    "    return text"
   ]
  },
  {
   "cell_type": "markdown",
   "metadata": {
    "_uuid": "305679ae8304397b069f4fcb21210623d9ee1a56",
    "slideshow": {
     "slide_type": "subslide"
    }
   },
   "source": [
    "### Numbers"
   ]
  },
  {
   "cell_type": "code",
   "execution_count": 29,
   "metadata": {
    "_uuid": "1e8e6ddf58ef800f8629986af057bd662e0998ae",
    "slideshow": {
     "slide_type": "fragment"
    }
   },
   "outputs": [],
   "source": [
    "def clean_numbers(text):\n",
    "    text = re.sub(r'(\\d+)([a-zA-Z])', '\\g<1> \\g<2>', text)\n",
    "    text = re.sub(r'(\\d+) (th|st|nd|rd) ', '\\g<1>\\g<2> ', text)\n",
    "    text = re.sub(r'(\\d+),(\\d+)', '\\g<1>\\g<2>', text)\n",
    "    return text"
   ]
  },
  {
   "cell_type": "markdown",
   "metadata": {
    "_uuid": "5d807c0b2ba1570a06d34a02ace1d4a93ac4dd73",
    "slideshow": {
     "slide_type": "fragment"
    }
   },
   "source": [
    "### Special characters"
   ]
  },
  {
   "cell_type": "code",
   "execution_count": 30,
   "metadata": {
    "_uuid": "2304a6cb62d38bd040d77e298be2e68ffc18f7f2",
    "slideshow": {
     "slide_type": "fragment"
    }
   },
   "outputs": [],
   "source": [
    "def clean_special_chars(text, punct=useful_punct):\n",
    "    for p in punct:\n",
    "        text = text.replace(p, f' {p} ')\n",
    "    return text"
   ]
  },
  {
   "cell_type": "markdown",
   "metadata": {
    "_uuid": "3327c1f0f99a3364072019c3711a955599b77188",
    "slideshow": {
     "slide_type": "fragment"
    }
   },
   "source": [
    "### Latex Tag"
   ]
  },
  {
   "cell_type": "code",
   "execution_count": 31,
   "metadata": {
    "_uuid": "b5d9a972aec0a9bdfb5829a96420f1ca6c9ef988",
    "slideshow": {
     "slide_type": "fragment"
    }
   },
   "outputs": [],
   "source": [
    "def clean_latex_tag(text):\n",
    "    corr_t = []\n",
    "    for t in text.split(\" \"):\n",
    "        t = t.strip()\n",
    "        if t != '':\n",
    "            corr_t.append(t)\n",
    "    text = ' '.join(corr_t)\n",
    "    text = re.sub('(\\[ math \\]).+(\\[ / math \\])', 'mathematical formula', text)\n",
    "    return text"
   ]
  },
  {
   "cell_type": "markdown",
   "metadata": {
    "_uuid": "4c09c6d749df5f9153a231033307586863f1337a",
    "slideshow": {
     "slide_type": "subslide"
    }
   },
   "source": [
    "## Apply Treatments"
   ]
  },
  {
   "cell_type": "code",
   "execution_count": 32,
   "metadata": {
    "_uuid": "c69deec8fc27d3e72acadbf2ded5e1b1bbe87602",
    "slideshow": {
     "slide_type": "fragment"
    }
   },
   "outputs": [],
   "source": [
    "def treat_texts(texts):\n",
    "    functions = [clean_apostrophes, replace_substitution, decontract, remove_s, clean_numbers,\n",
    "                 clean_special_chars, clean_spaces, clean_latex_tag]\n",
    "    \n",
    "    for function in tqdm(functions):\n",
    "        texts = texts.apply(function)\n",
    "\n",
    "    return texts"
   ]
  },
  {
   "cell_type": "code",
   "execution_count": 33,
   "metadata": {
    "_uuid": "d515dc065cd07136a44935c0c66bff0c54b8804f",
    "slideshow": {
     "slide_type": "fragment"
    }
   },
   "outputs": [
    {
     "data": {
      "application/vnd.jupyter.widget-view+json": {
       "model_id": "9b6dc3e9f5df487dbe22056c5f3f95b9",
       "version_major": 2,
       "version_minor": 0
      },
      "text/plain": [
       "HBox(children=(IntProgress(value=0, max=8), HTML(value='')))"
      ]
     },
     "metadata": {},
     "output_type": "display_data"
    },
    {
     "name": "stdout",
     "output_type": "stream",
     "text": [
      "\n"
     ]
    },
    {
     "data": {
      "application/vnd.jupyter.widget-view+json": {
       "model_id": "417c96565402402599a5383560d11520",
       "version_major": 2,
       "version_minor": 0
      },
      "text/plain": [
       "HBox(children=(IntProgress(value=0, max=8), HTML(value='')))"
      ]
     },
     "metadata": {},
     "output_type": "display_data"
    },
    {
     "name": "stdout",
     "output_type": "stream",
     "text": [
      "\n",
      "Wall time: 53.3 s\n"
     ]
    }
   ],
   "source": [
    "%%time\n",
    "train_df[\"question_text\"] = treat_texts(train_df[\"question_text\"])\n",
    "test_df[\"question_text\"] = treat_texts(test_df[\"question_text\"])"
   ]
  },
  {
   "cell_type": "code",
   "execution_count": 34,
   "metadata": {
    "_uuid": "8e20598cb5df70d93c62f4289f73d7a449ebbd87",
    "slideshow": {
     "slide_type": "subslide"
    }
   },
   "outputs": [
    {
     "name": "stdout",
     "output_type": "stream",
     "text": [
      "Why do so many women become so rude and arrogant when they get just a little bit of wealth and power ?\n",
      "\n",
      "When should I apply for RV college of engineering and BMS college of engineering ? Should I wait for the CoMEDK result or am I supposed to apply before the result ?\n",
      "\n",
      "What is it really like to be a nurse practitioner ?\n",
      "\n",
      "Who are entrepreneurs ?\n",
      "\n",
      "Is education really making good people nowadays ?\n",
      "\n"
     ]
    }
   ],
   "source": [
    "for q in test_df[\"question_text\"][:5]:\n",
    "    print(q)\n",
    "    print('')"
   ]
  },
  {
   "cell_type": "markdown",
   "metadata": {
    "_uuid": "77496cf68d2a85c0878ffd396de6f50d21673eb2",
    "slideshow": {
     "slide_type": "slide"
    }
   },
   "source": [
    "# Input Data"
   ]
  },
  {
   "cell_type": "markdown",
   "metadata": {
    "slideshow": {
     "slide_type": "subslide"
    }
   },
   "source": [
    "## Texts"
   ]
  },
  {
   "cell_type": "code",
   "execution_count": 35,
   "metadata": {
    "slideshow": {
     "slide_type": "fragment"
    }
   },
   "outputs": [
    {
     "data": {
      "image/png": "[encoded data removed]",
      "text/plain": [
       "<Figure size 1080x360 with 1 Axes>"
      ]
     },
     "metadata": {},
     "output_type": "display_data"
    }
   ],
   "source": [
    "lengths = train_df['question_text'].apply(lambda x: len(x.split(' ')) // 5 * 5)\n",
    "plt.figure(figsize=(15, 5))\n",
    "sns.countplot(lengths)\n",
    "plt.title('Text length repartition')\n",
    "plt.show()"
   ]
  },
  {
   "cell_type": "code",
   "execution_count": 36,
   "metadata": {
    "_uuid": "9a3f78378d46733734d412cf40d069a6b4817436",
    "slideshow": {
     "slide_type": "fragment"
    }
   },
   "outputs": [
    {
     "name": "stdout",
     "output_type": "stream",
     "text": [
      "Maximum sentence length used : 70\n"
     ]
    }
   ],
   "source": [
    "max_len = 70\n",
    "\n",
    "print('Maximum sentence length used :', max_len)"
   ]
  },
  {
   "cell_type": "code",
   "execution_count": 37,
   "metadata": {
    "_uuid": "fc092308b5a26ecb8d6299a704eac1e0a824cf9e",
    "slideshow": {
     "slide_type": "subslide"
    }
   },
   "outputs": [],
   "source": [
    "def make_input_data(X_train, X_test):\n",
    "    t = Tokenizer(num_words=None, filters='', lower=False)\n",
    "    t.fit_on_texts((np.concatenate((X_train, X_test), axis=0)))\n",
    "    X_train = t.texts_to_sequences(X_train)\n",
    "    X_test = t.texts_to_sequences(X_test)\n",
    "    X_train = pad_sequences(X_train, maxlen=max_len, padding='post', truncating='post')\n",
    "    X_test = pad_sequences(X_test, maxlen=max_len, padding='post', truncating='post')\n",
    "\n",
    "    return X_train, X_test, t.word_index"
   ]
  },
  {
   "cell_type": "code",
   "execution_count": 38,
   "metadata": {
    "_uuid": "68847d69312b393b5b81da8c3409b4ea5841dfdb",
    "slideshow": {
     "slide_type": "fragment"
    }
   },
   "outputs": [
    {
     "name": "stdout",
     "output_type": "stream",
     "text": [
      "Wall time: 11.8 s\n"
     ]
    }
   ],
   "source": [
    "%%time\n",
    "X_train, X_test, word_index = make_input_data(train_df['question_text'], test_df['question_text'])"
   ]
  },
  {
   "cell_type": "code",
   "execution_count": 39,
   "metadata": {
    "_uuid": "6a1db7061c715cfe802a3405203606bcbd4fe8f4",
    "slideshow": {
     "slide_type": "fragment"
    }
   },
   "outputs": [
    {
     "name": "stdout",
     "output_type": "stream",
     "text": [
      "Number of words in vocabulary :  134867\n"
     ]
    }
   ],
   "source": [
    "len_voc = len(word_index) + 1\n",
    "\n",
    "print('Number of words in vocabulary : ', len_voc)"
   ]
  },
  {
   "cell_type": "markdown",
   "metadata": {
    "slideshow": {
     "slide_type": "subslide"
    }
   },
   "source": [
    "## Features"
   ]
  },
  {
   "cell_type": "code",
   "execution_count": 40,
   "metadata": {
    "_uuid": "8c336b14c8b69e9b87ea27e2bea1a8721d39dd76",
    "scrolled": false,
    "slideshow": {
     "slide_type": "fragment"
    }
   },
   "outputs": [],
   "source": [
    "features_train = train_df[features].fillna(0)\n",
    "features_test = test_df[features].fillna(0)"
   ]
  },
  {
   "cell_type": "code",
   "execution_count": 41,
   "metadata": {
    "slideshow": {
     "slide_type": "fragment"
    }
   },
   "outputs": [],
   "source": [
    "ss = StandardScaler()\n",
    "ss.fit(np.vstack((features_train.astype(float), features_test.astype(float))))\n",
    "features_train = ss.transform(features_train.astype(float))\n",
    "features_test = ss.transform(features_test.astype(float))"
   ]
  },
  {
   "cell_type": "code",
   "execution_count": 42,
   "metadata": {
    "slideshow": {
     "slide_type": "fragment"
    }
   },
   "outputs": [
    {
     "name": "stdout",
     "output_type": "stream",
     "text": [
      "Generated 5 features : length, caps_ratio, unique_words_ratio, toxic_words_ratio, word_freq\n"
     ]
    }
   ],
   "source": [
    "nb_features = len(features)\n",
    "print(f\"Generated {nb_features} features : {', '.join(features)}\")"
   ]
  },
  {
   "cell_type": "markdown",
   "metadata": {
    "slideshow": {
     "slide_type": "subslide"
    }
   },
   "source": [
    "## Targets"
   ]
  },
  {
   "cell_type": "code",
   "execution_count": 43,
   "metadata": {
    "_uuid": "ba5a1b8109dee2c9fbc628d5da4a7c3447d42fb8",
    "slideshow": {
     "slide_type": "fragment"
    }
   },
   "outputs": [],
   "source": [
    "y_train = train_df['target'].values"
   ]
  },
  {
   "cell_type": "code",
   "execution_count": 44,
   "metadata": {
    "slideshow": {
     "slide_type": "fragment"
    }
   },
   "outputs": [
    {
     "data": {
      "image/png": "[encoded data removed]",
      "text/plain": [
       "<Figure size 1080x360 with 1 Axes>"
      ]
     },
     "metadata": {},
     "output_type": "display_data"
    }
   ],
   "source": [
    "plt.figure(figsize=(15, 5))\n",
    "sns.countplot(y_train)\n",
    "plt.title(f'Class repartition -- 0 : {Counter(y_train)[0]}, 1 : {Counter(y_train)[1]}', size=15)\n",
    "plt.show()"
   ]
  },
  {
   "cell_type": "code",
   "execution_count": 45,
   "metadata": {
    "slideshow": {
     "slide_type": "skip"
    }
   },
   "outputs": [],
   "source": [
    "y_test = np.zeros(len(test_df))"
   ]
  },
  {
   "cell_type": "markdown",
   "metadata": {
    "_uuid": "57533e8b1621dd25eff1196e9a183e2ef94a13bd",
    "slideshow": {
     "slide_type": "slide"
    }
   },
   "source": [
    "# Embedding matrices"
   ]
  },
  {
   "cell_type": "markdown",
   "metadata": {
    "slideshow": {
     "slide_type": "subslide"
    }
   },
   "source": [
    "## Vocabulary"
   ]
  },
  {
   "cell_type": "code",
   "execution_count": 46,
   "metadata": {
    "slideshow": {
     "slide_type": "fragment"
    }
   },
   "outputs": [],
   "source": [
    "def build_vocab(texts):\n",
    "    vocab = {}\n",
    "    for sentence in texts:\n",
    "        for word in sentence.split(' '):\n",
    "            try:\n",
    "                vocab[word] += 1\n",
    "            except KeyError:\n",
    "                vocab[word] = 1\n",
    "    return vocab"
   ]
  },
  {
   "cell_type": "code",
   "execution_count": 47,
   "metadata": {
    "slideshow": {
     "slide_type": "fragment"
    }
   },
   "outputs": [],
   "source": [
    "vocab = build_vocab(list(train_df[\"question_text\"]) + list(test_df[\"question_text\"]))"
   ]
  },
  {
   "cell_type": "markdown",
   "metadata": {
    "slideshow": {
     "slide_type": "subslide"
    }
   },
   "source": [
    "## Build Matrices"
   ]
  },
  {
   "cell_type": "code",
   "execution_count": 48,
   "metadata": {
    "slideshow": {
     "slide_type": "skip"
    }
   },
   "outputs": [],
   "source": [
    "def load_embed(file):\n",
    "    def get_coefs(word,*arr): \n",
    "        return word, np.asarray(arr, dtype='float32')\n",
    "    \n",
    "    if file == FASTTEXT:\n",
    "        embeddings_index = dict(get_coefs(*o.split(\" \")) for o in open(file, encoding=\"utf8\") if len(o)>100 and o.split(\" \")[0] in word_index )\n",
    "    if file == PARAGRAM:\n",
    "        embeddings_index = dict(get_coefs(*o.split(\" \")) for o in open(file, encoding=\"utf8\", errors='ignore') if len(o)>100 and o.split(\" \")[0] in word_index)\n",
    "    else: #GloVe\n",
    "        embeddings_index = dict(get_coefs(*o.split(\" \")) for o in open(file, encoding=\"utf8\") if o.split(\" \")[0] in word_index)\n",
    "        \n",
    "    return embeddings_index"
   ]
  },
  {
   "cell_type": "code",
   "execution_count": 49,
   "metadata": {
    "_kg_hide-input": true,
    "_uuid": "0f838586cdf876df076b2a1232f2f9b65df9650d",
    "slideshow": {
     "slide_type": "fragment"
    }
   },
   "outputs": [],
   "source": [
    "def make_embed_index(file, word_index, vocab=[], exceptions={}):\n",
    "    embeddings_index = load_embed(file)\n",
    " \n",
    "    for word in vocab:\n",
    "        try:\n",
    "            _ = embeddings_index[word]\n",
    "        except:\n",
    "            try:\n",
    "                embeddings_index[word] = embeddings_index[word.lower()]\n",
    "            except:\n",
    "                try:\n",
    "                    embeddings_index[word] = embeddings_index[word.upper()]\n",
    "                except:\n",
    "                    try:\n",
    "                        embeddings_index[word] = embeddings_index[word[0].upper() + word[1:].lower()]\n",
    "                    except:\n",
    "                        pass\n",
    "            \n",
    "    return embeddings_index"
   ]
  },
  {
   "cell_type": "code",
   "execution_count": 50,
   "metadata": {
    "_kg_hide-input": true,
    "_uuid": "83c10d5e2279e7af93f827344a8fd6fd08b975b7",
    "slideshow": {
     "slide_type": "subslide"
    }
   },
   "outputs": [],
   "source": [
    "def make_embed_mat(embeddings_index):\n",
    "    all_embs = np.stack(embeddings_index.values())\n",
    "    emb_mean,emb_std = all_embs.mean(), all_embs.std()\n",
    "    embed_size = all_embs.shape[1]\n",
    "\n",
    "    embedding_matrix = np.random.normal(emb_mean, emb_std, (len(word_index)+1, embed_size))\n",
    "    for word, i in word_index.items():\n",
    "        embedding_vector = embeddings_index.get(word)\n",
    "        if embedding_vector is not None: \n",
    "            embedding_matrix[i] = embedding_vector\n",
    "\n",
    "    return embedding_matrix"
   ]
  },
  {
   "cell_type": "code",
   "execution_count": 51,
   "metadata": {
    "_uuid": "03cce1bc5525b77a3d6833d12e3a68ef1e453c19",
    "slideshow": {
     "slide_type": "fragment"
    }
   },
   "outputs": [
    {
     "name": "stdout",
     "output_type": "stream",
     "text": [
      "Wall time: 2min 11s\n"
     ]
    }
   ],
   "source": [
    "%%time\n",
    "glove_index = make_embed_index(GLOVE, word_index, vocab)\n",
    "fasttext_index = make_embed_index(FASTTEXT, word_index, vocab)\n",
    "para_index = make_embed_index(PARAGRAM, word_index, vocab)"
   ]
  },
  {
   "cell_type": "code",
   "execution_count": 52,
   "metadata": {
    "_uuid": "eea5619a84da9f20ec60f59a6e1a215207d1003f",
    "slideshow": {
     "slide_type": "fragment"
    }
   },
   "outputs": [],
   "source": [
    "embed_concat = np.concatenate((make_embed_mat(fasttext_index), \n",
    "                               make_embed_mat(glove_index), \n",
    "                               make_embed_mat(para_index)), axis=1)"
   ]
  },
  {
   "cell_type": "markdown",
   "metadata": {
    "_uuid": "edcd0e3c4eb462fe1f127e70953fde13089dc48b",
    "slideshow": {
     "slide_type": "subslide"
    }
   },
   "source": [
    "## Coverage"
   ]
  },
  {
   "cell_type": "code",
   "execution_count": 53,
   "metadata": {
    "_kg_hide-input": true,
    "_uuid": "ed858c2cf711cfcc38fb604e52dd57fab016502d",
    "slideshow": {
     "slide_type": "fragment"
    }
   },
   "outputs": [],
   "source": [
    "def check_coverage(vocab, embeddings_index, word_index=None):\n",
    "    known_words = {}\n",
    "    unknown_words = {}\n",
    "    nb_known_words = 0\n",
    "    nb_unknown_words = 0\n",
    "    for word in vocab.keys():\n",
    "        try:\n",
    "            known_words[word] = embeddings_index[word]\n",
    "            nb_known_words += vocab[word]\n",
    "        except:\n",
    "            unknown_words[word] = vocab[word]\n",
    "            nb_unknown_words += vocab[word]\n",
    "\n",
    "    print('Found embeddings for {:.2%} of vocab'.format(len(known_words) / len(vocab)))\n",
    "    print('Found embeddings for  {:.2%} of all text'.format(nb_known_words / (nb_known_words + nb_unknown_words)))\n",
    "    unknown_words = sorted(unknown_words.items(), key=operator.itemgetter(1))[::-1]\n",
    "\n",
    "    return unknown_words"
   ]
  },
  {
   "cell_type": "code",
   "execution_count": 54,
   "metadata": {
    "_uuid": "23a721b9f2a3bf37ce17fd9c76c3f6f913b9eeb1",
    "slideshow": {
     "slide_type": "subslide"
    }
   },
   "outputs": [
    {
     "name": "stdout",
     "output_type": "stream",
     "text": [
      "Glove : \n",
      "Found embeddings for 83.63% of vocab\n",
      "Found embeddings for  99.59% of all text\n",
      "Paragram : \n",
      "Found embeddings for 62.86% of vocab\n",
      "Found embeddings for  96.92% of all text\n",
      "FastText : \n",
      "Found embeddings for 79.01% of vocab\n",
      "Found embeddings for  99.47% of all text\n"
     ]
    }
   ],
   "source": [
    "print(\"Glove : \")\n",
    "oov_glove = check_coverage(vocab, glove_index, word_index)\n",
    "print(\"Paragram : \")\n",
    "oov_paragram = check_coverage(vocab, para_index, word_index)\n",
    "print(\"FastText : \")\n",
    "oov_fasttext = check_coverage(vocab, fasttext_index, word_index)"
   ]
  },
  {
   "cell_type": "code",
   "execution_count": 55,
   "metadata": {
    "slideshow": {
     "slide_type": "fragment"
    }
   },
   "outputs": [
    {
     "name": "stdout",
     "output_type": "stream",
     "text": [
      "Quorans\tCEo\tCoMEDK\tToEFL\tBPo\tIPo\tIoCL\toET\tonePlus\tMachedo\tCoEP\tBNBR\tUCEED\tJSoN\tCTo\tICos\tLNMIIT\tDRDo\tASoIAF\toDI\tPCoS\tAlShamsi\tbhakts\tNICMAR\toMR\tVajiram\tMooC\tRMo\toTG\tAwdhesh\tZerodha\tGMo\tUnacademy\tDoklam\tKavalireddi\tBhakts\tHBo\teLitmus\tMUoET\tHackerRank\tBinance\tKoinex\tAlshamsi\tunacademy\tAIATS\tBMSCE\tBIPC\tLBSNAA\tReactJS\toBoR\tMooCs\tchapterwise\tIISERs\tByju\tSkripal\tTrumpcare\tundergraduation\tAKTU\tRoTC\tSCoTUS\tMMMUT\tIIITD\t"
     ]
    }
   ],
   "source": [
    "for word in np.array(oov_glove)[:100, 0]:\n",
    "    if word in np.array(oov_paragram)[:, 0] and word in np.array(oov_fasttext)[:, 0]:\n",
    "        print(word, end='\\t')"
   ]
  },
  {
   "cell_type": "code",
   "execution_count": 56,
   "metadata": {
    "_uuid": "3da561869a0a2b5e9487c9ac567baaa616c9e55f",
    "slideshow": {
     "slide_type": "skip"
    }
   },
   "outputs": [
    {
     "name": "stdout",
     "output_type": "stream",
     "text": [
      "Initialized in 8.0 minutes\n"
     ]
    }
   ],
   "source": [
    "t_init = time.time()\n",
    "print(f\"Initialized in {(t_init - begin) // 60} minutes\")"
   ]
  },
  {
   "cell_type": "markdown",
   "metadata": {
    "_uuid": "99b48dca7930787a6eb9c7c98271b2c4099d9792",
    "slideshow": {
     "slide_type": "slide"
    }
   },
   "source": [
    "# PyTorch Tools"
   ]
  },
  {
   "cell_type": "markdown",
   "metadata": {
    "slideshow": {
     "slide_type": "subslide"
    }
   },
   "source": [
    "## Dataset"
   ]
  },
  {
   "cell_type": "code",
   "execution_count": 57,
   "metadata": {
    "slideshow": {
     "slide_type": "fragment"
    }
   },
   "outputs": [],
   "source": [
    "class QuoraDataset(Dataset):\n",
    "    def __init__(self, texts, features, y):\n",
    "        self.texts = texts\n",
    "        self.y = y\n",
    "        self.features = features\n",
    "        \n",
    "    def __len__(self):\n",
    "        return self.y.shape[0]\n",
    "\n",
    "    def __getitem__(self, idx):\n",
    "        return self.texts[idx], self.features[idx], self.y[idx]"
   ]
  },
  {
   "cell_type": "markdown",
   "metadata": {
    "slideshow": {
     "slide_type": "subslide"
    }
   },
   "source": [
    "## To Tensor"
   ]
  },
  {
   "cell_type": "code",
   "execution_count": 58,
   "metadata": {
    "slideshow": {
     "slide_type": "subslide"
    }
   },
   "outputs": [],
   "source": [
    "def to_tensor(batch):\n",
    "    texts = [b[0] for b in batch]\n",
    "    fts = np.array([b[1] for b in batch])\n",
    "    ys = np.array([b[2] for b in batch])\n",
    "    \n",
    "    return torch.tensor(texts, dtype=torch.long), torch.tensor(fts, dtype=torch.float32), torch.tensor(ys, dtype=torch.float32)"
   ]
  },
  {
   "cell_type": "markdown",
   "metadata": {
    "_uuid": "a7a163f4704046ecd6b0d1ad0668bd21186d48b6",
    "slideshow": {
     "slide_type": "subslide"
    }
   },
   "source": [
    "## Sigmoid"
   ]
  },
  {
   "cell_type": "code",
   "execution_count": 59,
   "metadata": {
    "_kg_hide-input": true,
    "_uuid": "4a2aa9c20b2d5e6e7aeb18d637b56b281818d7df",
    "slideshow": {
     "slide_type": "fragment"
    }
   },
   "outputs": [],
   "source": [
    "def sigmoid(x):\n",
    "    return 1 / (1 + np.exp(-x))"
   ]
  },
  {
   "cell_type": "markdown",
   "metadata": {
    "_uuid": "32eae56339a52e449b87be5b2a0cec3b6b4887b0",
    "slideshow": {
     "slide_type": "subslide"
    }
   },
   "source": [
    "## Noise"
   ]
  },
  {
   "cell_type": "code",
   "execution_count": 60,
   "metadata": {
    "_uuid": "ac110c73d7a974925b75cad798dd106e432c5a14",
    "slideshow": {
     "slide_type": "fragment"
    }
   },
   "outputs": [],
   "source": [
    "class Noise(nn.Module):\n",
    "    def __init__(self, mean=0.0, stddev=0.1):\n",
    "        super(Noise, self).__init__()\n",
    "        self.mean = mean\n",
    "        self.stddev = stddev\n",
    "\n",
    "    def forward(self, input):\n",
    "        noise = input.clone().normal_(self.mean, self.stddev)\n",
    "        return input + noise"
   ]
  },
  {
   "cell_type": "markdown",
   "metadata": {
    "_uuid": "eddf0df677a9ea7ab043d3e78acb58c0c17d6e0e",
    "slideshow": {
     "slide_type": "subslide"
    }
   },
   "source": [
    "## Attention Layer"
   ]
  },
  {
   "cell_type": "code",
   "execution_count": 61,
   "metadata": {
    "_kg_hide-input": true,
    "_uuid": "ab443919ba40594af45a68e00c4581dd1274299a",
    "slideshow": {
     "slide_type": "fragment"
    }
   },
   "outputs": [],
   "source": [
    "class Attention(nn.Module):\n",
    "    def __init__(self, feature_dim, step_dim, bias=True, **kwargs):\n",
    "        super(Attention, self).__init__(**kwargs)\n",
    "        self.supports_masking = True\n",
    "        self.bias = bias\n",
    "        self.feature_dim = feature_dim\n",
    "        self.step_dim = step_dim\n",
    "        self.features_dim = 0\n",
    "        weight = torch.zeros(feature_dim, 1)\n",
    "        nn.init.xavier_uniform_(weight)\n",
    "        self.weight = nn.Parameter(weight)\n",
    "        if bias:\n",
    "            self.b = nn.Parameter(torch.zeros(step_dim))\n",
    "        \n",
    "    def forward(self, x, mask=None):\n",
    "        feature_dim = self.feature_dim\n",
    "        step_dim = self.step_dim\n",
    "        eij = torch.mm(x.contiguous().view(-1, feature_dim), self.weight).view(-1, step_dim)\n",
    "        if self.bias:\n",
    "            eij = eij + self.b  \n",
    "        eij = torch.tanh(eij)\n",
    "        a = torch.exp(eij)\n",
    "        if mask is not None: \n",
    "            a = a * mask\n",
    "        a = a / torch.sum(a, 1, keepdim=True) + 1e-10\n",
    "        weighted_input = x * torch.unsqueeze(a, -1)\n",
    "        return torch.sum(weighted_input, 1)"
   ]
  },
  {
   "cell_type": "markdown",
   "metadata": {
    "_uuid": "5c79a9136f41cf4ad76051632f8152a0f8208336",
    "slideshow": {
     "slide_type": "slide"
    }
   },
   "source": [
    "# Model"
   ]
  },
  {
   "cell_type": "markdown",
   "metadata": {
    "slideshow": {
     "slide_type": "fragment"
    }
   },
   "source": [
    "- Word-level architecture\n",
    "- Basically plugging Recurrent Neural Networks onto embeddings\n",
    "- Pooling & Attention are good ways to handle sequential data\n",
    "- Add regularization & proper activation functions"
   ]
  },
  {
   "cell_type": "code",
   "execution_count": 62,
   "metadata": {
    "slideshow": {
     "slide_type": "subslide"
    }
   },
   "outputs": [],
   "source": [
    "class Model(nn.Module):\n",
    "    def __init__(self, embedding_matrix):\n",
    "        super(Model, self).__init__()\n",
    "        \n",
    "        h1 = 64\n",
    "        h2 = 32\n",
    "        hd = 32\n",
    "        \n",
    "        voc_size = embedding_matrix.shape[0]\n",
    "        ft_size = embedding_matrix.shape[1]\n",
    "        \n",
    "        self.embedding = nn.Embedding(voc_size, ft_size)\n",
    "        self.embedding.weight = nn.Parameter(torch.tensor(embedding_matrix, dtype=torch.float32))\n",
    "        self.embedding.weight.requires_grad = False\n",
    "        self.noise = Noise(stddev=0.05)\n",
    "        \n",
    "        self.lstm = nn.LSTM(embedding_matrix.shape[1], 2*h1, batch_first=True)\n",
    "        self.gru = nn.GRU(2*h1, 2*h2, batch_first=True)\n",
    "        \n",
    "        self.lstm_att = Attention(2*h1, max_len)\n",
    "        self.gru_att = Attention(2*h2, max_len)\n",
    "        \n",
    "        self.dropout = nn.Dropout(0.1)\n",
    "        self.linear = nn.Linear(6*(h1+h2) + nb_features, hd)\n",
    "        self.relu = nn.ReLU()\n",
    "        self.bn = nn.BatchNorm1d(hd, momentum=0.5)\n",
    "        self.out = nn.Linear(hd, 1)"
   ]
  },
  {
   "cell_type": "code",
   "execution_count": 63,
   "metadata": {
    "slideshow": {
     "slide_type": "subslide"
    }
   },
   "outputs": [],
   "source": [
    "    def forward(self, x, ft):\n",
    "        embed = self.embedding(x)\n",
    "        \n",
    "        if self.training: \n",
    "            embed = torch.squeeze(self.noise(torch.unsqueeze(embed, 0)))\n",
    "        \n",
    "        lstm, _ = self.lstm(embed)\n",
    "        gru, _ = self.gru(lstm)\n",
    "        \n",
    "        att1 = self.lstm_att(lstm)\n",
    "        att2 = self.gru_att(gru)\n",
    "        \n",
    "        avg_pool1 = torch.mean(lstm, 1)\n",
    "        avg_pool2 = torch.mean(gru, 1)\n",
    "        max_pool1, _ = torch.max(lstm, 1)\n",
    "        max_pool2, _ = torch.max(gru, 1)\n",
    "        \n",
    "        conc = torch.cat((att1, avg_pool1, max_pool1, att2, avg_pool2, max_pool2, ft), 1)\n",
    "        conc = self.dropout(conc)\n",
    "        conc = self.bn(self.relu(self.linear(conc)))\n",
    "        conc = self.dropout(conc)\n",
    "        out = self.out(conc)\n",
    "        \n",
    "        return out"
   ]
  },
  {
   "cell_type": "code",
   "execution_count": 64,
   "metadata": {
    "_uuid": "c0815521236eed44c8b76de313e1ff6a60024f58",
    "slideshow": {
     "slide_type": "skip"
    }
   },
   "outputs": [],
   "source": [
    "class Model(nn.Module):\n",
    "    def __init__(self, embedding_matrix):\n",
    "        super(Model, self).__init__()\n",
    "        \n",
    "        h1 = 64\n",
    "        h2 = 32\n",
    "        hd = 32\n",
    "        \n",
    "        self.embedding = nn.Embedding(embedding_matrix.shape[0], embedding_matrix.shape[1])\n",
    "        self.embedding.weight = nn.Parameter(torch.tensor(embedding_matrix, dtype=torch.float32))\n",
    "        self.embedding.weight.requires_grad = False\n",
    "        self.noise = Noise(stddev=0.05)\n",
    "        \n",
    "        self.lstm = nn.LSTM(embedding_matrix.shape[1], 2*h1, batch_first=True)\n",
    "        self.gru = nn.GRU(2*h1, 2*h2, batch_first=True)\n",
    "        \n",
    "        self.lstm_att = Attention(2*h1, max_len)\n",
    "        self.gru_att = Attention(2*h2, max_len)\n",
    "        \n",
    "        self.dropout = nn.Dropout(0.1)\n",
    "        self.linear = nn.Linear(6*(h1+h2) + nb_features, hd)\n",
    "        self.relu = nn.ReLU()\n",
    "        self.bn = nn.BatchNorm1d(hd, momentum=0.5)\n",
    "        self.out = nn.Linear(hd, 1)\n",
    "    \n",
    "    def forward(self, x, ft):\n",
    "        embed = self.embedding(x)\n",
    "        \n",
    "        if self.training: \n",
    "            embed = torch.squeeze(self.noise(torch.unsqueeze(embed, 0)))\n",
    "        \n",
    "        lstm, _ = self.lstm(embed)\n",
    "        gru, _ = self.gru(lstm)\n",
    "        \n",
    "        att1 = self.lstm_att(lstm)\n",
    "        att2 = self.gru_att(gru)\n",
    "        \n",
    "        avg_pool1 = torch.mean(lstm, 1)\n",
    "        avg_pool2 = torch.mean(gru, 1)\n",
    "        max_pool1, _ = torch.max(lstm, 1)\n",
    "        max_pool2, _ = torch.max(gru, 1)\n",
    "        \n",
    "        conc = torch.cat((att1, avg_pool1, max_pool1, att2, avg_pool2, max_pool2, ft), 1)\n",
    "        conc = self.dropout(conc)\n",
    "        conc = self.bn(self.relu(self.linear(conc)))\n",
    "        conc = self.dropout(conc)\n",
    "        out = self.out(conc)\n",
    "        \n",
    "        return out"
   ]
  },
  {
   "cell_type": "markdown",
   "metadata": {
    "_uuid": "6ef6ada77fc3f425e1b68544aa35862c0ee94127",
    "slideshow": {
     "slide_type": "subslide"
    }
   },
   "source": [
    "## Learning rate"
   ]
  },
  {
   "cell_type": "code",
   "execution_count": 65,
   "metadata": {
    "_kg_hide-input": true,
    "_uuid": "6a4f4f82796d3cb04219187c4b5a2872f75376f6",
    "slideshow": {
     "slide_type": "fragment"
    }
   },
   "outputs": [],
   "source": [
    "def get_lr(epoch):\n",
    "    if epoch <= 3:\n",
    "        return 0.001\n",
    "    else:\n",
    "        return 0.0005"
   ]
  },
  {
   "cell_type": "markdown",
   "metadata": {
    "_uuid": "80580a6745b44b8b63ab725672c8ffafbab57e75",
    "slideshow": {
     "slide_type": "skip"
    }
   },
   "source": [
    "# Modeling Tools"
   ]
  },
  {
   "cell_type": "markdown",
   "metadata": {
    "_uuid": "748abb0219f4f6c2a46947a9ccac9bd51fcbce75",
    "slideshow": {
     "slide_type": "skip"
    }
   },
   "source": [
    "## Tweak Threshold"
   ]
  },
  {
   "cell_type": "code",
   "execution_count": 66,
   "metadata": {
    "_kg_hide-input": true,
    "_uuid": "5db4fe3e720364fe2452a196d4803bcab86efe7d",
    "slideshow": {
     "slide_type": "skip"
    }
   },
   "outputs": [],
   "source": [
    "def tweak_threshold(train_preds, y_train):\n",
    "    tmp = [0,0,0] # idx, cur, max\n",
    "    delta = 0\n",
    "    for tmp[0] in np.arange(0.1, 0.501, 0.01):\n",
    "        tmp[1] = f1_score(y_train, np.array(train_preds)>tmp[0])\n",
    "        if tmp[1] > tmp[2]:\n",
    "            delta = tmp[0]\n",
    "            tmp[2] = tmp[1]\n",
    "    return tmp[2], delta"
   ]
  },
  {
   "cell_type": "markdown",
   "metadata": {
    "_uuid": "3a0989dc4c8b885cdd1a18ac2783241613d9d144",
    "slideshow": {
     "slide_type": "skip"
    }
   },
   "source": [
    "## Fit"
   ]
  },
  {
   "cell_type": "code",
   "execution_count": 67,
   "metadata": {
    "_kg_hide-input": true,
    "_uuid": "c37d78d7fa35b10f306805babcfa76e918c97529",
    "slideshow": {
     "slide_type": "skip"
    }
   },
   "outputs": [],
   "source": [
    "def fit(model, train_dataset, val_dataset, epochs=5, batch_size=512, verbose=5):\n",
    "    best_loss = 1000\n",
    "    model\n",
    "    loss_fn = torch.nn.BCEWithLogitsLoss(reduction='sum')\n",
    "    optimizer = torch.optim.Adam(filter(lambda p: p.requires_grad, model.parameters()), lr=0.001)\n",
    "        \n",
    " \n",
    "    train_loader = torch.utils.data.DataLoader(train_dataset, batch_size=batch_size, collate_fn=to_tensor, shuffle=True)\n",
    "    val_loader = torch.utils.data.DataLoader(val_dataset, batch_size=batch_size, collate_fn=to_tensor, shuffle=False)\n",
    "\n",
    "    for epoch in range(epochs):\n",
    "        model.train()\n",
    "        avg_loss = 0\n",
    "        start_time = time.time()  \n",
    "            \n",
    "        try:\n",
    "            scheduler.batch_step()\n",
    "        except: \n",
    "            lr = get_lr(epoch)\n",
    "            for param_group in optimizer.param_groups:\n",
    "                param_group['lr'] = lr\n",
    "        \n",
    "        for x, ft, y_batch in train_loader:\n",
    "            optimizer.zero_grad()\n",
    "            y_pred = model(x, ft).squeeze()\n",
    "            loss = loss_fn(y_pred, y_batch)\n",
    "            loss.backward()\n",
    "            optimizer.step()\n",
    "            avg_loss += loss.item() / len(train_dataset)\n",
    "    \n",
    "        model.eval()\n",
    "        \n",
    "        avg_val_loss = 0.\n",
    "        \n",
    "        temp_preds = []\n",
    "        temp_truths = []\n",
    "        for x, ft, y_batch in val_loader:\n",
    "            y_pred = model(x, ft).squeeze().detach()\n",
    "            avg_val_loss += loss_fn(y_pred, y_batch).item() / len(val_dataset)\n",
    "\n",
    "        elapsed_time = time.time() - start_time    \n",
    "        if (epoch + 1) % verbose == 0:\n",
    "            elapsed_time = elapsed_time * verbose\n",
    "            print('Epoch {}/{} \\t lr={} \\t loss={:.4f} \\t val_loss={:.4f} \\t time={:.2f}s'.format(epoch+1, epochs, lr, avg_loss, avg_val_loss, elapsed_time))"
   ]
  },
  {
   "cell_type": "markdown",
   "metadata": {
    "_uuid": "25c55fca688b6b988c72bc368d595dc0cc927533",
    "slideshow": {
     "slide_type": "skip"
    }
   },
   "source": [
    "## Predict"
   ]
  },
  {
   "cell_type": "code",
   "execution_count": 68,
   "metadata": {
    "_kg_hide-input": true,
    "_uuid": "7185f2ee89813b7c279567439fb6448adc988e6e",
    "slideshow": {
     "slide_type": "skip"
    }
   },
   "outputs": [],
   "source": [
    "def predict(dataset, model, batch_size=2048):\n",
    "    y = np.array([])\n",
    "    loader = torch.utils.data.DataLoader(dataset, batch_size=batch_size, collate_fn=to_tensor, shuffle=False)\n",
    "    for x, ft, target in loader:\n",
    "        y = np.concatenate((y, sigmoid(model(x, ft).detach().cpu().squeeze().numpy())))\n",
    "    return y"
   ]
  },
  {
   "cell_type": "markdown",
   "metadata": {
    "_uuid": "5388fcfcb1e485f77cb725f0ca32612adad05905",
    "slideshow": {
     "slide_type": "skip"
    }
   },
   "source": [
    "## $k$-fold"
   ]
  },
  {
   "cell_type": "code",
   "execution_count": 69,
   "metadata": {
    "slideshow": {
     "slide_type": "skip"
    }
   },
   "outputs": [],
   "source": [
    "def k_fold(model_class, embed, x, ft, y, x_test, ft_test, y_test, \n",
    "           k=5, batch_size=512, epochs=5, seed=2019, verbose=1):\n",
    "    \n",
    "    splits = list(StratifiedKFold(n_splits=k, shuffle=True, random_state=seed).split(x, y))\n",
    "    \n",
    "    pred_test = np.zeros(y_test.shape[0])\n",
    "    pred_oof = np.zeros(y.shape[0])\n",
    "    \n",
    "    for i, (train_idx, val_idx) in enumerate(splits):\n",
    "        print(f\"-------------   Fold {i+1}  ------------- \\n\")\n",
    "        seed_everything(seed + i)\n",
    "        start_time = time.time()\n",
    "        \n",
    "        model = model_class(embed)\n",
    "        \n",
    "        train_dataset = QuoraDataset(x[train_idx], ft[train_idx], y[train_idx])\n",
    "        val_dataset = QuoraDataset(x[val_idx], ft[val_idx], y[val_idx])\n",
    "        test_dataset = QuoraDataset(x_test, ft_test, y_test)\n",
    "        \n",
    "        fit(model, train_dataset, val_dataset, epochs=epochs, batch_size=batch_size, verbose=verbose)\n",
    "        pred_val = predict(val_dataset, model)\n",
    "        pred_oof[val_idx] = pred_val\n",
    "        pred_test += predict(test_dataset, model) / k\n",
    "        \n",
    "        score, threshold = tweak_threshold(pred_val, y[val_idx])\n",
    "        \n",
    "        print(f\"\\n Scored {score :.4f} for threshold {threshold :.3f} on validation data\")\n",
    "        \n",
    "        print(f\"\\n    Done in {(time.time() - start_time) / 60 :.1f} minutes \\n\")\n",
    "        \n",
    "    return pred_test, pred_oof"
   ]
  },
  {
   "cell_type": "markdown",
   "metadata": {
    "_uuid": "a504bdc5306bd29b9b5f4ee453e515ecc1d1ffb4",
    "slideshow": {
     "slide_type": "slide"
    }
   },
   "source": [
    "# Training"
   ]
  },
  {
   "cell_type": "markdown",
   "metadata": {
    "slideshow": {
     "slide_type": "fragment"
    }
   },
   "source": [
    "- Folds : 5\n",
    "- Epochs : 4\n",
    "- Learning rates : 0.001 for the first 3 epochs, 0.0005 for the last one\n",
    "- Batch size : 512\n",
    "- Loss : Binary Crossentropy\n",
    "- Optimizer : Adam"
   ]
  },
  {
   "cell_type": "code",
   "execution_count": 70,
   "metadata": {
    "slideshow": {
     "slide_type": "subslide"
    }
   },
   "outputs": [
    {
     "name": "stdout",
     "output_type": "stream",
     "text": [
      "-------------   Fold 1  ------------- \n",
      "\n",
      "Epoch 1/4 \t lr=0.001 \t loss=0.4790 \t val_loss=0.2591 \t time=392.46s\n",
      "Epoch 2/4 \t lr=0.001 \t loss=0.1706 \t val_loss=0.1333 \t time=406.56s\n",
      "Epoch 3/4 \t lr=0.001 \t loss=0.1150 \t val_loss=0.1193 \t time=386.50s\n",
      "Epoch 4/4 \t lr=0.001 \t loss=0.0985 \t val_loss=0.1160 \t time=393.41s\n",
      "\n",
      " Scored 0.6223 for threshold 0.280 on validation data\n",
      "\n",
      "    Done in 37.5 minutes \n",
      "\n",
      "-------------   Fold 2  ------------- \n",
      "\n",
      "Epoch 1/4 \t lr=0.001 \t loss=0.5058 \t val_loss=0.3322 \t time=366.37s\n",
      "Epoch 2/4 \t lr=0.001 \t loss=0.1766 \t val_loss=0.1329 \t time=3239.23s\n",
      "Epoch 3/4 \t lr=0.001 \t loss=0.1176 \t val_loss=0.1144 \t time=1429.78s\n",
      "Epoch 4/4 \t lr=0.001 \t loss=0.0989 \t val_loss=0.1125 \t time=331.89s\n",
      "\n",
      " Scored 0.6421 for threshold 0.220 on validation data\n",
      "\n",
      "    Done in 98.9 minutes \n",
      "\n",
      "-------------   Fold 3  ------------- \n",
      "\n",
      "Epoch 1/4 \t lr=0.001 \t loss=0.4101 \t val_loss=0.2657 \t time=336.24s\n",
      "Epoch 2/4 \t lr=0.001 \t loss=0.1584 \t val_loss=0.1285 \t time=363.78s\n",
      "Epoch 3/4 \t lr=0.001 \t loss=0.1143 \t val_loss=0.1153 \t time=386.57s\n",
      "Epoch 4/4 \t lr=0.001 \t loss=0.0964 \t val_loss=0.1176 \t time=388.21s\n",
      "\n",
      " Scored 0.6339 for threshold 0.260 on validation data\n",
      "\n",
      "    Done in 35.2 minutes \n",
      "\n",
      "-------------   Fold 4  ------------- \n",
      "\n",
      "Epoch 1/4 \t lr=0.001 \t loss=0.4249 \t val_loss=0.2368 \t time=452.07s\n",
      "Epoch 2/4 \t lr=0.001 \t loss=0.1620 \t val_loss=0.1284 \t time=381.33s\n",
      "Epoch 3/4 \t lr=0.001 \t loss=0.1139 \t val_loss=0.1163 \t time=388.83s\n",
      "Epoch 4/4 \t lr=0.001 \t loss=0.0966 \t val_loss=0.1169 \t time=402.04s\n",
      "\n",
      " Scored 0.6450 for threshold 0.290 on validation data\n",
      "\n",
      "    Done in 38.2 minutes \n",
      "\n",
      "-------------   Fold 5  ------------- \n",
      "\n",
      "Epoch 1/4 \t lr=0.001 \t loss=0.4284 \t val_loss=0.2459 \t time=412.77s\n",
      "Epoch 2/4 \t lr=0.001 \t loss=0.1595 \t val_loss=0.1225 \t time=418.95s\n",
      "Epoch 3/4 \t lr=0.001 \t loss=0.1134 \t val_loss=0.1155 \t time=435.16s\n",
      "Epoch 4/4 \t lr=0.001 \t loss=0.0964 \t val_loss=0.1115 \t time=444.14s\n",
      "\n",
      " Scored 0.6451 for threshold 0.340 on validation data\n",
      "\n",
      "    Done in 40.0 minutes \n",
      "\n"
     ]
    }
   ],
   "source": [
    "pred_test, pred_oof= k_fold(Model, embed_concat, X_train, features_train, y_train, X_test, features_test, y_test, \n",
    "                            k=5, batch_size=512, epochs=4)"
   ]
  },
  {
   "cell_type": "markdown",
   "metadata": {
    "slideshow": {
     "slide_type": "subslide"
    }
   },
   "source": [
    "## Cross Validation Score"
   ]
  },
  {
   "cell_type": "code",
   "execution_count": 71,
   "metadata": {
    "slideshow": {
     "slide_type": "fragment"
    }
   },
   "outputs": [
    {
     "name": "stdout",
     "output_type": "stream",
     "text": [
      "Local CV is 0.6341 for threshold 0.280\n"
     ]
    }
   ],
   "source": [
    "score, threshold = tweak_threshold(pred_oof, y_train)\n",
    "\n",
    "print(f'Local CV is {score:.4f} for threshold {threshold:.3f}')"
   ]
  },
  {
   "cell_type": "markdown",
   "metadata": {
    "_uuid": "f55d1ca0b7fb2feb45f2e837ace8febd4d0afac7",
    "slideshow": {
     "slide_type": "subslide"
    }
   },
   "source": [
    "## Test prediction"
   ]
  },
  {
   "cell_type": "code",
   "execution_count": 72,
   "metadata": {
    "_uuid": "52c1b020bf4a928e8bf0c4956b47d9e75b113ef5",
    "slideshow": {
     "slide_type": "fragment"
    }
   },
   "outputs": [],
   "source": [
    "label_test = (pred_test > threshold).astype(int)"
   ]
  },
  {
   "cell_type": "code",
   "execution_count": 73,
   "metadata": {
    "slideshow": {
     "slide_type": "fragment"
    }
   },
   "outputs": [
    {
     "name": "stdout",
     "output_type": "stream",
     "text": [
      "Why do so many women become so rude and arrogant when they get just a little bit of wealth and power ?\n",
      "Labelled 1\n",
      "\n",
      "When should I apply for RV college of engineering and BMS college of engineering ? Should I wait for the CoMEDK result or am I supposed to apply before the result ?\n",
      "Labelled 0\n",
      "\n",
      "What is it really like to be a nurse practitioner ?\n",
      "Labelled 0\n",
      "\n",
      "Who are entrepreneurs ?\n",
      "Labelled 0\n",
      "\n",
      "Is education really making good people nowadays ?\n",
      "Labelled 0\n",
      "\n"
     ]
    }
   ],
   "source": [
    "for l, q in zip(test_df[\"question_text\"][:5], label_test[:5]):\n",
    "    print(l)\n",
    "    print(f'Labelled {q}')\n",
    "    print('')"
   ]
  },
  {
   "cell_type": "code",
   "execution_count": 74,
   "metadata": {
    "_uuid": "c90fb4a4ef1b3b2ea06563a6901deac1b38822f3",
    "slideshow": {
     "slide_type": "skip"
    }
   },
   "outputs": [],
   "source": [
    "output = pd.DataFrame({\"qid\": test_df[\"qid\"].values})\n",
    "output['prediction'] = label_test\n",
    "output.to_csv(\"submission.csv\", index=False)"
   ]
  },
  {
   "cell_type": "code",
   "execution_count": 75,
   "metadata": {
    "_uuid": "60641a068ca9abe28ff6f5d16d38afe3d6d01636",
    "slideshow": {
     "slide_type": "skip"
    }
   },
   "outputs": [
    {
     "data": {
      "text/html": [
       "<div>\n",
       "<style scoped>\n",
       "    .dataframe tbody tr th:only-of-type {\n",
       "        vertical-align: middle;\n",
       "    }\n",
       "\n",
       "    .dataframe tbody tr th {\n",
       "        vertical-align: top;\n",
       "    }\n",
       "\n",
       "    .dataframe thead th {\n",
       "        text-align: right;\n",
       "    }\n",
       "</style>\n",
       "<table border=\"1\" class=\"dataframe\">\n",
       "  <thead>\n",
       "    <tr style=\"text-align: right;\">\n",
       "      <th></th>\n",
       "      <th>qid</th>\n",
       "      <th>prediction</th>\n",
       "    </tr>\n",
       "  </thead>\n",
       "  <tbody>\n",
       "    <tr>\n",
       "      <th>0</th>\n",
       "      <td>0000163e3ea7c7a74cd7</td>\n",
       "      <td>1</td>\n",
       "    </tr>\n",
       "    <tr>\n",
       "      <th>1</th>\n",
       "      <td>00002bd4fb5d505b9161</td>\n",
       "      <td>0</td>\n",
       "    </tr>\n",
       "    <tr>\n",
       "      <th>2</th>\n",
       "      <td>00007756b4a147d2b0b3</td>\n",
       "      <td>0</td>\n",
       "    </tr>\n",
       "    <tr>\n",
       "      <th>3</th>\n",
       "      <td>000086e4b7e1c7146103</td>\n",
       "      <td>0</td>\n",
       "    </tr>\n",
       "    <tr>\n",
       "      <th>4</th>\n",
       "      <td>0000c4c3fbe8785a3090</td>\n",
       "      <td>0</td>\n",
       "    </tr>\n",
       "  </tbody>\n",
       "</table>\n",
       "</div>"
      ],
      "text/plain": [
       "                    qid  prediction\n",
       "0  0000163e3ea7c7a74cd7           1\n",
       "1  00002bd4fb5d505b9161           0\n",
       "2  00007756b4a147d2b0b3           0\n",
       "3  000086e4b7e1c7146103           0\n",
       "4  0000c4c3fbe8785a3090           0"
      ]
     },
     "execution_count": 75,
     "metadata": {},
     "output_type": "execute_result"
    }
   ],
   "source": [
    "output.head()"
   ]
  },
  {
   "cell_type": "code",
   "execution_count": 76,
   "metadata": {
    "_uuid": "bf23080c7d4f6508617b98043a972f0f12c64c37",
    "slideshow": {
     "slide_type": "skip"
    }
   },
   "outputs": [
    {
     "name": "stdout",
     "output_type": "stream",
     "text": [
      "Ended in 258.3 minutes\n"
     ]
    }
   ],
   "source": [
    "print(f\"Ended in {(time.time() - begin) / 60 :.1f} minutes\")"
   ]
  },
  {
   "cell_type": "markdown",
   "metadata": {
    "slideshow": {
     "slide_type": "subslide"
    }
   },
   "source": [
    "https://www.kaggle.com/theoviel/fork-of-quora-cv-framework-2dba88?scriptVersionId=10265482"
   ]
  },
  {
   "cell_type": "markdown",
   "metadata": {
    "slideshow": {
     "slide_type": "subslide"
    }
   },
   "source": [
    "<img src=\"../img/score.png\">"
   ]
  },
  {
   "cell_type": "markdown",
   "metadata": {
    "slideshow": {
     "slide_type": "slide"
    }
   },
   "source": [
    "**The end.**"
   ]
  },
  {
   "cell_type": "markdown",
   "metadata": {
    "slideshow": {
     "slide_type": "fragment"
    }
   },
   "source": [
    "https://www.kaggle.com/c/jigsaw-unintended-bias-in-toxicity-classification"
   ]
  }
 ],
 "metadata": {
  "celltoolbar": "Slideshow",
  "kernelspec": {
   "display_name": "Python 3",
   "language": "python",
   "name": "python3"
  },
  "language_info": {
   "codemirror_mode": {
    "name": "ipython",
    "version": 3
   },
   "file_extension": ".py",
   "mimetype": "text/x-python",
   "name": "python",
   "nbconvert_exporter": "python",
   "pygments_lexer": "ipython3",
   "version": "3.7.1"
  },
  "toc": {
   "base_numbering": 1,
   "nav_menu": {},
   "number_sections": true,
   "sideBar": true,
   "skip_h1_title": false,
   "title_cell": "Table of Contents",
   "title_sidebar": "Contents",
   "toc_cell": false,
   "toc_position": {},
   "toc_section_display": true,
   "toc_window_display": false
  }
 },
 "nbformat": 4,
 "nbformat_minor": 1
}
